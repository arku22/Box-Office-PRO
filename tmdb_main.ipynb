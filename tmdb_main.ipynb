{
 "cells": [
  {
   "cell_type": "code",
   "execution_count": 1,
   "metadata": {},
   "outputs": [],
   "source": [
    "import pandas as pd\n",
    "import numpy as np\n",
    "from matplotlib import pyplot as plt\n",
    "import seaborn as sns\n",
    "\n",
    "from sklearn.linear_model import LinearRegression\n",
    "from sklearn.preprocessing import LabelEncoder\n",
    "from sklearn.ensemble import RandomForestRegressor\n",
    "import lightgbm as lgb\n",
    "from xgboost import XGBRegressor\n",
    "from sklearn.model_selection import KFold\n",
    "from sklearn.metrics import mean_squared_error"
   ]
  },
  {
   "cell_type": "code",
   "execution_count": 2,
   "metadata": {},
   "outputs": [
    {
     "name": "stdout",
     "output_type": "stream",
     "text": [
      "train shape = (3000, 23)\n",
      "test shape = (4398, 22)\n"
     ]
    }
   ],
   "source": [
    "train = pd.read_csv('train.csv', parse_dates=['release_date'])\n",
    "test = pd.read_csv('test.csv', parse_dates=['release_date'])\n",
    "submission = pd.read_csv('sample_submission.csv')\n",
    "print('train shape = ' + str(train.shape))\n",
    "print('test shape = ' + str(test.shape))"
   ]
  },
  {
   "cell_type": "code",
   "execution_count": 3,
   "metadata": {},
   "outputs": [
    {
     "data": {
      "text/html": [
       "<div>\n",
       "<style scoped>\n",
       "    .dataframe tbody tr th:only-of-type {\n",
       "        vertical-align: middle;\n",
       "    }\n",
       "\n",
       "    .dataframe tbody tr th {\n",
       "        vertical-align: top;\n",
       "    }\n",
       "\n",
       "    .dataframe thead th {\n",
       "        text-align: right;\n",
       "    }\n",
       "</style>\n",
       "<table border=\"1\" class=\"dataframe\">\n",
       "  <thead>\n",
       "    <tr style=\"text-align: right;\">\n",
       "      <th></th>\n",
       "      <th>id</th>\n",
       "      <th>belongs_to_collection</th>\n",
       "      <th>budget</th>\n",
       "      <th>genres</th>\n",
       "      <th>homepage</th>\n",
       "      <th>imdb_id</th>\n",
       "      <th>original_language</th>\n",
       "      <th>original_title</th>\n",
       "      <th>overview</th>\n",
       "      <th>popularity</th>\n",
       "      <th>...</th>\n",
       "      <th>release_date</th>\n",
       "      <th>runtime</th>\n",
       "      <th>spoken_languages</th>\n",
       "      <th>status</th>\n",
       "      <th>tagline</th>\n",
       "      <th>title</th>\n",
       "      <th>Keywords</th>\n",
       "      <th>cast</th>\n",
       "      <th>crew</th>\n",
       "      <th>revenue</th>\n",
       "    </tr>\n",
       "  </thead>\n",
       "  <tbody>\n",
       "    <tr>\n",
       "      <th>0</th>\n",
       "      <td>1</td>\n",
       "      <td>[{'id': 313576, 'name': 'Hot Tub Time Machine ...</td>\n",
       "      <td>14000000</td>\n",
       "      <td>[{'id': 35, 'name': 'Comedy'}]</td>\n",
       "      <td>NaN</td>\n",
       "      <td>tt2637294</td>\n",
       "      <td>en</td>\n",
       "      <td>Hot Tub Time Machine 2</td>\n",
       "      <td>When Lou, who has become the \"father of the In...</td>\n",
       "      <td>6.575393</td>\n",
       "      <td>...</td>\n",
       "      <td>2015-02-20</td>\n",
       "      <td>93.0</td>\n",
       "      <td>[{'iso_639_1': 'en', 'name': 'English'}]</td>\n",
       "      <td>Released</td>\n",
       "      <td>The Laws of Space and Time are About to be Vio...</td>\n",
       "      <td>Hot Tub Time Machine 2</td>\n",
       "      <td>[{'id': 4379, 'name': 'time travel'}, {'id': 9...</td>\n",
       "      <td>[{'cast_id': 4, 'character': 'Lou', 'credit_id...</td>\n",
       "      <td>[{'credit_id': '59ac067c92514107af02c8c8', 'de...</td>\n",
       "      <td>12314651</td>\n",
       "    </tr>\n",
       "    <tr>\n",
       "      <th>1</th>\n",
       "      <td>2</td>\n",
       "      <td>[{'id': 107674, 'name': 'The Princess Diaries ...</td>\n",
       "      <td>40000000</td>\n",
       "      <td>[{'id': 35, 'name': 'Comedy'}, {'id': 18, 'nam...</td>\n",
       "      <td>NaN</td>\n",
       "      <td>tt0368933</td>\n",
       "      <td>en</td>\n",
       "      <td>The Princess Diaries 2: Royal Engagement</td>\n",
       "      <td>Mia Thermopolis is now a college graduate and ...</td>\n",
       "      <td>8.248895</td>\n",
       "      <td>...</td>\n",
       "      <td>2004-08-06</td>\n",
       "      <td>113.0</td>\n",
       "      <td>[{'iso_639_1': 'en', 'name': 'English'}]</td>\n",
       "      <td>Released</td>\n",
       "      <td>It can take a lifetime to find true love; she'...</td>\n",
       "      <td>The Princess Diaries 2: Royal Engagement</td>\n",
       "      <td>[{'id': 2505, 'name': 'coronation'}, {'id': 42...</td>\n",
       "      <td>[{'cast_id': 1, 'character': 'Mia Thermopolis'...</td>\n",
       "      <td>[{'credit_id': '52fe43fe9251416c7502563d', 'de...</td>\n",
       "      <td>95149435</td>\n",
       "    </tr>\n",
       "    <tr>\n",
       "      <th>2</th>\n",
       "      <td>3</td>\n",
       "      <td>NaN</td>\n",
       "      <td>3300000</td>\n",
       "      <td>[{'id': 18, 'name': 'Drama'}]</td>\n",
       "      <td>http://sonyclassics.com/whiplash/</td>\n",
       "      <td>tt2582802</td>\n",
       "      <td>en</td>\n",
       "      <td>Whiplash</td>\n",
       "      <td>Under the direction of a ruthless instructor, ...</td>\n",
       "      <td>64.299990</td>\n",
       "      <td>...</td>\n",
       "      <td>2014-10-10</td>\n",
       "      <td>105.0</td>\n",
       "      <td>[{'iso_639_1': 'en', 'name': 'English'}]</td>\n",
       "      <td>Released</td>\n",
       "      <td>The road to greatness can take you to the edge.</td>\n",
       "      <td>Whiplash</td>\n",
       "      <td>[{'id': 1416, 'name': 'jazz'}, {'id': 1523, 'n...</td>\n",
       "      <td>[{'cast_id': 5, 'character': 'Andrew Neimann',...</td>\n",
       "      <td>[{'credit_id': '54d5356ec3a3683ba0000039', 'de...</td>\n",
       "      <td>13092000</td>\n",
       "    </tr>\n",
       "    <tr>\n",
       "      <th>3</th>\n",
       "      <td>4</td>\n",
       "      <td>NaN</td>\n",
       "      <td>1200000</td>\n",
       "      <td>[{'id': 53, 'name': 'Thriller'}, {'id': 18, 'n...</td>\n",
       "      <td>http://kahaanithefilm.com/</td>\n",
       "      <td>tt1821480</td>\n",
       "      <td>hi</td>\n",
       "      <td>Kahaani</td>\n",
       "      <td>Vidya Bagchi (Vidya Balan) arrives in Kolkata ...</td>\n",
       "      <td>3.174936</td>\n",
       "      <td>...</td>\n",
       "      <td>2012-03-09</td>\n",
       "      <td>122.0</td>\n",
       "      <td>[{'iso_639_1': 'en', 'name': 'English'}, {'iso...</td>\n",
       "      <td>Released</td>\n",
       "      <td>NaN</td>\n",
       "      <td>Kahaani</td>\n",
       "      <td>[{'id': 10092, 'name': 'mystery'}, {'id': 1054...</td>\n",
       "      <td>[{'cast_id': 1, 'character': 'Vidya Bagchi', '...</td>\n",
       "      <td>[{'credit_id': '52fe48779251416c9108d6eb', 'de...</td>\n",
       "      <td>16000000</td>\n",
       "    </tr>\n",
       "    <tr>\n",
       "      <th>4</th>\n",
       "      <td>5</td>\n",
       "      <td>NaN</td>\n",
       "      <td>0</td>\n",
       "      <td>[{'id': 28, 'name': 'Action'}, {'id': 53, 'nam...</td>\n",
       "      <td>NaN</td>\n",
       "      <td>tt1380152</td>\n",
       "      <td>ko</td>\n",
       "      <td>마린보이</td>\n",
       "      <td>Marine Boy is the story of a former national s...</td>\n",
       "      <td>1.148070</td>\n",
       "      <td>...</td>\n",
       "      <td>2009-02-05</td>\n",
       "      <td>118.0</td>\n",
       "      <td>[{'iso_639_1': 'ko', 'name': '한국어/조선말'}]</td>\n",
       "      <td>Released</td>\n",
       "      <td>NaN</td>\n",
       "      <td>Marine Boy</td>\n",
       "      <td>NaN</td>\n",
       "      <td>[{'cast_id': 3, 'character': 'Chun-soo', 'cred...</td>\n",
       "      <td>[{'credit_id': '52fe464b9251416c75073b43', 'de...</td>\n",
       "      <td>3923970</td>\n",
       "    </tr>\n",
       "  </tbody>\n",
       "</table>\n",
       "<p>5 rows × 23 columns</p>\n",
       "</div>"
      ],
      "text/plain": [
       "   id                              belongs_to_collection    budget  \\\n",
       "0   1  [{'id': 313576, 'name': 'Hot Tub Time Machine ...  14000000   \n",
       "1   2  [{'id': 107674, 'name': 'The Princess Diaries ...  40000000   \n",
       "2   3                                                NaN   3300000   \n",
       "3   4                                                NaN   1200000   \n",
       "4   5                                                NaN         0   \n",
       "\n",
       "                                              genres  \\\n",
       "0                     [{'id': 35, 'name': 'Comedy'}]   \n",
       "1  [{'id': 35, 'name': 'Comedy'}, {'id': 18, 'nam...   \n",
       "2                      [{'id': 18, 'name': 'Drama'}]   \n",
       "3  [{'id': 53, 'name': 'Thriller'}, {'id': 18, 'n...   \n",
       "4  [{'id': 28, 'name': 'Action'}, {'id': 53, 'nam...   \n",
       "\n",
       "                            homepage    imdb_id original_language  \\\n",
       "0                                NaN  tt2637294                en   \n",
       "1                                NaN  tt0368933                en   \n",
       "2  http://sonyclassics.com/whiplash/  tt2582802                en   \n",
       "3         http://kahaanithefilm.com/  tt1821480                hi   \n",
       "4                                NaN  tt1380152                ko   \n",
       "\n",
       "                             original_title  \\\n",
       "0                    Hot Tub Time Machine 2   \n",
       "1  The Princess Diaries 2: Royal Engagement   \n",
       "2                                  Whiplash   \n",
       "3                                   Kahaani   \n",
       "4                                      마린보이   \n",
       "\n",
       "                                            overview  popularity  ...  \\\n",
       "0  When Lou, who has become the \"father of the In...    6.575393  ...   \n",
       "1  Mia Thermopolis is now a college graduate and ...    8.248895  ...   \n",
       "2  Under the direction of a ruthless instructor, ...   64.299990  ...   \n",
       "3  Vidya Bagchi (Vidya Balan) arrives in Kolkata ...    3.174936  ...   \n",
       "4  Marine Boy is the story of a former national s...    1.148070  ...   \n",
       "\n",
       "  release_date runtime                                   spoken_languages  \\\n",
       "0   2015-02-20    93.0           [{'iso_639_1': 'en', 'name': 'English'}]   \n",
       "1   2004-08-06   113.0           [{'iso_639_1': 'en', 'name': 'English'}]   \n",
       "2   2014-10-10   105.0           [{'iso_639_1': 'en', 'name': 'English'}]   \n",
       "3   2012-03-09   122.0  [{'iso_639_1': 'en', 'name': 'English'}, {'iso...   \n",
       "4   2009-02-05   118.0           [{'iso_639_1': 'ko', 'name': '한국어/조선말'}]   \n",
       "\n",
       "     status                                            tagline  \\\n",
       "0  Released  The Laws of Space and Time are About to be Vio...   \n",
       "1  Released  It can take a lifetime to find true love; she'...   \n",
       "2  Released    The road to greatness can take you to the edge.   \n",
       "3  Released                                                NaN   \n",
       "4  Released                                                NaN   \n",
       "\n",
       "                                      title  \\\n",
       "0                    Hot Tub Time Machine 2   \n",
       "1  The Princess Diaries 2: Royal Engagement   \n",
       "2                                  Whiplash   \n",
       "3                                   Kahaani   \n",
       "4                                Marine Boy   \n",
       "\n",
       "                                            Keywords  \\\n",
       "0  [{'id': 4379, 'name': 'time travel'}, {'id': 9...   \n",
       "1  [{'id': 2505, 'name': 'coronation'}, {'id': 42...   \n",
       "2  [{'id': 1416, 'name': 'jazz'}, {'id': 1523, 'n...   \n",
       "3  [{'id': 10092, 'name': 'mystery'}, {'id': 1054...   \n",
       "4                                                NaN   \n",
       "\n",
       "                                                cast  \\\n",
       "0  [{'cast_id': 4, 'character': 'Lou', 'credit_id...   \n",
       "1  [{'cast_id': 1, 'character': 'Mia Thermopolis'...   \n",
       "2  [{'cast_id': 5, 'character': 'Andrew Neimann',...   \n",
       "3  [{'cast_id': 1, 'character': 'Vidya Bagchi', '...   \n",
       "4  [{'cast_id': 3, 'character': 'Chun-soo', 'cred...   \n",
       "\n",
       "                                                crew   revenue  \n",
       "0  [{'credit_id': '59ac067c92514107af02c8c8', 'de...  12314651  \n",
       "1  [{'credit_id': '52fe43fe9251416c7502563d', 'de...  95149435  \n",
       "2  [{'credit_id': '54d5356ec3a3683ba0000039', 'de...  13092000  \n",
       "3  [{'credit_id': '52fe48779251416c9108d6eb', 'de...  16000000  \n",
       "4  [{'credit_id': '52fe464b9251416c75073b43', 'de...   3923970  \n",
       "\n",
       "[5 rows x 23 columns]"
      ]
     },
     "execution_count": 3,
     "metadata": {},
     "output_type": "execute_result"
    }
   ],
   "source": [
    "train.head()"
   ]
  },
  {
   "cell_type": "code",
   "execution_count": 6,
   "metadata": {},
   "outputs": [
    {
     "data": {
      "text/plain": [
       "['id',\n",
       " 'belongs_to_collection',\n",
       " 'budget',\n",
       " 'genres',\n",
       " 'homepage',\n",
       " 'imdb_id',\n",
       " 'original_language',\n",
       " 'original_title',\n",
       " 'overview',\n",
       " 'popularity',\n",
       " 'poster_path',\n",
       " 'production_companies',\n",
       " 'production_countries',\n",
       " 'release_date',\n",
       " 'runtime',\n",
       " 'spoken_languages',\n",
       " 'status',\n",
       " 'tagline',\n",
       " 'title',\n",
       " 'Keywords',\n",
       " 'cast',\n",
       " 'crew',\n",
       " 'revenue']"
      ]
     },
     "execution_count": 6,
     "metadata": {},
     "output_type": "execute_result"
    }
   ],
   "source": [
    "list(train.columns)"
   ]
  },
  {
   "cell_type": "code",
   "execution_count": 8,
   "metadata": {},
   "outputs": [
    {
     "data": {
      "text/plain": [
       "2396"
      ]
     },
     "execution_count": 8,
     "metadata": {},
     "output_type": "execute_result"
    }
   ],
   "source": [
    "train.belongs_to_collection.isnull().sum()"
   ]
  },
  {
   "cell_type": "code",
   "execution_count": 9,
   "metadata": {},
   "outputs": [
    {
     "data": {
      "text/plain": [
       "0"
      ]
     },
     "execution_count": 9,
     "metadata": {},
     "output_type": "execute_result"
    }
   ],
   "source": [
    "train.budget.isnull().sum()"
   ]
  },
  {
   "cell_type": "code",
   "execution_count": 5,
   "metadata": {},
   "outputs": [
    {
     "data": {
      "text/plain": [
       "\"[{'id': 313576, 'name': 'Hot Tub Time Machine Collection', 'poster_path': '/iEhb00TGPucF0b4joM1ieyY026U.jpg', 'backdrop_path': '/noeTVcgpBiD48fDjFVic1Vz7ope.jpg'}]\""
      ]
     },
     "execution_count": 5,
     "metadata": {},
     "output_type": "execute_result"
    }
   ],
   "source": [
    "train['belongs_to_collection'][0]"
   ]
  },
  {
   "cell_type": "code",
   "execution_count": 3,
   "metadata": {},
   "outputs": [
    {
     "name": "stdout",
     "output_type": "stream",
     "text": [
      "<class 'pandas.core.frame.DataFrame'>\n",
      "RangeIndex: 3000 entries, 0 to 2999\n",
      "Data columns (total 23 columns):\n",
      "id                       3000 non-null int64\n",
      "belongs_to_collection    604 non-null object\n",
      "budget                   3000 non-null int64\n",
      "genres                   2993 non-null object\n",
      "homepage                 946 non-null object\n",
      "imdb_id                  3000 non-null object\n",
      "original_language        3000 non-null object\n",
      "original_title           3000 non-null object\n",
      "overview                 2992 non-null object\n",
      "popularity               3000 non-null float64\n",
      "poster_path              2999 non-null object\n",
      "production_companies     2844 non-null object\n",
      "production_countries     2945 non-null object\n",
      "release_date             3000 non-null datetime64[ns]\n",
      "runtime                  2998 non-null float64\n",
      "spoken_languages         2980 non-null object\n",
      "status                   3000 non-null object\n",
      "tagline                  2403 non-null object\n",
      "title                    3000 non-null object\n",
      "Keywords                 2724 non-null object\n",
      "cast                     2987 non-null object\n",
      "crew                     2984 non-null object\n",
      "revenue                  3000 non-null int64\n",
      "dtypes: datetime64[ns](1), float64(2), int64(3), object(17)\n",
      "memory usage: 539.2+ KB\n"
     ]
    }
   ],
   "source": [
    "train.info()"
   ]
  },
  {
   "cell_type": "code",
   "execution_count": 4,
   "metadata": {},
   "outputs": [
    {
     "name": "stdout",
     "output_type": "stream",
     "text": [
      "<class 'pandas.core.frame.DataFrame'>\n",
      "RangeIndex: 4398 entries, 0 to 4397\n",
      "Data columns (total 22 columns):\n",
      "id                       4398 non-null int64\n",
      "belongs_to_collection    877 non-null object\n",
      "budget                   4398 non-null int64\n",
      "genres                   4382 non-null object\n",
      "homepage                 1420 non-null object\n",
      "imdb_id                  4398 non-null object\n",
      "original_language        4398 non-null object\n",
      "original_title           4398 non-null object\n",
      "overview                 4384 non-null object\n",
      "popularity               4398 non-null float64\n",
      "poster_path              4397 non-null object\n",
      "production_companies     4140 non-null object\n",
      "production_countries     4296 non-null object\n",
      "release_date             4397 non-null datetime64[ns]\n",
      "runtime                  4394 non-null float64\n",
      "spoken_languages         4356 non-null object\n",
      "status                   4396 non-null object\n",
      "tagline                  3535 non-null object\n",
      "title                    4395 non-null object\n",
      "Keywords                 4005 non-null object\n",
      "cast                     4385 non-null object\n",
      "crew                     4376 non-null object\n",
      "dtypes: datetime64[ns](1), float64(2), int64(2), object(17)\n",
      "memory usage: 756.0+ KB\n"
     ]
    }
   ],
   "source": [
    "test.info()"
   ]
  },
  {
   "cell_type": "code",
   "execution_count": 5,
   "metadata": {},
   "outputs": [
    {
     "name": "stdout",
     "output_type": "stream",
     "text": [
      "id = 0.00% missing.\n",
      "belongs_to_collection = 79.87% missing.\n",
      "budget = 0.00% missing.\n",
      "genres = 0.23% missing.\n",
      "homepage = 68.47% missing.\n",
      "imdb_id = 0.00% missing.\n",
      "original_language = 0.00% missing.\n",
      "original_title = 0.00% missing.\n",
      "overview = 0.27% missing.\n",
      "popularity = 0.00% missing.\n",
      "poster_path = 0.03% missing.\n",
      "production_companies = 5.20% missing.\n",
      "production_countries = 1.83% missing.\n",
      "release_date = 0.00% missing.\n",
      "runtime = 0.07% missing.\n",
      "spoken_languages = 0.67% missing.\n",
      "status = 0.00% missing.\n",
      "tagline = 19.90% missing.\n",
      "title = 0.00% missing.\n",
      "Keywords = 9.20% missing.\n",
      "cast = 0.43% missing.\n",
      "crew = 0.53% missing.\n",
      "revenue = 0.00% missing.\n"
     ]
    }
   ],
   "source": [
    "# Percentage of missing values in the 'train' dataframe.\n",
    "train_total = len(train)\n",
    "for col in list(train.columns):\n",
    "    percentage = ((train_total - train[col].count()) / train_total) * 100\n",
    "    print(col + ' = ' + '{0:.2f}'.format(percentage) + '% missing.')"
   ]
  },
  {
   "cell_type": "code",
   "execution_count": 6,
   "metadata": {},
   "outputs": [
    {
     "data": {
      "text/plain": [
       "id                          0\n",
       "belongs_to_collection    2396\n",
       "budget                      0\n",
       "genres                      7\n",
       "homepage                 2054\n",
       "imdb_id                     0\n",
       "original_language           0\n",
       "original_title              0\n",
       "overview                    8\n",
       "popularity                  0\n",
       "poster_path                 1\n",
       "production_companies      156\n",
       "production_countries       55\n",
       "release_date                0\n",
       "runtime                     2\n",
       "spoken_languages           20\n",
       "status                      0\n",
       "tagline                   597\n",
       "title                       0\n",
       "Keywords                  276\n",
       "cast                       13\n",
       "crew                       16\n",
       "revenue                     0\n",
       "dtype: int64"
      ]
     },
     "execution_count": 6,
     "metadata": {},
     "output_type": "execute_result"
    }
   ],
   "source": [
    "train.isnull().sum()"
   ]
  },
  {
   "cell_type": "markdown",
   "metadata": {},
   "source": [
    "Visualizing number of missing values in 'train' dataframe columns"
   ]
  },
  {
   "cell_type": "code",
   "execution_count": 7,
   "metadata": {},
   "outputs": [
    {
     "data": {
      "text/plain": [
       "<matplotlib.axes._subplots.AxesSubplot at 0x1a1eb507b8>"
      ]
     },
     "execution_count": 7,
     "metadata": {},
     "output_type": "execute_result"
    },
    {
     "data": {
      "image/png": "[encoded data removed]",
      "text/plain": [
       "<Figure size 720x360 with 1 Axes>"
      ]
     },
     "metadata": {
      "needs_background": "light"
     },
     "output_type": "display_data"
    }
   ],
   "source": [
    "temp = train.isnull().sum()\n",
    "temp = temp.to_frame()\n",
    "temp = temp.reset_index()\n",
    "temp.columns = ['cols', 'count']\n",
    "temp = temp.sort_values('count', ascending=False)\n",
    "plt.figure(figsize = (10,5))\n",
    "sns.barplot(y='cols',x='count', data=temp)"
   ]
  },
  {
   "cell_type": "code",
   "execution_count": 8,
   "metadata": {},
   "outputs": [
    {
     "data": {
      "text/plain": [
       "id                          0\n",
       "belongs_to_collection    3521\n",
       "budget                      0\n",
       "genres                     16\n",
       "homepage                 2978\n",
       "imdb_id                     0\n",
       "original_language           0\n",
       "original_title              0\n",
       "overview                   14\n",
       "popularity                  0\n",
       "poster_path                 1\n",
       "production_companies      258\n",
       "production_countries      102\n",
       "release_date                1\n",
       "runtime                     4\n",
       "spoken_languages           42\n",
       "status                      2\n",
       "tagline                   863\n",
       "title                       3\n",
       "Keywords                  393\n",
       "cast                       13\n",
       "crew                       22\n",
       "dtype: int64"
      ]
     },
     "execution_count": 8,
     "metadata": {},
     "output_type": "execute_result"
    }
   ],
   "source": [
    "test.isnull().sum()"
   ]
  },
  {
   "cell_type": "code",
   "execution_count": 9,
   "metadata": {
    "scrolled": true
   },
   "outputs": [
    {
     "name": "stdout",
     "output_type": "stream",
     "text": [
      "id = 0.00% missing.\n",
      "belongs_to_collection = 80.06% missing.\n",
      "budget = 0.00% missing.\n",
      "genres = 0.36% missing.\n",
      "homepage = 67.71% missing.\n",
      "imdb_id = 0.00% missing.\n",
      "original_language = 0.00% missing.\n",
      "original_title = 0.00% missing.\n",
      "overview = 0.32% missing.\n",
      "popularity = 0.00% missing.\n",
      "poster_path = 0.02% missing.\n",
      "production_companies = 5.87% missing.\n",
      "production_countries = 2.32% missing.\n",
      "release_date = 0.02% missing.\n",
      "runtime = 0.09% missing.\n",
      "spoken_languages = 0.95% missing.\n",
      "status = 0.05% missing.\n",
      "tagline = 19.62% missing.\n",
      "title = 0.07% missing.\n",
      "Keywords = 8.94% missing.\n",
      "cast = 0.30% missing.\n",
      "crew = 0.50% missing.\n"
     ]
    }
   ],
   "source": [
    "# Percentage of missing values in 'test' dataframe.\n",
    "test_total = len(test)\n",
    "for col in list(test.columns):\n",
    "    percentage = ((test_total - test[col].count()) / test_total) * 100\n",
    "    print(col + ' = ' + '{0:.2f}'.format(percentage) + '% missing.')"
   ]
  },
  {
   "cell_type": "markdown",
   "metadata": {},
   "source": [
    "Visualizing the number of missing values in the 'test' dataframe"
   ]
  },
  {
   "cell_type": "code",
   "execution_count": 10,
   "metadata": {},
   "outputs": [
    {
     "data": {
      "text/plain": [
       "<matplotlib.axes._subplots.AxesSubplot at 0x107b1e2e8>"
      ]
     },
     "execution_count": 10,
     "metadata": {},
     "output_type": "execute_result"
    },
    {
     "data": {
      "image/png": "[encoded data removed]",
      "text/plain": [
       "<Figure size 720x360 with 1 Axes>"
      ]
     },
     "metadata": {
      "needs_background": "light"
     },
     "output_type": "display_data"
    }
   ],
   "source": [
    "temp = test.isnull().sum()\n",
    "temp = temp.to_frame()\n",
    "temp = temp.reset_index()\n",
    "temp.columns = ['cols', 'count']\n",
    "temp = temp.sort_values('count', ascending=False)\n",
    "plt.figure(figsize = (10,5))\n",
    "sns.barplot(y='cols',x='count', data=temp)"
   ]
  },
  {
   "cell_type": "markdown",
   "metadata": {},
   "source": [
    "The distribution of null values across both test and train datasets is the same."
   ]
  },
  {
   "cell_type": "code",
   "execution_count": 11,
   "metadata": {},
   "outputs": [
    {
     "name": "stdout",
     "output_type": "stream",
     "text": [
      "Number of rows with budget values as zero = 812\n"
     ]
    }
   ],
   "source": [
    "print('Number of rows with budget values as zero = ' + str(len(train[train['budget']==0])))"
   ]
  },
  {
   "cell_type": "code",
   "execution_count": 12,
   "metadata": {},
   "outputs": [
    {
     "data": {
      "text/plain": [
       "1211"
      ]
     },
     "execution_count": 12,
     "metadata": {},
     "output_type": "execute_result"
    }
   ],
   "source": [
    "len(test[test['budget']==0])"
   ]
  },
  {
   "cell_type": "code",
   "execution_count": 13,
   "metadata": {},
   "outputs": [
    {
     "data": {
      "text/plain": [
       "15    198\n",
       "Name: revenue, dtype: int64"
      ]
     },
     "execution_count": 13,
     "metadata": {},
     "output_type": "execute_result"
    }
   ],
   "source": [
    "train['revenue'].loc[train['id'] == 16]"
   ]
  },
  {
   "cell_type": "code",
   "execution_count": 14,
   "metadata": {},
   "outputs": [
    {
     "data": {
      "text/html": [
       "<div>\n",
       "<style scoped>\n",
       "    .dataframe tbody tr th:only-of-type {\n",
       "        vertical-align: middle;\n",
       "    }\n",
       "\n",
       "    .dataframe tbody tr th {\n",
       "        vertical-align: top;\n",
       "    }\n",
       "\n",
       "    .dataframe thead th {\n",
       "        text-align: right;\n",
       "    }\n",
       "</style>\n",
       "<table border=\"1\" class=\"dataframe\">\n",
       "  <thead>\n",
       "    <tr style=\"text-align: right;\">\n",
       "      <th></th>\n",
       "      <th>0</th>\n",
       "      <th>1</th>\n",
       "      <th>2</th>\n",
       "    </tr>\n",
       "  </thead>\n",
       "  <tbody>\n",
       "    <tr>\n",
       "      <th>id</th>\n",
       "      <td>1</td>\n",
       "      <td>2</td>\n",
       "      <td>3</td>\n",
       "    </tr>\n",
       "    <tr>\n",
       "      <th>belongs_to_collection</th>\n",
       "      <td>[{'id': 313576, 'name': 'Hot Tub Time Machine ...</td>\n",
       "      <td>[{'id': 107674, 'name': 'The Princess Diaries ...</td>\n",
       "      <td>NaN</td>\n",
       "    </tr>\n",
       "    <tr>\n",
       "      <th>budget</th>\n",
       "      <td>14000000</td>\n",
       "      <td>40000000</td>\n",
       "      <td>3300000</td>\n",
       "    </tr>\n",
       "    <tr>\n",
       "      <th>genres</th>\n",
       "      <td>[{'id': 35, 'name': 'Comedy'}]</td>\n",
       "      <td>[{'id': 35, 'name': 'Comedy'}, {'id': 18, 'nam...</td>\n",
       "      <td>[{'id': 18, 'name': 'Drama'}]</td>\n",
       "    </tr>\n",
       "    <tr>\n",
       "      <th>homepage</th>\n",
       "      <td>NaN</td>\n",
       "      <td>NaN</td>\n",
       "      <td>http://sonyclassics.com/whiplash/</td>\n",
       "    </tr>\n",
       "    <tr>\n",
       "      <th>imdb_id</th>\n",
       "      <td>tt2637294</td>\n",
       "      <td>tt0368933</td>\n",
       "      <td>tt2582802</td>\n",
       "    </tr>\n",
       "    <tr>\n",
       "      <th>original_language</th>\n",
       "      <td>en</td>\n",
       "      <td>en</td>\n",
       "      <td>en</td>\n",
       "    </tr>\n",
       "    <tr>\n",
       "      <th>original_title</th>\n",
       "      <td>Hot Tub Time Machine 2</td>\n",
       "      <td>The Princess Diaries 2: Royal Engagement</td>\n",
       "      <td>Whiplash</td>\n",
       "    </tr>\n",
       "    <tr>\n",
       "      <th>overview</th>\n",
       "      <td>When Lou, who has become the \"father of the In...</td>\n",
       "      <td>Mia Thermopolis is now a college graduate and ...</td>\n",
       "      <td>Under the direction of a ruthless instructor, ...</td>\n",
       "    </tr>\n",
       "    <tr>\n",
       "      <th>popularity</th>\n",
       "      <td>6.57539</td>\n",
       "      <td>8.24889</td>\n",
       "      <td>64.3</td>\n",
       "    </tr>\n",
       "    <tr>\n",
       "      <th>poster_path</th>\n",
       "      <td>/tQtWuwvMf0hCc2QR2tkolwl7c3c.jpg</td>\n",
       "      <td>/w9Z7A0GHEhIp7etpj0vyKOeU1Wx.jpg</td>\n",
       "      <td>/lIv1QinFqz4dlp5U4lQ6HaiskOZ.jpg</td>\n",
       "    </tr>\n",
       "    <tr>\n",
       "      <th>production_companies</th>\n",
       "      <td>[{'name': 'Paramount Pictures', 'id': 4}, {'na...</td>\n",
       "      <td>[{'name': 'Walt Disney Pictures', 'id': 2}]</td>\n",
       "      <td>[{'name': 'Bold Films', 'id': 2266}, {'name': ...</td>\n",
       "    </tr>\n",
       "    <tr>\n",
       "      <th>production_countries</th>\n",
       "      <td>[{'iso_3166_1': 'US', 'name': 'United States o...</td>\n",
       "      <td>[{'iso_3166_1': 'US', 'name': 'United States o...</td>\n",
       "      <td>[{'iso_3166_1': 'US', 'name': 'United States o...</td>\n",
       "    </tr>\n",
       "    <tr>\n",
       "      <th>release_date</th>\n",
       "      <td>2015-02-20 00:00:00</td>\n",
       "      <td>2004-08-06 00:00:00</td>\n",
       "      <td>2014-10-10 00:00:00</td>\n",
       "    </tr>\n",
       "    <tr>\n",
       "      <th>runtime</th>\n",
       "      <td>93</td>\n",
       "      <td>113</td>\n",
       "      <td>105</td>\n",
       "    </tr>\n",
       "    <tr>\n",
       "      <th>spoken_languages</th>\n",
       "      <td>[{'iso_639_1': 'en', 'name': 'English'}]</td>\n",
       "      <td>[{'iso_639_1': 'en', 'name': 'English'}]</td>\n",
       "      <td>[{'iso_639_1': 'en', 'name': 'English'}]</td>\n",
       "    </tr>\n",
       "    <tr>\n",
       "      <th>status</th>\n",
       "      <td>Released</td>\n",
       "      <td>Released</td>\n",
       "      <td>Released</td>\n",
       "    </tr>\n",
       "    <tr>\n",
       "      <th>tagline</th>\n",
       "      <td>The Laws of Space and Time are About to be Vio...</td>\n",
       "      <td>It can take a lifetime to find true love; she'...</td>\n",
       "      <td>The road to greatness can take you to the edge.</td>\n",
       "    </tr>\n",
       "    <tr>\n",
       "      <th>title</th>\n",
       "      <td>Hot Tub Time Machine 2</td>\n",
       "      <td>The Princess Diaries 2: Royal Engagement</td>\n",
       "      <td>Whiplash</td>\n",
       "    </tr>\n",
       "    <tr>\n",
       "      <th>Keywords</th>\n",
       "      <td>[{'id': 4379, 'name': 'time travel'}, {'id': 9...</td>\n",
       "      <td>[{'id': 2505, 'name': 'coronation'}, {'id': 42...</td>\n",
       "      <td>[{'id': 1416, 'name': 'jazz'}, {'id': 1523, 'n...</td>\n",
       "    </tr>\n",
       "    <tr>\n",
       "      <th>cast</th>\n",
       "      <td>[{'cast_id': 4, 'character': 'Lou', 'credit_id...</td>\n",
       "      <td>[{'cast_id': 1, 'character': 'Mia Thermopolis'...</td>\n",
       "      <td>[{'cast_id': 5, 'character': 'Andrew Neimann',...</td>\n",
       "    </tr>\n",
       "    <tr>\n",
       "      <th>crew</th>\n",
       "      <td>[{'credit_id': '59ac067c92514107af02c8c8', 'de...</td>\n",
       "      <td>[{'credit_id': '52fe43fe9251416c7502563d', 'de...</td>\n",
       "      <td>[{'credit_id': '54d5356ec3a3683ba0000039', 'de...</td>\n",
       "    </tr>\n",
       "    <tr>\n",
       "      <th>revenue</th>\n",
       "      <td>12314651</td>\n",
       "      <td>95149435</td>\n",
       "      <td>13092000</td>\n",
       "    </tr>\n",
       "  </tbody>\n",
       "</table>\n",
       "</div>"
      ],
      "text/plain": [
       "                                                                       0  \\\n",
       "id                                                                     1   \n",
       "belongs_to_collection  [{'id': 313576, 'name': 'Hot Tub Time Machine ...   \n",
       "budget                                                          14000000   \n",
       "genres                                    [{'id': 35, 'name': 'Comedy'}]   \n",
       "homepage                                                             NaN   \n",
       "imdb_id                                                        tt2637294   \n",
       "original_language                                                     en   \n",
       "original_title                                    Hot Tub Time Machine 2   \n",
       "overview               When Lou, who has become the \"father of the In...   \n",
       "popularity                                                       6.57539   \n",
       "poster_path                             /tQtWuwvMf0hCc2QR2tkolwl7c3c.jpg   \n",
       "production_companies   [{'name': 'Paramount Pictures', 'id': 4}, {'na...   \n",
       "production_countries   [{'iso_3166_1': 'US', 'name': 'United States o...   \n",
       "release_date                                         2015-02-20 00:00:00   \n",
       "runtime                                                               93   \n",
       "spoken_languages                [{'iso_639_1': 'en', 'name': 'English'}]   \n",
       "status                                                          Released   \n",
       "tagline                The Laws of Space and Time are About to be Vio...   \n",
       "title                                             Hot Tub Time Machine 2   \n",
       "Keywords               [{'id': 4379, 'name': 'time travel'}, {'id': 9...   \n",
       "cast                   [{'cast_id': 4, 'character': 'Lou', 'credit_id...   \n",
       "crew                   [{'credit_id': '59ac067c92514107af02c8c8', 'de...   \n",
       "revenue                                                         12314651   \n",
       "\n",
       "                                                                       1  \\\n",
       "id                                                                     2   \n",
       "belongs_to_collection  [{'id': 107674, 'name': 'The Princess Diaries ...   \n",
       "budget                                                          40000000   \n",
       "genres                 [{'id': 35, 'name': 'Comedy'}, {'id': 18, 'nam...   \n",
       "homepage                                                             NaN   \n",
       "imdb_id                                                        tt0368933   \n",
       "original_language                                                     en   \n",
       "original_title                  The Princess Diaries 2: Royal Engagement   \n",
       "overview               Mia Thermopolis is now a college graduate and ...   \n",
       "popularity                                                       8.24889   \n",
       "poster_path                             /w9Z7A0GHEhIp7etpj0vyKOeU1Wx.jpg   \n",
       "production_companies         [{'name': 'Walt Disney Pictures', 'id': 2}]   \n",
       "production_countries   [{'iso_3166_1': 'US', 'name': 'United States o...   \n",
       "release_date                                         2004-08-06 00:00:00   \n",
       "runtime                                                              113   \n",
       "spoken_languages                [{'iso_639_1': 'en', 'name': 'English'}]   \n",
       "status                                                          Released   \n",
       "tagline                It can take a lifetime to find true love; she'...   \n",
       "title                           The Princess Diaries 2: Royal Engagement   \n",
       "Keywords               [{'id': 2505, 'name': 'coronation'}, {'id': 42...   \n",
       "cast                   [{'cast_id': 1, 'character': 'Mia Thermopolis'...   \n",
       "crew                   [{'credit_id': '52fe43fe9251416c7502563d', 'de...   \n",
       "revenue                                                         95149435   \n",
       "\n",
       "                                                                       2  \n",
       "id                                                                     3  \n",
       "belongs_to_collection                                                NaN  \n",
       "budget                                                           3300000  \n",
       "genres                                     [{'id': 18, 'name': 'Drama'}]  \n",
       "homepage                               http://sonyclassics.com/whiplash/  \n",
       "imdb_id                                                        tt2582802  \n",
       "original_language                                                     en  \n",
       "original_title                                                  Whiplash  \n",
       "overview               Under the direction of a ruthless instructor, ...  \n",
       "popularity                                                          64.3  \n",
       "poster_path                             /lIv1QinFqz4dlp5U4lQ6HaiskOZ.jpg  \n",
       "production_companies   [{'name': 'Bold Films', 'id': 2266}, {'name': ...  \n",
       "production_countries   [{'iso_3166_1': 'US', 'name': 'United States o...  \n",
       "release_date                                         2014-10-10 00:00:00  \n",
       "runtime                                                              105  \n",
       "spoken_languages                [{'iso_639_1': 'en', 'name': 'English'}]  \n",
       "status                                                          Released  \n",
       "tagline                  The road to greatness can take you to the edge.  \n",
       "title                                                           Whiplash  \n",
       "Keywords               [{'id': 1416, 'name': 'jazz'}, {'id': 1523, 'n...  \n",
       "cast                   [{'cast_id': 5, 'character': 'Andrew Neimann',...  \n",
       "crew                   [{'credit_id': '54d5356ec3a3683ba0000039', 'de...  \n",
       "revenue                                                         13092000  "
      ]
     },
     "execution_count": 14,
     "metadata": {},
     "output_type": "execute_result"
    }
   ],
   "source": [
    "train.head(3).T"
   ]
  },
  {
   "cell_type": "markdown",
   "metadata": {},
   "source": [
    "## Editing wrong values for the 'revenue' and 'budget' columns\n",
    "**NOTE: All budget values of zero(812 of them) cannot be corrected because for some films the producers deliberately do not provide financials. Hence no budget data is available. For films where the correct budget data has been found relevant corrections have been made below in both 'train' and 'test' dataframes.**"
   ]
  },
  {
   "cell_type": "code",
   "execution_count": 10,
   "metadata": {},
   "outputs": [],
   "source": [
    "train.loc[train['id'] == 16,'revenue'] = 192864         \n",
    "train.loc[train['id'] == 90,'budget'] = 30000000                  \n",
    "train.loc[train['id'] == 118,'budget'] = 60000000       \n",
    "train.loc[train['id'] == 149,'budget'] = 18000000       \n",
    "train.loc[train['id'] == 313,'revenue'] = 12000000       \n",
    "train.loc[train['id'] == 451,'revenue'] = 12000000      \n",
    "train.loc[train['id'] == 464,'budget'] = 20000000       \n",
    "train.loc[train['id'] == 470,'budget'] = 13000000       \n",
    "train.loc[train['id'] == 513,'budget'] = 930000         \n",
    "train.loc[train['id'] == 797,'budget'] = 8000000        \n",
    "train.loc[train['id'] == 819,'budget'] = 90000000       \n",
    "train.loc[train['id'] == 850,'budget'] = 90000000       \n",
    "train.loc[train['id'] == 1007,'budget'] = 2              \n",
    "train.loc[train['id'] == 1112,'budget'] = 7500000       \n",
    "train.loc[train['id'] == 1131,'budget'] = 4300000        \n",
    "train.loc[train['id'] == 1359,'budget'] = 10000000       \n",
    "train.loc[train['id'] == 1542,'budget'] = 1             \n",
    "train.loc[train['id'] == 1570,'budget'] = 15800000       \n",
    "train.loc[train['id'] == 1571,'budget'] = 4000000        \n",
    "train.loc[train['id'] == 1714,'budget'] = 46000000       \n",
    "train.loc[train['id'] == 1721,'budget'] = 17500000       \n",
    "train.loc[train['id'] == 1865,'revenue'] = 25000000      \n",
    "train.loc[train['id'] == 1885,'budget'] = 12             \n",
    "train.loc[train['id'] == 2091,'budget'] = 10             \n",
    "train.loc[train['id'] == 2268,'budget'] = 17500000       \n",
    "train.loc[train['id'] == 2491,'budget'] = 6              \n",
    "train.loc[train['id'] == 2602,'budget'] = 31000000       \n",
    "train.loc[train['id'] == 2612,'budget'] = 15000000       \n",
    "train.loc[train['id'] == 2696,'budget'] = 10000000      \n",
    "train.loc[train['id'] == 2801,'budget'] = 10000000       \n",
    "train.loc[train['id'] == 335,'budget'] = 2 \n",
    "train.loc[train['id'] == 348,'budget'] = 12\n",
    "train.loc[train['id'] == 470,'budget'] = 13000000 \n",
    "train.loc[train['id'] == 513,'budget'] = 1100000\n",
    "train.loc[train['id'] == 640,'budget'] = 6 \n",
    "train.loc[train['id'] == 696,'budget'] = 1\n",
    "train.loc[train['id'] == 797,'budget'] = 8000000 \n",
    "train.loc[train['id'] == 850,'budget'] = 1500000\n",
    "train.loc[train['id'] == 1199,'budget'] = 5 \n",
    "train.loc[train['id'] == 1282,'budget'] = 9              \n",
    "train.loc[train['id'] == 1347,'budget'] = 1\n",
    "train.loc[train['id'] == 1755,'budget'] = 2\n",
    "train.loc[train['id'] == 1801,'budget'] = 5\n",
    "train.loc[train['id'] == 1918,'budget'] = 592 \n",
    "train.loc[train['id'] == 2033,'budget'] = 4\n",
    "train.loc[train['id'] == 2118,'budget'] = 344 \n",
    "train.loc[train['id'] == 2252,'budget'] = 130\n",
    "train.loc[train['id'] == 2256,'budget'] = 1 \n",
    "train.loc[train['id'] == 2696,'budget'] = 10000000"
   ]
  },
  {
   "cell_type": "code",
   "execution_count": 11,
   "metadata": {},
   "outputs": [],
   "source": [
    "test.loc[test['id'] == 3033,'budget'] = 250 \n",
    "test.loc[test['id'] == 3051,'budget'] = 50\n",
    "test.loc[test['id'] == 3084,'budget'] = 337\n",
    "test.loc[test['id'] == 3224,'budget'] = 4  \n",
    "test.loc[test['id'] == 3594,'budget'] = 25  \n",
    "test.loc[test['id'] == 3619,'budget'] = 500  \n",
    "test.loc[test['id'] == 3831,'budget'] = 3  \n",
    "test.loc[test['id'] == 3935,'budget'] = 500  \n",
    "test.loc[test['id'] == 4049,'budget'] = 995946 \n",
    "test.loc[test['id'] == 4424,'budget'] = 3  \n",
    "test.loc[test['id'] == 4460,'budget'] = 8  \n",
    "test.loc[test['id'] == 4555,'budget'] = 1200000 \n",
    "test.loc[test['id'] == 4624,'budget'] = 30 \n",
    "test.loc[test['id'] == 4645,'budget'] = 500 \n",
    "test.loc[test['id'] == 4709,'budget'] = 450 \n",
    "test.loc[test['id'] == 4839,'budget'] = 7\n",
    "test.loc[test['id'] == 3125,'budget'] = 25 \n",
    "test.loc[test['id'] == 3142,'budget'] = 1\n",
    "test.loc[test['id'] == 3201,'budget'] = 450\n",
    "test.loc[test['id'] == 3222,'budget'] = 6\n",
    "test.loc[test['id'] == 3545,'budget'] = 38\n",
    "test.loc[test['id'] == 3670,'budget'] = 18\n",
    "test.loc[test['id'] == 3792,'budget'] = 19\n",
    "test.loc[test['id'] == 3881,'budget'] = 7\n",
    "test.loc[test['id'] == 3969,'budget'] = 400\n",
    "test.loc[test['id'] == 4196,'budget'] = 6\n",
    "test.loc[test['id'] == 4221,'budget'] = 11\n",
    "test.loc[test['id'] == 4222,'budget'] = 500\n",
    "test.loc[test['id'] == 4285,'budget'] = 11\n",
    "test.loc[test['id'] == 4319,'budget'] = 1\n",
    "test.loc[test['id'] == 4639,'budget'] = 10\n",
    "test.loc[test['id'] == 4719,'budget'] = 45\n",
    "test.loc[test['id'] == 4822,'budget'] = 22\n",
    "test.loc[test['id'] == 4829,'budget'] = 20\n",
    "test.loc[test['id'] == 4969,'budget'] = 20\n",
    "test.loc[test['id'] == 5021,'budget'] = 40 \n",
    "test.loc[test['id'] == 5035,'budget'] = 1 \n",
    "test.loc[test['id'] == 5063,'budget'] = 14 \n",
    "test.loc[test['id'] == 5119,'budget'] = 2 \n",
    "test.loc[test['id'] == 5214,'budget'] = 30 \n",
    "test.loc[test['id'] == 5221,'budget'] = 50 \n",
    "test.loc[test['id'] == 4903,'budget'] = 15\n",
    "test.loc[test['id'] == 4983,'budget'] = 3\n",
    "test.loc[test['id'] == 5102,'budget'] = 28\n",
    "test.loc[test['id'] == 5217,'budget'] = 75\n",
    "test.loc[test['id'] == 5224,'budget'] = 3 \n",
    "test.loc[test['id'] == 5469,'budget'] = 20 \n",
    "test.loc[test['id'] == 5840,'budget'] = 1 \n",
    "test.loc[test['id'] == 5960,'budget'] = 30\n",
    "test.loc[test['id'] == 6506,'budget'] = 11 \n",
    "test.loc[test['id'] == 6553,'budget'] = 280\n",
    "test.loc[test['id'] == 6561,'budget'] = 7\n",
    "test.loc[test['id'] == 6582,'budget'] = 218\n",
    "test.loc[test['id'] == 6638,'budget'] = 5\n",
    "test.loc[test['id'] == 6749,'budget'] = 8 \n",
    "test.loc[test['id'] == 6759,'budget'] = 50 \n",
    "test.loc[test['id'] == 6856,'budget'] = 10\n",
    "test.loc[test['id'] == 6858,'budget'] =  100\n",
    "test.loc[test['id'] == 6876,'budget'] =  250\n",
    "test.loc[test['id'] == 6972,'budget'] = 1\n",
    "test.loc[test['id'] == 7079,'budget'] = 8000000\n",
    "test.loc[test['id'] == 7150,'budget'] = 118\n",
    "test.loc[test['id'] == 6506,'budget'] = 118\n",
    "test.loc[test['id'] == 7225,'budget'] = 6\n",
    "test.loc[test['id'] == 7231,'budget'] = 85\n",
    "test.loc[test['id'] == 5222,'budget'] = 5\n",
    "test.loc[test['id'] == 5322,'budget'] = 90\n",
    "test.loc[test['id'] == 5350,'budget'] = 70\n",
    "test.loc[test['id'] == 5378,'budget'] = 10\n",
    "test.loc[test['id'] == 5545,'budget'] = 80\n",
    "test.loc[test['id'] == 5810,'budget'] = 8\n",
    "test.loc[test['id'] == 5926,'budget'] = 300\n",
    "test.loc[test['id'] == 5927,'budget'] = 4\n",
    "test.loc[test['id'] == 5986,'budget'] = 1\n",
    "test.loc[test['id'] == 6053,'budget'] = 20\n",
    "test.loc[test['id'] == 6104,'budget'] = 1\n",
    "test.loc[test['id'] == 6130,'budget'] = 30\n",
    "test.loc[test['id'] == 6301,'budget'] = 150\n",
    "test.loc[test['id'] == 6276,'budget'] = 100\n",
    "test.loc[test['id'] == 6473,'budget'] = 100\n",
    "test.loc[test['id'] == 6842,'budget'] = 30"
   ]
  },
  {
   "cell_type": "markdown",
   "metadata": {},
   "source": [
    "**Inspecting the 'budget' column values.**"
   ]
  },
  {
   "cell_type": "code",
   "execution_count": 12,
   "metadata": {},
   "outputs": [
    {
     "data": {
      "text/plain": [
       "<AxesSubplot:xlabel='budget'>"
      ]
     },
     "execution_count": 12,
     "metadata": {},
     "output_type": "execute_result"
    },
    {
     "data": {
      "image/png": "[encoded data removed]",
      "text/plain": [
       "<Figure size 432x288 with 1 Axes>"
      ]
     },
     "metadata": {
      "needs_background": "light"
     },
     "output_type": "display_data"
    }
   ],
   "source": [
    "sns.distplot(train['budget'])"
   ]
  },
  {
   "cell_type": "markdown",
   "metadata": {},
   "source": [
    "A lot of budget values seem to be close to zero. Let us further inspect.\n",
    "Let's look at budget values less than 50,000,000 "
   ]
  },
  {
   "cell_type": "code",
   "execution_count": 13,
   "metadata": {},
   "outputs": [
    {
     "data": {
      "text/plain": [
       "<AxesSubplot:xlabel='budget'>"
      ]
     },
     "execution_count": 13,
     "metadata": {},
     "output_type": "execute_result"
    },
    {
     "data": {
      "image/png": "[encoded data removed]",
      "text/plain": [
       "<Figure size 432x288 with 1 Axes>"
      ]
     },
     "metadata": {
      "needs_background": "light"
     },
     "output_type": "display_data"
    }
   ],
   "source": [
    "temp = train['budget'][train['budget']<0.5e8]\n",
    "sns.distplot(temp, bins=50)"
   ]
  },
  {
   "cell_type": "markdown",
   "metadata": {},
   "source": [
    "Any budget values less than 0?"
   ]
  },
  {
   "cell_type": "code",
   "execution_count": 14,
   "metadata": {},
   "outputs": [
    {
     "name": "stdout",
     "output_type": "stream",
     "text": [
      "No\n"
     ]
    }
   ],
   "source": [
    "t = train['budget'][train['budget']<0].sum()\n",
    "if t==0:\n",
    "    print('No')"
   ]
  },
  {
   "cell_type": "markdown",
   "metadata": {},
   "source": [
    "How many budget values are 0?"
   ]
  },
  {
   "cell_type": "code",
   "execution_count": 15,
   "metadata": {},
   "outputs": [
    {
     "data": {
      "text/plain": [
       "796"
      ]
     },
     "execution_count": 15,
     "metadata": {},
     "output_type": "execute_result"
    }
   ],
   "source": [
    "len(train['budget'][train['budget']==0])"
   ]
  },
  {
   "cell_type": "markdown",
   "metadata": {},
   "source": [
    "796 zero budget values is too high. It is not possible that a movie is made with a zero budget, atleast commercially. It is likely that the producers did not share budget information and hence was unavailable or wrongly entered here."
   ]
  },
  {
   "cell_type": "code",
   "execution_count": 21,
   "metadata": {},
   "outputs": [
    {
     "data": {
      "text/plain": [
       "<matplotlib.axes._subplots.AxesSubplot at 0x1a1dca6fd0>"
      ]
     },
     "execution_count": 21,
     "metadata": {},
     "output_type": "execute_result"
    },
    {
     "data": {
      "image/png": "[encoded data removed]",
      "text/plain": [
       "<Figure size 432x288 with 1 Axes>"
      ]
     },
     "metadata": {
      "needs_background": "light"
     },
     "output_type": "display_data"
    }
   ],
   "source": [
    "sns.distplot(train['revenue'])"
   ]
  },
  {
   "cell_type": "code",
   "execution_count": 22,
   "metadata": {},
   "outputs": [
    {
     "data": {
      "text/plain": [
       "count    3.000000e+03\n",
       "mean     6.668176e+07\n",
       "std      1.375149e+08\n",
       "min      1.000000e+00\n",
       "25%      2.401550e+06\n",
       "50%      1.680707e+07\n",
       "75%      6.877599e+07\n",
       "max      1.519558e+09\n",
       "Name: revenue, dtype: float64"
      ]
     },
     "execution_count": 22,
     "metadata": {},
     "output_type": "execute_result"
    }
   ],
   "source": [
    "train['revenue'].describe()"
   ]
  },
  {
   "cell_type": "code",
   "execution_count": 23,
   "metadata": {},
   "outputs": [
    {
     "data": {
      "text/plain": [
       "<matplotlib.axes._subplots.AxesSubplot at 0x1a1d7bb4e0>"
      ]
     },
     "execution_count": 23,
     "metadata": {},
     "output_type": "execute_result"
    },
    {
     "data": {
      "image/png": "[encoded data removed]",
      "text/plain": [
       "<Figure size 432x288 with 2 Axes>"
      ]
     },
     "metadata": {
      "needs_background": "light"
     },
     "output_type": "display_data"
    }
   ],
   "source": [
    "corr = train.corr()\n",
    "sns.heatmap(corr)"
   ]
  },
  {
   "cell_type": "code",
   "execution_count": 24,
   "metadata": {},
   "outputs": [
    {
     "data": {
      "text/plain": [
       "array([[ 3055630.78399918],\n",
       "       [ 3302707.82210734],\n",
       "       [ 3055630.78399918],\n",
       "       ...,\n",
       "       [47978728.62184601],\n",
       "       [ 8671018.01373004],\n",
       "       [ 3235323.17535057]])"
      ]
     },
     "execution_count": 24,
     "metadata": {},
     "output_type": "execute_result"
    }
   ],
   "source": [
    "training_data = train['budget'].values.reshape(-1,1)\n",
    "target = train['revenue'].values.reshape(-1,1)\n",
    "\n",
    "model = LinearRegression()\n",
    "model.fit(training_data, target)\n",
    "testing_data = test['budget'].values.reshape(-1, 1)\n",
    "predictions = model.predict(testing_data)\n",
    "predictions"
   ]
  },
  {
   "cell_type": "code",
   "execution_count": 25,
   "metadata": {},
   "outputs": [
    {
     "data": {
      "text/html": [
       "<div>\n",
       "<style scoped>\n",
       "    .dataframe tbody tr th:only-of-type {\n",
       "        vertical-align: middle;\n",
       "    }\n",
       "\n",
       "    .dataframe tbody tr th {\n",
       "        vertical-align: top;\n",
       "    }\n",
       "\n",
       "    .dataframe thead th {\n",
       "        text-align: right;\n",
       "    }\n",
       "</style>\n",
       "<table border=\"1\" class=\"dataframe\">\n",
       "  <thead>\n",
       "    <tr style=\"text-align: right;\">\n",
       "      <th></th>\n",
       "      <th>id</th>\n",
       "      <th>revenue</th>\n",
       "    </tr>\n",
       "  </thead>\n",
       "  <tbody>\n",
       "    <tr>\n",
       "      <th>0</th>\n",
       "      <td>3001</td>\n",
       "      <td>3.055631e+06</td>\n",
       "    </tr>\n",
       "    <tr>\n",
       "      <th>1</th>\n",
       "      <td>3002</td>\n",
       "      <td>3.302708e+06</td>\n",
       "    </tr>\n",
       "    <tr>\n",
       "      <th>2</th>\n",
       "      <td>3003</td>\n",
       "      <td>3.055631e+06</td>\n",
       "    </tr>\n",
       "    <tr>\n",
       "      <th>3</th>\n",
       "      <td>3004</td>\n",
       "      <td>2.214795e+07</td>\n",
       "    </tr>\n",
       "    <tr>\n",
       "      <th>4</th>\n",
       "      <td>3005</td>\n",
       "      <td>8.671018e+06</td>\n",
       "    </tr>\n",
       "    <tr>\n",
       "      <th>...</th>\n",
       "      <td>...</td>\n",
       "      <td>...</td>\n",
       "    </tr>\n",
       "    <tr>\n",
       "      <th>4393</th>\n",
       "      <td>7394</td>\n",
       "      <td>1.209788e+08</td>\n",
       "    </tr>\n",
       "    <tr>\n",
       "      <th>4394</th>\n",
       "      <td>7395</td>\n",
       "      <td>5.640181e+07</td>\n",
       "    </tr>\n",
       "    <tr>\n",
       "      <th>4395</th>\n",
       "      <td>7396</td>\n",
       "      <td>4.797873e+07</td>\n",
       "    </tr>\n",
       "    <tr>\n",
       "      <th>4396</th>\n",
       "      <td>7397</td>\n",
       "      <td>8.671018e+06</td>\n",
       "    </tr>\n",
       "    <tr>\n",
       "      <th>4397</th>\n",
       "      <td>7398</td>\n",
       "      <td>3.235323e+06</td>\n",
       "    </tr>\n",
       "  </tbody>\n",
       "</table>\n",
       "<p>4398 rows × 2 columns</p>\n",
       "</div>"
      ],
      "text/plain": [
       "        id       revenue\n",
       "0     3001  3.055631e+06\n",
       "1     3002  3.302708e+06\n",
       "2     3003  3.055631e+06\n",
       "3     3004  2.214795e+07\n",
       "4     3005  8.671018e+06\n",
       "...    ...           ...\n",
       "4393  7394  1.209788e+08\n",
       "4394  7395  5.640181e+07\n",
       "4395  7396  4.797873e+07\n",
       "4396  7397  8.671018e+06\n",
       "4397  7398  3.235323e+06\n",
       "\n",
       "[4398 rows x 2 columns]"
      ]
     },
     "execution_count": 25,
     "metadata": {},
     "output_type": "execute_result"
    }
   ],
   "source": [
    "submission['revenue'] = predictions\n",
    "submission"
   ]
  },
  {
   "cell_type": "code",
   "execution_count": 26,
   "metadata": {},
   "outputs": [],
   "source": [
    "submission.to_csv('my_linreg', index=False)"
   ]
  },
  {
   "cell_type": "markdown",
   "metadata": {},
   "source": [
    "Kaggle score with above submission = 2.61925 (Rank 986)"
   ]
  },
  {
   "cell_type": "code",
   "execution_count": 27,
   "metadata": {},
   "outputs": [
    {
     "name": "stdout",
     "output_type": "stream",
     "text": [
      "<class 'pandas.core.frame.DataFrame'>\n",
      "RangeIndex: 3000 entries, 0 to 2999\n",
      "Data columns (total 23 columns):\n",
      "id                       3000 non-null int64\n",
      "belongs_to_collection    604 non-null object\n",
      "budget                   3000 non-null int64\n",
      "genres                   2993 non-null object\n",
      "homepage                 946 non-null object\n",
      "imdb_id                  3000 non-null object\n",
      "original_language        3000 non-null object\n",
      "original_title           3000 non-null object\n",
      "overview                 2992 non-null object\n",
      "popularity               3000 non-null float64\n",
      "poster_path              2999 non-null object\n",
      "production_companies     2844 non-null object\n",
      "production_countries     2945 non-null object\n",
      "release_date             3000 non-null datetime64[ns]\n",
      "runtime                  2998 non-null float64\n",
      "spoken_languages         2980 non-null object\n",
      "status                   3000 non-null object\n",
      "tagline                  2403 non-null object\n",
      "title                    3000 non-null object\n",
      "Keywords                 2724 non-null object\n",
      "cast                     2987 non-null object\n",
      "crew                     2984 non-null object\n",
      "revenue                  3000 non-null int64\n",
      "dtypes: datetime64[ns](1), float64(2), int64(3), object(17)\n",
      "memory usage: 539.2+ KB\n"
     ]
    }
   ],
   "source": [
    "train.info()"
   ]
  },
  {
   "cell_type": "code",
   "execution_count": 28,
   "metadata": {},
   "outputs": [],
   "source": [
    "rf_cols = ['budget', 'original_language', 'popularity', 'release_date', 'runtime', 'status', 'homepage', 'overview', 'revenue']\n",
    "rf_train = train[rf_cols].copy()\n",
    "rf_cols.remove('revenue')\n",
    "rf_test = test[rf_cols].copy()"
   ]
  },
  {
   "cell_type": "markdown",
   "metadata": {},
   "source": [
    "**Budget Column**"
   ]
  },
  {
   "cell_type": "markdown",
   "metadata": {},
   "source": [
    "**No missing values in 'train' or 'test'**"
   ]
  },
  {
   "cell_type": "code",
   "execution_count": 29,
   "metadata": {},
   "outputs": [
    {
     "data": {
      "text/plain": [
       "16000000.0"
      ]
     },
     "execution_count": 29,
     "metadata": {},
     "output_type": "execute_result"
    }
   ],
   "source": [
    "# Get median values of budget of train set where budget value is greater than zero.\n",
    "median_budget = train['budget'][train['budget']>0].median()\n",
    "median_budget"
   ]
  },
  {
   "cell_type": "code",
   "execution_count": 30,
   "metadata": {},
   "outputs": [],
   "source": [
    "train['budget_is_median'] = 0\n",
    "test['budget_is_median'] = 0\n",
    "\n",
    "def replace_0_budget(df, median_val):\n",
    "    \"\"\"Replaces zero budget values with the median budget values of train set\n",
    "        and sets 'budget_is_median' value to 1\"\"\"\n",
    "    df['budget_is_median'] = 0\n",
    "    df.loc[df['budget']==0, 'budget_is_median'] = 1\n",
    "    df.loc[df['budget']==0, 'budget'] = median_val\n",
    "    return df"
   ]
  },
  {
   "cell_type": "code",
   "execution_count": 31,
   "metadata": {},
   "outputs": [],
   "source": [
    "rf_train = replace_0_budget(rf_train, median_budget)\n",
    "rf_test = replace_0_budget(rf_test, median_budget)"
   ]
  },
  {
   "cell_type": "code",
   "execution_count": 32,
   "metadata": {},
   "outputs": [
    {
     "data": {
      "text/plain": [
       "0    2204\n",
       "1     796\n",
       "Name: budget_is_median, dtype: int64"
      ]
     },
     "execution_count": 32,
     "metadata": {},
     "output_type": "execute_result"
    }
   ],
   "source": [
    "rf_train['budget_is_median'].value_counts()"
   ]
  },
  {
   "cell_type": "markdown",
   "metadata": {},
   "source": [
    "**Original_language column**"
   ]
  },
  {
   "cell_type": "markdown",
   "metadata": {},
   "source": [
    "**No Missing values in 'train' or 'test' dataframe."
   ]
  },
  {
   "cell_type": "markdown",
   "metadata": {},
   "source": [
    "This is a categorical variable. Let us find the most commonly occurring value of 'original_language' across both the train('rf_train') & test('rf_test') set."
   ]
  },
  {
   "cell_type": "code",
   "execution_count": 33,
   "metadata": {},
   "outputs": [
    {
     "data": {
      "text/plain": [
       "<matplotlib.axes._subplots.AxesSubplot at 0x1a1df66e10>"
      ]
     },
     "execution_count": 33,
     "metadata": {},
     "output_type": "execute_result"
    },
    {
     "data": {
      "image/png": "[encoded data removed]",
      "text/plain": [
       "<Figure size 1440x720 with 1 Axes>"
      ]
     },
     "metadata": {
      "needs_background": "light"
     },
     "output_type": "display_data"
    }
   ],
   "source": [
    "plt.figure(figsize=(20,10))\n",
    "sns.countplot(y='original_language', data=rf_train, order=train['original_language'].value_counts().index)"
   ]
  },
  {
   "cell_type": "code",
   "execution_count": 34,
   "metadata": {},
   "outputs": [
    {
     "data": {
      "text/plain": [
       "<matplotlib.axes._subplots.AxesSubplot at 0x1a1edf3eb8>"
      ]
     },
     "execution_count": 34,
     "metadata": {},
     "output_type": "execute_result"
    },
    {
     "data": {
      "image/png": "[encoded data removed]",
      "text/plain": [
       "<Figure size 1440x720 with 1 Axes>"
      ]
     },
     "metadata": {
      "needs_background": "light"
     },
     "output_type": "display_data"
    }
   ],
   "source": [
    "plt.figure(figsize=(20,10))\n",
    "sns.countplot(y='original_language', data=rf_test, order=train['original_language'].value_counts().index)"
   ]
  },
  {
   "cell_type": "markdown",
   "metadata": {},
   "source": [
    "**One hot encoding** the values for 'original_language' column. Lesser occurring values have been grouped into 'other' value."
   ]
  },
  {
   "cell_type": "code",
   "execution_count": 35,
   "metadata": {},
   "outputs": [],
   "source": [
    "# One hot encoding 'original_language' values in 'train' dataframe.\n",
    "lang_cols = ['en', 'fr', 'ru', 'es', 'hi', 'ja', 'it', 'ko', 'cn', 'zh', 'de', 'ta']\n",
    "rf_train.loc[~rf_train['original_language'].isin(lang_cols), 'original_language'] = 'other'\n",
    "rf_train = pd.get_dummies(rf_train, columns=['original_language'])"
   ]
  },
  {
   "cell_type": "code",
   "execution_count": 36,
   "metadata": {},
   "outputs": [
    {
     "data": {
      "text/plain": [
       "['budget',\n",
       " 'popularity',\n",
       " 'release_date',\n",
       " 'runtime',\n",
       " 'status',\n",
       " 'homepage',\n",
       " 'overview',\n",
       " 'revenue',\n",
       " 'budget_is_median',\n",
       " 'original_language_cn',\n",
       " 'original_language_de',\n",
       " 'original_language_en',\n",
       " 'original_language_es',\n",
       " 'original_language_fr',\n",
       " 'original_language_hi',\n",
       " 'original_language_it',\n",
       " 'original_language_ja',\n",
       " 'original_language_ko',\n",
       " 'original_language_other',\n",
       " 'original_language_ru',\n",
       " 'original_language_ta',\n",
       " 'original_language_zh']"
      ]
     },
     "execution_count": 36,
     "metadata": {},
     "output_type": "execute_result"
    }
   ],
   "source": [
    "# View changes\n",
    "list(rf_train.columns)"
   ]
  },
  {
   "cell_type": "code",
   "execution_count": 37,
   "metadata": {},
   "outputs": [],
   "source": [
    "# One hot encoding 'original_language' in 'test' dataframe.\n",
    "rf_test.loc[~rf_test['original_language'].isin(lang_cols), 'original_language'] = 'other'\n",
    "rf_test = pd.get_dummies(rf_test, columns=['original_language'])"
   ]
  },
  {
   "cell_type": "code",
   "execution_count": 38,
   "metadata": {},
   "outputs": [
    {
     "data": {
      "text/plain": [
       "['budget',\n",
       " 'popularity',\n",
       " 'release_date',\n",
       " 'runtime',\n",
       " 'status',\n",
       " 'homepage',\n",
       " 'overview',\n",
       " 'budget_is_median',\n",
       " 'original_language_cn',\n",
       " 'original_language_de',\n",
       " 'original_language_en',\n",
       " 'original_language_es',\n",
       " 'original_language_fr',\n",
       " 'original_language_hi',\n",
       " 'original_language_it',\n",
       " 'original_language_ja',\n",
       " 'original_language_ko',\n",
       " 'original_language_other',\n",
       " 'original_language_ru',\n",
       " 'original_language_ta',\n",
       " 'original_language_zh']"
      ]
     },
     "execution_count": 38,
     "metadata": {},
     "output_type": "execute_result"
    }
   ],
   "source": [
    "# View changes\n",
    "list(rf_test.columns)"
   ]
  },
  {
   "cell_type": "markdown",
   "metadata": {},
   "source": [
    "**Status Column**"
   ]
  },
  {
   "cell_type": "markdown",
   "metadata": {},
   "source": [
    "**No missing values in 'train' dataframe\n",
    "<br>\n",
    "2 missing values in 'test' dataframe**"
   ]
  },
  {
   "cell_type": "code",
   "execution_count": 39,
   "metadata": {},
   "outputs": [
    {
     "data": {
      "text/plain": [
       "Released    2996\n",
       "Rumored        4\n",
       "Name: status, dtype: int64"
      ]
     },
     "execution_count": 39,
     "metadata": {},
     "output_type": "execute_result"
    }
   ],
   "source": [
    "rf_train['status'].value_counts()"
   ]
  },
  {
   "cell_type": "code",
   "execution_count": 40,
   "metadata": {},
   "outputs": [
    {
     "data": {
      "text/html": [
       "<div>\n",
       "<style scoped>\n",
       "    .dataframe tbody tr th:only-of-type {\n",
       "        vertical-align: middle;\n",
       "    }\n",
       "\n",
       "    .dataframe tbody tr th {\n",
       "        vertical-align: top;\n",
       "    }\n",
       "\n",
       "    .dataframe thead th {\n",
       "        text-align: right;\n",
       "    }\n",
       "</style>\n",
       "<table border=\"1\" class=\"dataframe\">\n",
       "  <thead>\n",
       "    <tr style=\"text-align: right;\">\n",
       "      <th></th>\n",
       "      <th>release_date</th>\n",
       "      <th>original_title</th>\n",
       "    </tr>\n",
       "  </thead>\n",
       "  <tbody>\n",
       "    <tr>\n",
       "      <th>609</th>\n",
       "      <td>1997-01-01</td>\n",
       "      <td>The Swan Princess: Escape from Castle Mountain</td>\n",
       "    </tr>\n",
       "    <tr>\n",
       "      <th>1007</th>\n",
       "      <td>2011-02-05</td>\n",
       "      <td>Billy Gardell: Halftime</td>\n",
       "    </tr>\n",
       "    <tr>\n",
       "      <th>1216</th>\n",
       "      <td>1986-08-22</td>\n",
       "      <td>Extremities</td>\n",
       "    </tr>\n",
       "    <tr>\n",
       "      <th>1618</th>\n",
       "      <td>1998-02-20</td>\n",
       "      <td>A Place Called Chiapas</td>\n",
       "    </tr>\n",
       "  </tbody>\n",
       "</table>\n",
       "</div>"
      ],
      "text/plain": [
       "     release_date                                  original_title\n",
       "609    1997-01-01  The Swan Princess: Escape from Castle Mountain\n",
       "1007   2011-02-05                         Billy Gardell: Halftime\n",
       "1216   1986-08-22                                     Extremities\n",
       "1618   1998-02-20                          A Place Called Chiapas"
      ]
     },
     "execution_count": 40,
     "metadata": {},
     "output_type": "execute_result"
    }
   ],
   "source": [
    "train[['release_date', 'original_title']][train['status']!='Released']"
   ]
  },
  {
   "cell_type": "code",
   "execution_count": 41,
   "metadata": {},
   "outputs": [
    {
     "data": {
      "text/plain": [
       "Released           4389\n",
       "Post Production       5\n",
       "Rumored               2\n",
       "Name: status, dtype: int64"
      ]
     },
     "execution_count": 41,
     "metadata": {},
     "output_type": "execute_result"
    }
   ],
   "source": [
    "test['status'].value_counts()"
   ]
  },
  {
   "cell_type": "code",
   "execution_count": 42,
   "metadata": {},
   "outputs": [
    {
     "data": {
      "text/html": [
       "<div>\n",
       "<style scoped>\n",
       "    .dataframe tbody tr th:only-of-type {\n",
       "        vertical-align: middle;\n",
       "    }\n",
       "\n",
       "    .dataframe tbody tr th {\n",
       "        vertical-align: top;\n",
       "    }\n",
       "\n",
       "    .dataframe thead th {\n",
       "        text-align: right;\n",
       "    }\n",
       "</style>\n",
       "<table border=\"1\" class=\"dataframe\">\n",
       "  <thead>\n",
       "    <tr style=\"text-align: right;\">\n",
       "      <th></th>\n",
       "      <th>release_date</th>\n",
       "      <th>original_title</th>\n",
       "    </tr>\n",
       "  </thead>\n",
       "  <tbody>\n",
       "    <tr>\n",
       "      <th>102</th>\n",
       "      <td>1987-05-13</td>\n",
       "      <td>Good Morning, Babilonia</td>\n",
       "    </tr>\n",
       "    <tr>\n",
       "      <th>264</th>\n",
       "      <td>2011-06-03</td>\n",
       "      <td>The Last Mountain</td>\n",
       "    </tr>\n",
       "    <tr>\n",
       "      <th>828</th>\n",
       "      <td>NaT</td>\n",
       "      <td>Jails, Hospitals &amp; Hip-Hop</td>\n",
       "    </tr>\n",
       "    <tr>\n",
       "      <th>847</th>\n",
       "      <td>2017-08-11</td>\n",
       "      <td>Good Time</td>\n",
       "    </tr>\n",
       "    <tr>\n",
       "      <th>1056</th>\n",
       "      <td>2002-09-09</td>\n",
       "      <td>Stevie</td>\n",
       "    </tr>\n",
       "    <tr>\n",
       "      <th>1260</th>\n",
       "      <td>2013-05-02</td>\n",
       "      <td>What Maisie Knew</td>\n",
       "    </tr>\n",
       "    <tr>\n",
       "      <th>1448</th>\n",
       "      <td>1986-12-12</td>\n",
       "      <td>Crimes of the Heart</td>\n",
       "    </tr>\n",
       "    <tr>\n",
       "      <th>1477</th>\n",
       "      <td>2008-12-23</td>\n",
       "      <td>Любовь-морковь 2</td>\n",
       "    </tr>\n",
       "    <tr>\n",
       "      <th>2585</th>\n",
       "      <td>2011-08-26</td>\n",
       "      <td>Higher Ground</td>\n",
       "    </tr>\n",
       "  </tbody>\n",
       "</table>\n",
       "</div>"
      ],
      "text/plain": [
       "     release_date              original_title\n",
       "102    1987-05-13     Good Morning, Babilonia\n",
       "264    2011-06-03           The Last Mountain\n",
       "828           NaT  Jails, Hospitals & Hip-Hop\n",
       "847    2017-08-11                   Good Time\n",
       "1056   2002-09-09                      Stevie\n",
       "1260   2013-05-02            What Maisie Knew\n",
       "1448   1986-12-12         Crimes of the Heart\n",
       "1477   2008-12-23            Любовь-морковь 2\n",
       "2585   2011-08-26               Higher Ground"
      ]
     },
     "execution_count": 42,
     "metadata": {},
     "output_type": "execute_result"
    }
   ],
   "source": [
    "test[['release_date', 'original_title']][test['status']!='Released']"
   ]
  },
  {
   "cell_type": "markdown",
   "metadata": {},
   "source": [
    "**It does not make sense to have the 'status' column in training of the model since most values are 'released' with very few exceptions. Also with a google search it is apparent that the films without a 'released' value under the 'status' column seem to have been released.**"
   ]
  },
  {
   "cell_type": "code",
   "execution_count": 43,
   "metadata": {},
   "outputs": [],
   "source": [
    "# Dropping column 'status' from 'rf_train' and 'rf_test' dataframes.\n",
    "rf_train.drop(columns='status', inplace=True)\n",
    "rf_test.drop(columns='status', inplace=True)"
   ]
  },
  {
   "cell_type": "markdown",
   "metadata": {},
   "source": [
    "**Homepage Column**"
   ]
  },
  {
   "cell_type": "markdown",
   "metadata": {},
   "source": [
    "**'object' type column.\n",
    "<br>\n",
    "68% values are missing in the train set for 'homepage' column.\n",
    "<br>\n",
    "67% are missing in the test set for the 'homepage' column.**"
   ]
  },
  {
   "cell_type": "markdown",
   "metadata": {},
   "source": [
    "The link to the actual homepage of a film does not seem useful instead it makes more sense to make the 'homepage' feature categorical and have two categories - has homepage, does not have homepage. This can be then one hot encoded to get two columns."
   ]
  },
  {
   "cell_type": "code",
   "execution_count": 44,
   "metadata": {},
   "outputs": [],
   "source": [
    "rf_train.loc[rf_train['homepage'].notnull(), 'homepage'] = 1\n",
    "rf_train.loc[rf_train['homepage'].isnull(), 'homepage'] = 0"
   ]
  },
  {
   "cell_type": "code",
   "execution_count": 45,
   "metadata": {},
   "outputs": [],
   "source": [
    "rf_test.loc[rf_test['homepage'].notnull(), 'homepage'] = 1\n",
    "rf_test.loc[rf_test['homepage'].isnull(), 'homepage'] = 0 "
   ]
  },
  {
   "cell_type": "code",
   "execution_count": 46,
   "metadata": {},
   "outputs": [
    {
     "data": {
      "text/plain": [
       "0    2054\n",
       "1     946\n",
       "Name: homepage, dtype: int64"
      ]
     },
     "execution_count": 46,
     "metadata": {},
     "output_type": "execute_result"
    }
   ],
   "source": [
    "rf_train['homepage'].value_counts()"
   ]
  },
  {
   "cell_type": "code",
   "execution_count": 47,
   "metadata": {},
   "outputs": [
    {
     "data": {
      "text/plain": [
       "0    2978\n",
       "1    1420\n",
       "Name: homepage, dtype: int64"
      ]
     },
     "execution_count": 47,
     "metadata": {},
     "output_type": "execute_result"
    }
   ],
   "source": [
    "rf_test['homepage'].value_counts()"
   ]
  },
  {
   "cell_type": "markdown",
   "metadata": {},
   "source": [
    "**Runtime Column**\n",
    "<br>\n",
    "2 out of 3000 values missing in 'rf_train'.\n",
    "<br>\n",
    "4 out of 4398 values missing in 'rf_test'."
   ]
  },
  {
   "cell_type": "code",
   "execution_count": 48,
   "metadata": {},
   "outputs": [
    {
     "data": {
      "text/plain": [
       "<matplotlib.axes._subplots.AxesSubplot at 0x1a1f652780>"
      ]
     },
     "execution_count": 48,
     "metadata": {},
     "output_type": "execute_result"
    },
    {
     "data": {
      "image/png": "[encoded data removed]",
      "text/plain": [
       "<Figure size 432x288 with 1 Axes>"
      ]
     },
     "metadata": {
      "needs_background": "light"
     },
     "output_type": "display_data"
    }
   ],
   "source": [
    "sns.distplot(rf_train['runtime'])"
   ]
  },
  {
   "cell_type": "code",
   "execution_count": 49,
   "metadata": {},
   "outputs": [
    {
     "data": {
      "text/plain": [
       "<matplotlib.axes._subplots.AxesSubplot at 0x1a1f6a9b70>"
      ]
     },
     "execution_count": 49,
     "metadata": {},
     "output_type": "execute_result"
    },
    {
     "data": {
      "image/png": "[encoded data removed]",
      "text/plain": [
       "<Figure size 432x288 with 1 Axes>"
      ]
     },
     "metadata": {
      "needs_background": "light"
     },
     "output_type": "display_data"
    }
   ],
   "source": [
    "sns.distplot(rf_test['runtime'])"
   ]
  },
  {
   "cell_type": "code",
   "execution_count": 50,
   "metadata": {},
   "outputs": [
    {
     "data": {
      "text/plain": [
       "104.0"
      ]
     },
     "execution_count": 50,
     "metadata": {},
     "output_type": "execute_result"
    }
   ],
   "source": [
    "rf_train['runtime'].median()"
   ]
  },
  {
   "cell_type": "code",
   "execution_count": 51,
   "metadata": {},
   "outputs": [],
   "source": [
    "# Since we have extremely few null values, they are\n",
    "# replaced with the respective median value\n",
    "median_runtime = rf_train['runtime'].median()\n",
    "value = {'runtime' : median_runtime} # Replacing null values only for the 'runtime' column!\n",
    "rf_train.fillna(value, inplace=True)\n",
    "rf_test.fillna(value, inplace=True)"
   ]
  },
  {
   "cell_type": "markdown",
   "metadata": {},
   "source": [
    "We can see that we have several outliers in the 'runtime' column in both the train and test dataframes. Let us further explore these data points and verify that their runtimes."
   ]
  },
  {
   "cell_type": "markdown",
   "metadata": {},
   "source": [
    "**First**, we explore the films with 'runtime' values at the lower end - less than 50 mins - in both train and test sets. "
   ]
  },
  {
   "cell_type": "code",
   "execution_count": 52,
   "metadata": {},
   "outputs": [
    {
     "data": {
      "text/html": [
       "<div>\n",
       "<style scoped>\n",
       "    .dataframe tbody tr th:only-of-type {\n",
       "        vertical-align: middle;\n",
       "    }\n",
       "\n",
       "    .dataframe tbody tr th {\n",
       "        vertical-align: top;\n",
       "    }\n",
       "\n",
       "    .dataframe thead th {\n",
       "        text-align: right;\n",
       "    }\n",
       "</style>\n",
       "<table border=\"1\" class=\"dataframe\">\n",
       "  <thead>\n",
       "    <tr style=\"text-align: right;\">\n",
       "      <th></th>\n",
       "      <th>release_date</th>\n",
       "      <th>genres</th>\n",
       "      <th>original_title</th>\n",
       "      <th>title</th>\n",
       "      <th>spoken_languages</th>\n",
       "      <th>runtime</th>\n",
       "    </tr>\n",
       "  </thead>\n",
       "  <tbody>\n",
       "    <tr>\n",
       "      <th>390</th>\n",
       "      <td>2012-12-22</td>\n",
       "      <td>[{'id': 35, 'name': 'Comedy'}]</td>\n",
       "      <td>Il peggior Natale della mia vita</td>\n",
       "      <td>The Worst Christmas of My Life</td>\n",
       "      <td>[{'iso_639_1': 'it', 'name': 'Italiano'}]</td>\n",
       "      <td>0.0</td>\n",
       "    </tr>\n",
       "    <tr>\n",
       "      <th>591</th>\n",
       "      <td>2003-12-04</td>\n",
       "      <td>[{'id': 18, 'name': 'Drama'}, {'id': 35, 'name...</td>\n",
       "      <td>А поутру они проснулись</td>\n",
       "      <td>А поутру они проснулись</td>\n",
       "      <td>[{'iso_639_1': 'ru', 'name': 'Pусский'}]</td>\n",
       "      <td>0.0</td>\n",
       "    </tr>\n",
       "    <tr>\n",
       "      <th>775</th>\n",
       "      <td>2011-04-08</td>\n",
       "      <td>[{'id': 99, 'name': 'Documentary'}]</td>\n",
       "      <td>Born to Be Wild</td>\n",
       "      <td>Born to Be Wild</td>\n",
       "      <td>[{'iso_639_1': 'en', 'name': 'English'}]</td>\n",
       "      <td>40.0</td>\n",
       "    </tr>\n",
       "    <tr>\n",
       "      <th>924</th>\n",
       "      <td>2013-11-15</td>\n",
       "      <td>[{'id': 35, 'name': 'Comedy'}]</td>\n",
       "      <td>¿Quién mató a Bambi?</td>\n",
       "      <td>¿Quién mató a Bambi?</td>\n",
       "      <td>[{'iso_639_1': 'es', 'name': 'Español'}]</td>\n",
       "      <td>0.0</td>\n",
       "    </tr>\n",
       "    <tr>\n",
       "      <th>977</th>\n",
       "      <td>2011-10-27</td>\n",
       "      <td>[{'id': 35, 'name': 'Comedy'}]</td>\n",
       "      <td>La peggior settimana della mia vita</td>\n",
       "      <td>La peggior settimana della mia vita</td>\n",
       "      <td>[{'iso_639_1': 'it', 'name': 'Italiano'}]</td>\n",
       "      <td>0.0</td>\n",
       "    </tr>\n",
       "    <tr>\n",
       "      <th>1020</th>\n",
       "      <td>1995-02-01</td>\n",
       "      <td>[{'id': 99, 'name': 'Documentary'}]</td>\n",
       "      <td>The Living Sea</td>\n",
       "      <td>The Living Sea</td>\n",
       "      <td>[{'iso_639_1': 'en', 'name': 'English'}]</td>\n",
       "      <td>40.0</td>\n",
       "    </tr>\n",
       "    <tr>\n",
       "      <th>1255</th>\n",
       "      <td>1975-08-25</td>\n",
       "      <td>[{'id': 37, 'name': 'Western'}]</td>\n",
       "      <td>Cipolla Colt</td>\n",
       "      <td>Cry, Onion!</td>\n",
       "      <td>[{'iso_639_1': 'en', 'name': 'English'}]</td>\n",
       "      <td>0.0</td>\n",
       "    </tr>\n",
       "    <tr>\n",
       "      <th>1541</th>\n",
       "      <td>2014-06-05</td>\n",
       "      <td>[{'id': 80, 'name': 'Crime'}, {'id': 35, 'name...</td>\n",
       "      <td>Все и сразу</td>\n",
       "      <td>All at Once</td>\n",
       "      <td>[{'iso_639_1': 'ru', 'name': 'Pусский'}]</td>\n",
       "      <td>0.0</td>\n",
       "    </tr>\n",
       "    <tr>\n",
       "      <th>1874</th>\n",
       "      <td>2007-01-01</td>\n",
       "      <td>[{'id': 80, 'name': 'Crime'}, {'id': 18, 'name...</td>\n",
       "      <td>Vermist</td>\n",
       "      <td>Missing</td>\n",
       "      <td>[{'iso_639_1': 'nl', 'name': 'Nederlands'}]</td>\n",
       "      <td>0.0</td>\n",
       "    </tr>\n",
       "    <tr>\n",
       "      <th>2150</th>\n",
       "      <td>2006-10-12</td>\n",
       "      <td>[{'id': 28, 'name': 'Action'}, {'id': 10749, '...</td>\n",
       "      <td>Mechenosets</td>\n",
       "      <td>Mechenosets</td>\n",
       "      <td>[{'iso_639_1': 'ru', 'name': 'Pусский'}]</td>\n",
       "      <td>0.0</td>\n",
       "    </tr>\n",
       "    <tr>\n",
       "      <th>2498</th>\n",
       "      <td>2010-04-15</td>\n",
       "      <td>[{'id': 28, 'name': 'Action'}, {'id': 878, 'na...</td>\n",
       "      <td>Na Igre 2. Novyy Uroven</td>\n",
       "      <td>Hooked on the Game 2. The Next Level</td>\n",
       "      <td>[{'iso_639_1': 'ru', 'name': 'Pусский'}]</td>\n",
       "      <td>0.0</td>\n",
       "    </tr>\n",
       "    <tr>\n",
       "      <th>2577</th>\n",
       "      <td>2028-06-16</td>\n",
       "      <td>[{'id': 35, 'name': 'Comedy'}, {'id': 18, 'nam...</td>\n",
       "      <td>The Life and Death of 9413, a Hollywood Extra</td>\n",
       "      <td>The Life and Death of 9413, a Hollywood Extra</td>\n",
       "      <td>[{'iso_639_1': 'xx', 'name': 'No Language'}]</td>\n",
       "      <td>11.0</td>\n",
       "    </tr>\n",
       "    <tr>\n",
       "      <th>2645</th>\n",
       "      <td>2014-04-25</td>\n",
       "      <td>[{'id': 10749, 'name': 'Romance'}]</td>\n",
       "      <td>同桌的妳</td>\n",
       "      <td>My Old Classmate</td>\n",
       "      <td>[{'iso_639_1': 'zh', 'name': '普通话'}]</td>\n",
       "      <td>0.0</td>\n",
       "    </tr>\n",
       "    <tr>\n",
       "      <th>2785</th>\n",
       "      <td>2001-04-12</td>\n",
       "      <td>[{'id': 14, 'name': 'Fantasy'}, {'id': 27, 'na...</td>\n",
       "      <td>Revelation</td>\n",
       "      <td>Revelation</td>\n",
       "      <td>NaN</td>\n",
       "      <td>0.0</td>\n",
       "    </tr>\n",
       "    <tr>\n",
       "      <th>2865</th>\n",
       "      <td>2012-11-30</td>\n",
       "      <td>[{'id': 35, 'name': 'Comedy'}]</td>\n",
       "      <td>Tutto tutto niente niente</td>\n",
       "      <td>Tutto tutto niente niente</td>\n",
       "      <td>[{'iso_639_1': 'it', 'name': 'Italiano'}]</td>\n",
       "      <td>0.0</td>\n",
       "    </tr>\n",
       "  </tbody>\n",
       "</table>\n",
       "</div>"
      ],
      "text/plain": [
       "     release_date                                             genres  \\\n",
       "390    2012-12-22                     [{'id': 35, 'name': 'Comedy'}]   \n",
       "591    2003-12-04  [{'id': 18, 'name': 'Drama'}, {'id': 35, 'name...   \n",
       "775    2011-04-08                [{'id': 99, 'name': 'Documentary'}]   \n",
       "924    2013-11-15                     [{'id': 35, 'name': 'Comedy'}]   \n",
       "977    2011-10-27                     [{'id': 35, 'name': 'Comedy'}]   \n",
       "1020   1995-02-01                [{'id': 99, 'name': 'Documentary'}]   \n",
       "1255   1975-08-25                    [{'id': 37, 'name': 'Western'}]   \n",
       "1541   2014-06-05  [{'id': 80, 'name': 'Crime'}, {'id': 35, 'name...   \n",
       "1874   2007-01-01  [{'id': 80, 'name': 'Crime'}, {'id': 18, 'name...   \n",
       "2150   2006-10-12  [{'id': 28, 'name': 'Action'}, {'id': 10749, '...   \n",
       "2498   2010-04-15  [{'id': 28, 'name': 'Action'}, {'id': 878, 'na...   \n",
       "2577   2028-06-16  [{'id': 35, 'name': 'Comedy'}, {'id': 18, 'nam...   \n",
       "2645   2014-04-25                 [{'id': 10749, 'name': 'Romance'}]   \n",
       "2785   2001-04-12  [{'id': 14, 'name': 'Fantasy'}, {'id': 27, 'na...   \n",
       "2865   2012-11-30                     [{'id': 35, 'name': 'Comedy'}]   \n",
       "\n",
       "                                     original_title  \\\n",
       "390                Il peggior Natale della mia vita   \n",
       "591                         А поутру они проснулись   \n",
       "775                                 Born to Be Wild   \n",
       "924                            ¿Quién mató a Bambi?   \n",
       "977             La peggior settimana della mia vita   \n",
       "1020                                 The Living Sea   \n",
       "1255                                   Cipolla Colt   \n",
       "1541                                    Все и сразу   \n",
       "1874                                        Vermist   \n",
       "2150                                    Mechenosets   \n",
       "2498                        Na Igre 2. Novyy Uroven   \n",
       "2577  The Life and Death of 9413, a Hollywood Extra   \n",
       "2645                                           同桌的妳   \n",
       "2785                                     Revelation   \n",
       "2865                      Tutto tutto niente niente   \n",
       "\n",
       "                                              title  \\\n",
       "390                  The Worst Christmas of My Life   \n",
       "591                         А поутру они проснулись   \n",
       "775                                 Born to Be Wild   \n",
       "924                            ¿Quién mató a Bambi?   \n",
       "977             La peggior settimana della mia vita   \n",
       "1020                                 The Living Sea   \n",
       "1255                                    Cry, Onion!   \n",
       "1541                                    All at Once   \n",
       "1874                                        Missing   \n",
       "2150                                    Mechenosets   \n",
       "2498           Hooked on the Game 2. The Next Level   \n",
       "2577  The Life and Death of 9413, a Hollywood Extra   \n",
       "2645                               My Old Classmate   \n",
       "2785                                     Revelation   \n",
       "2865                      Tutto tutto niente niente   \n",
       "\n",
       "                                  spoken_languages  runtime  \n",
       "390      [{'iso_639_1': 'it', 'name': 'Italiano'}]      0.0  \n",
       "591       [{'iso_639_1': 'ru', 'name': 'Pусский'}]      0.0  \n",
       "775       [{'iso_639_1': 'en', 'name': 'English'}]     40.0  \n",
       "924       [{'iso_639_1': 'es', 'name': 'Español'}]      0.0  \n",
       "977      [{'iso_639_1': 'it', 'name': 'Italiano'}]      0.0  \n",
       "1020      [{'iso_639_1': 'en', 'name': 'English'}]     40.0  \n",
       "1255      [{'iso_639_1': 'en', 'name': 'English'}]      0.0  \n",
       "1541      [{'iso_639_1': 'ru', 'name': 'Pусский'}]      0.0  \n",
       "1874   [{'iso_639_1': 'nl', 'name': 'Nederlands'}]      0.0  \n",
       "2150      [{'iso_639_1': 'ru', 'name': 'Pусский'}]      0.0  \n",
       "2498      [{'iso_639_1': 'ru', 'name': 'Pусский'}]      0.0  \n",
       "2577  [{'iso_639_1': 'xx', 'name': 'No Language'}]     11.0  \n",
       "2645          [{'iso_639_1': 'zh', 'name': '普通话'}]      0.0  \n",
       "2785                                           NaN      0.0  \n",
       "2865     [{'iso_639_1': 'it', 'name': 'Italiano'}]      0.0  "
      ]
     },
     "execution_count": 52,
     "metadata": {},
     "output_type": "execute_result"
    }
   ],
   "source": [
    "train[['release_date', 'genres', 'original_title', 'title', 'spoken_languages', 'runtime']][train['runtime']<50]"
   ]
  },
  {
   "cell_type": "code",
   "execution_count": 53,
   "metadata": {},
   "outputs": [
    {
     "data": {
      "text/plain": [
       "16"
      ]
     },
     "execution_count": 53,
     "metadata": {},
     "output_type": "execute_result"
    }
   ],
   "source": [
    "len(rf_test[rf_test['runtime']<50])"
   ]
  },
  {
   "cell_type": "code",
   "execution_count": 54,
   "metadata": {},
   "outputs": [
    {
     "data": {
      "text/html": [
       "<div>\n",
       "<style scoped>\n",
       "    .dataframe tbody tr th:only-of-type {\n",
       "        vertical-align: middle;\n",
       "    }\n",
       "\n",
       "    .dataframe tbody tr th {\n",
       "        vertical-align: top;\n",
       "    }\n",
       "\n",
       "    .dataframe thead th {\n",
       "        text-align: right;\n",
       "    }\n",
       "</style>\n",
       "<table border=\"1\" class=\"dataframe\">\n",
       "  <thead>\n",
       "    <tr style=\"text-align: right;\">\n",
       "      <th></th>\n",
       "      <th>release_date</th>\n",
       "      <th>genres</th>\n",
       "      <th>original_title</th>\n",
       "      <th>title</th>\n",
       "      <th>spoken_languages</th>\n",
       "      <th>runtime</th>\n",
       "    </tr>\n",
       "  </thead>\n",
       "  <tbody>\n",
       "    <tr>\n",
       "      <th>1073</th>\n",
       "      <td>2010-01-15</td>\n",
       "      <td>[{'id': 35, 'name': 'Comedy'}]</td>\n",
       "      <td>Shikshanachya Aaicha Gho</td>\n",
       "      <td>Shikshanachya Aaicha Gho</td>\n",
       "      <td>[{'iso_639_1': 'mr', 'name': ''}]</td>\n",
       "      <td>0.0</td>\n",
       "    </tr>\n",
       "    <tr>\n",
       "      <th>1221</th>\n",
       "      <td>1993-03-12</td>\n",
       "      <td>NaN</td>\n",
       "      <td>Street Knight</td>\n",
       "      <td>Street Knight</td>\n",
       "      <td>[{'iso_639_1': 'en', 'name': 'English'}]</td>\n",
       "      <td>0.0</td>\n",
       "    </tr>\n",
       "    <tr>\n",
       "      <th>1266</th>\n",
       "      <td>1983-10-19</td>\n",
       "      <td>[{'id': 10751, 'name': 'Family'}, {'id': 16, '...</td>\n",
       "      <td>Mickey's Christmas Carol</td>\n",
       "      <td>Mickey's Christmas Carol</td>\n",
       "      <td>[{'iso_639_1': 'en', 'name': 'English'}]</td>\n",
       "      <td>26.0</td>\n",
       "    </tr>\n",
       "    <tr>\n",
       "      <th>1430</th>\n",
       "      <td>2008-08-21</td>\n",
       "      <td>[{'id': 18, 'name': 'Drama'}, {'id': 35, 'name...</td>\n",
       "      <td>Плюс один</td>\n",
       "      <td>Plus one</td>\n",
       "      <td>[{'iso_639_1': 'en', 'name': 'English'}, {'iso...</td>\n",
       "      <td>0.0</td>\n",
       "    </tr>\n",
       "    <tr>\n",
       "      <th>2279</th>\n",
       "      <td>1983-01-01</td>\n",
       "      <td>[{'id': 16, 'name': 'Animation'}, {'id': 10751...</td>\n",
       "      <td>Winnie the Pooh and a Day for Eeyore</td>\n",
       "      <td>Winnie the Pooh and a Day for Eeyore</td>\n",
       "      <td>[{'iso_639_1': 'en', 'name': 'English'}]</td>\n",
       "      <td>25.0</td>\n",
       "    </tr>\n",
       "    <tr>\n",
       "      <th>2519</th>\n",
       "      <td>2010-05-06</td>\n",
       "      <td>NaN</td>\n",
       "      <td>Glukhar v kino</td>\n",
       "      <td>Glukhar v kino</td>\n",
       "      <td>[{'iso_639_1': 'ru', 'name': 'Pусский'}]</td>\n",
       "      <td>0.0</td>\n",
       "    </tr>\n",
       "    <tr>\n",
       "      <th>2602</th>\n",
       "      <td>2000-05-05</td>\n",
       "      <td>[{'id': 99, 'name': 'Documentary'}]</td>\n",
       "      <td>Michael Jordan to the Max</td>\n",
       "      <td>Michael Jordan to the Max</td>\n",
       "      <td>[{'iso_639_1': 'en', 'name': 'English'}]</td>\n",
       "      <td>46.0</td>\n",
       "    </tr>\n",
       "    <tr>\n",
       "      <th>2707</th>\n",
       "      <td>2008-07-15</td>\n",
       "      <td>[{'id': 12, 'name': 'Adventure'}, {'id': 28, '...</td>\n",
       "      <td>Dr. Horrible's Sing-Along Blog</td>\n",
       "      <td>Dr. Horrible's Sing-Along Blog</td>\n",
       "      <td>[{'iso_639_1': 'en', 'name': 'English'}]</td>\n",
       "      <td>42.0</td>\n",
       "    </tr>\n",
       "    <tr>\n",
       "      <th>2844</th>\n",
       "      <td>2015-01-15</td>\n",
       "      <td>[{'id': 35, 'name': 'Comedy'}]</td>\n",
       "      <td>Frau Müller muss weg!</td>\n",
       "      <td>Frau Müller muss weg!</td>\n",
       "      <td>[{'iso_639_1': 'de', 'name': 'Deutsch'}]</td>\n",
       "      <td>0.0</td>\n",
       "    </tr>\n",
       "    <tr>\n",
       "      <th>2848</th>\n",
       "      <td>2005-02-04</td>\n",
       "      <td>[{'id': 18, 'name': 'Drama'}, {'id': 10769, 'n...</td>\n",
       "      <td>Shabd</td>\n",
       "      <td>Shabd</td>\n",
       "      <td>[{'iso_639_1': 'hi', 'name': 'हिन्दी'}]</td>\n",
       "      <td>0.0</td>\n",
       "    </tr>\n",
       "    <tr>\n",
       "      <th>3209</th>\n",
       "      <td>1999-03-25</td>\n",
       "      <td>[{'id': 80, 'name': 'Crime'}, {'id': 18, 'name...</td>\n",
       "      <td>Le dernier souffle</td>\n",
       "      <td>The Last Breath</td>\n",
       "      <td>[{'iso_639_1': 'fr', 'name': 'Français'}]</td>\n",
       "      <td>0.0</td>\n",
       "    </tr>\n",
       "    <tr>\n",
       "      <th>3241</th>\n",
       "      <td>1998-03-06</td>\n",
       "      <td>[{'id': 12, 'name': 'Adventure'}, {'id': 99, '...</td>\n",
       "      <td>Everest</td>\n",
       "      <td>Everest</td>\n",
       "      <td>[{'iso_639_1': 'en', 'name': 'English'}]</td>\n",
       "      <td>44.0</td>\n",
       "    </tr>\n",
       "    <tr>\n",
       "      <th>3803</th>\n",
       "      <td>2005-02-11</td>\n",
       "      <td>[{'id': 10749, 'name': 'Romance'}, {'id': 18, ...</td>\n",
       "      <td>Chaahat Ek Nasha...</td>\n",
       "      <td>Chaahat Ek Nasha...</td>\n",
       "      <td>[{'iso_639_1': 'hi', 'name': 'हिन्दी'}]</td>\n",
       "      <td>0.0</td>\n",
       "    </tr>\n",
       "    <tr>\n",
       "      <th>3923</th>\n",
       "      <td>2001-02-23</td>\n",
       "      <td>[{'id': 16, 'name': 'Animation'}, {'id': 27, '...</td>\n",
       "      <td>Haunted Castle</td>\n",
       "      <td>Haunted Castle</td>\n",
       "      <td>[{'iso_639_1': 'en', 'name': 'English'}]</td>\n",
       "      <td>38.0</td>\n",
       "    </tr>\n",
       "    <tr>\n",
       "      <th>4085</th>\n",
       "      <td>1999-03-01</td>\n",
       "      <td>[{'id': 99, 'name': 'Documentary'}]</td>\n",
       "      <td>Wolves</td>\n",
       "      <td>Wolves</td>\n",
       "      <td>[{'iso_639_1': 'en', 'name': 'English'}]</td>\n",
       "      <td>40.0</td>\n",
       "    </tr>\n",
       "    <tr>\n",
       "      <th>4320</th>\n",
       "      <td>2008-11-07</td>\n",
       "      <td>[{'id': 18, 'name': 'Drama'}]</td>\n",
       "      <td>El truco del manco</td>\n",
       "      <td>El truco del manco</td>\n",
       "      <td>[{'iso_639_1': 'es', 'name': 'Español'}]</td>\n",
       "      <td>0.0</td>\n",
       "    </tr>\n",
       "  </tbody>\n",
       "</table>\n",
       "</div>"
      ],
      "text/plain": [
       "     release_date                                             genres  \\\n",
       "1073   2010-01-15                     [{'id': 35, 'name': 'Comedy'}]   \n",
       "1221   1993-03-12                                                NaN   \n",
       "1266   1983-10-19  [{'id': 10751, 'name': 'Family'}, {'id': 16, '...   \n",
       "1430   2008-08-21  [{'id': 18, 'name': 'Drama'}, {'id': 35, 'name...   \n",
       "2279   1983-01-01  [{'id': 16, 'name': 'Animation'}, {'id': 10751...   \n",
       "2519   2010-05-06                                                NaN   \n",
       "2602   2000-05-05                [{'id': 99, 'name': 'Documentary'}]   \n",
       "2707   2008-07-15  [{'id': 12, 'name': 'Adventure'}, {'id': 28, '...   \n",
       "2844   2015-01-15                     [{'id': 35, 'name': 'Comedy'}]   \n",
       "2848   2005-02-04  [{'id': 18, 'name': 'Drama'}, {'id': 10769, 'n...   \n",
       "3209   1999-03-25  [{'id': 80, 'name': 'Crime'}, {'id': 18, 'name...   \n",
       "3241   1998-03-06  [{'id': 12, 'name': 'Adventure'}, {'id': 99, '...   \n",
       "3803   2005-02-11  [{'id': 10749, 'name': 'Romance'}, {'id': 18, ...   \n",
       "3923   2001-02-23  [{'id': 16, 'name': 'Animation'}, {'id': 27, '...   \n",
       "4085   1999-03-01                [{'id': 99, 'name': 'Documentary'}]   \n",
       "4320   2008-11-07                      [{'id': 18, 'name': 'Drama'}]   \n",
       "\n",
       "                            original_title  \\\n",
       "1073              Shikshanachya Aaicha Gho   \n",
       "1221                         Street Knight   \n",
       "1266              Mickey's Christmas Carol   \n",
       "1430                             Плюс один   \n",
       "2279  Winnie the Pooh and a Day for Eeyore   \n",
       "2519                        Glukhar v kino   \n",
       "2602             Michael Jordan to the Max   \n",
       "2707        Dr. Horrible's Sing-Along Blog   \n",
       "2844                 Frau Müller muss weg!   \n",
       "2848                                 Shabd   \n",
       "3209                    Le dernier souffle   \n",
       "3241                               Everest   \n",
       "3803                   Chaahat Ek Nasha...   \n",
       "3923                        Haunted Castle   \n",
       "4085                                Wolves   \n",
       "4320                    El truco del manco   \n",
       "\n",
       "                                     title  \\\n",
       "1073              Shikshanachya Aaicha Gho   \n",
       "1221                         Street Knight   \n",
       "1266              Mickey's Christmas Carol   \n",
       "1430                              Plus one   \n",
       "2279  Winnie the Pooh and a Day for Eeyore   \n",
       "2519                        Glukhar v kino   \n",
       "2602             Michael Jordan to the Max   \n",
       "2707        Dr. Horrible's Sing-Along Blog   \n",
       "2844                 Frau Müller muss weg!   \n",
       "2848                                 Shabd   \n",
       "3209                       The Last Breath   \n",
       "3241                               Everest   \n",
       "3803                   Chaahat Ek Nasha...   \n",
       "3923                        Haunted Castle   \n",
       "4085                                Wolves   \n",
       "4320                    El truco del manco   \n",
       "\n",
       "                                       spoken_languages  runtime  \n",
       "1073                  [{'iso_639_1': 'mr', 'name': ''}]      0.0  \n",
       "1221           [{'iso_639_1': 'en', 'name': 'English'}]      0.0  \n",
       "1266           [{'iso_639_1': 'en', 'name': 'English'}]     26.0  \n",
       "1430  [{'iso_639_1': 'en', 'name': 'English'}, {'iso...      0.0  \n",
       "2279           [{'iso_639_1': 'en', 'name': 'English'}]     25.0  \n",
       "2519           [{'iso_639_1': 'ru', 'name': 'Pусский'}]      0.0  \n",
       "2602           [{'iso_639_1': 'en', 'name': 'English'}]     46.0  \n",
       "2707           [{'iso_639_1': 'en', 'name': 'English'}]     42.0  \n",
       "2844           [{'iso_639_1': 'de', 'name': 'Deutsch'}]      0.0  \n",
       "2848            [{'iso_639_1': 'hi', 'name': 'हिन्दी'}]      0.0  \n",
       "3209          [{'iso_639_1': 'fr', 'name': 'Français'}]      0.0  \n",
       "3241           [{'iso_639_1': 'en', 'name': 'English'}]     44.0  \n",
       "3803            [{'iso_639_1': 'hi', 'name': 'हिन्दी'}]      0.0  \n",
       "3923           [{'iso_639_1': 'en', 'name': 'English'}]     38.0  \n",
       "4085           [{'iso_639_1': 'en', 'name': 'English'}]     40.0  \n",
       "4320           [{'iso_639_1': 'es', 'name': 'Español'}]      0.0  "
      ]
     },
     "execution_count": 54,
     "metadata": {},
     "output_type": "execute_result"
    }
   ],
   "source": [
    "test[['release_date', 'genres', 'original_title', 'title', 'spoken_languages', 'runtime']][test['runtime']<50]"
   ]
  },
  {
   "cell_type": "markdown",
   "metadata": {},
   "source": [
    "**Next**, lets observe the films with 'runtime' values at the higher end - greater than 200 mins - both train and test sets. "
   ]
  },
  {
   "cell_type": "code",
   "execution_count": 55,
   "metadata": {},
   "outputs": [
    {
     "data": {
      "text/html": [
       "<div>\n",
       "<style scoped>\n",
       "    .dataframe tbody tr th:only-of-type {\n",
       "        vertical-align: middle;\n",
       "    }\n",
       "\n",
       "    .dataframe tbody tr th {\n",
       "        vertical-align: top;\n",
       "    }\n",
       "\n",
       "    .dataframe thead th {\n",
       "        text-align: right;\n",
       "    }\n",
       "</style>\n",
       "<table border=\"1\" class=\"dataframe\">\n",
       "  <thead>\n",
       "    <tr style=\"text-align: right;\">\n",
       "      <th></th>\n",
       "      <th>release_date</th>\n",
       "      <th>genres</th>\n",
       "      <th>original_title</th>\n",
       "      <th>title</th>\n",
       "      <th>spoken_languages</th>\n",
       "      <th>runtime</th>\n",
       "    </tr>\n",
       "  </thead>\n",
       "  <tbody>\n",
       "    <tr>\n",
       "      <th>523</th>\n",
       "      <td>2056-10-05</td>\n",
       "      <td>[{'id': 18, 'name': 'Drama'}, {'id': 36, 'name...</td>\n",
       "      <td>The Ten Commandments</td>\n",
       "      <td>The Ten Commandments</td>\n",
       "      <td>[{'iso_639_1': 'en', 'name': 'English'}]</td>\n",
       "      <td>220.0</td>\n",
       "    </tr>\n",
       "    <tr>\n",
       "      <th>625</th>\n",
       "      <td>2059-12-26</td>\n",
       "      <td>[{'id': 28, 'name': 'Action'}, {'id': 12, 'nam...</td>\n",
       "      <td>Ben-Hur</td>\n",
       "      <td>Ben-Hur</td>\n",
       "      <td>[{'iso_639_1': 'en', 'name': 'English'}]</td>\n",
       "      <td>212.0</td>\n",
       "    </tr>\n",
       "    <tr>\n",
       "      <th>1211</th>\n",
       "      <td>2010-05-19</td>\n",
       "      <td>[{'id': 80, 'name': 'Crime'}, {'id': 18, 'name...</td>\n",
       "      <td>Carlos</td>\n",
       "      <td>Carlos</td>\n",
       "      <td>[{'iso_639_1': 'fr', 'name': 'Français'}, {'is...</td>\n",
       "      <td>338.0</td>\n",
       "    </tr>\n",
       "    <tr>\n",
       "      <th>1302</th>\n",
       "      <td>1980-11-19</td>\n",
       "      <td>[{'id': 28, 'name': 'Action'}, {'id': 18, 'nam...</td>\n",
       "      <td>Heaven's Gate</td>\n",
       "      <td>Heaven's Gate</td>\n",
       "      <td>[{'iso_639_1': 'en', 'name': 'English'}, {'iso...</td>\n",
       "      <td>219.0</td>\n",
       "    </tr>\n",
       "    <tr>\n",
       "      <th>1914</th>\n",
       "      <td>2003-02-21</td>\n",
       "      <td>[{'id': 18, 'name': 'Drama'}, {'id': 36, 'name...</td>\n",
       "      <td>Gods and Generals</td>\n",
       "      <td>Gods and Generals</td>\n",
       "      <td>[{'iso_639_1': 'en', 'name': 'English'}]</td>\n",
       "      <td>214.0</td>\n",
       "    </tr>\n",
       "    <tr>\n",
       "      <th>1922</th>\n",
       "      <td>2063-06-12</td>\n",
       "      <td>[{'id': 18, 'name': 'Drama'}, {'id': 36, 'name...</td>\n",
       "      <td>Cleopatra</td>\n",
       "      <td>Cleopatra</td>\n",
       "      <td>[{'iso_639_1': 'en', 'name': 'English'}, {'iso...</td>\n",
       "      <td>248.0</td>\n",
       "    </tr>\n",
       "    <tr>\n",
       "      <th>1975</th>\n",
       "      <td>2011-12-12</td>\n",
       "      <td>[{'id': 35, 'name': 'Comedy'}]</td>\n",
       "      <td>Шапито-шоу</td>\n",
       "      <td>Chapiteau-Show</td>\n",
       "      <td>[{'iso_639_1': 'ru', 'name': 'Pусский'}]</td>\n",
       "      <td>207.0</td>\n",
       "    </tr>\n",
       "    <tr>\n",
       "      <th>2353</th>\n",
       "      <td>2008-02-15</td>\n",
       "      <td>[{'id': 28, 'name': 'Action'}, {'id': 12, 'nam...</td>\n",
       "      <td>Jodhaa Akbar</td>\n",
       "      <td>Jodhaa Akbar</td>\n",
       "      <td>[{'iso_639_1': 'hi', 'name': 'हिन्दी'}, {'iso_...</td>\n",
       "      <td>213.0</td>\n",
       "    </tr>\n",
       "  </tbody>\n",
       "</table>\n",
       "</div>"
      ],
      "text/plain": [
       "     release_date                                             genres  \\\n",
       "523    2056-10-05  [{'id': 18, 'name': 'Drama'}, {'id': 36, 'name...   \n",
       "625    2059-12-26  [{'id': 28, 'name': 'Action'}, {'id': 12, 'nam...   \n",
       "1211   2010-05-19  [{'id': 80, 'name': 'Crime'}, {'id': 18, 'name...   \n",
       "1302   1980-11-19  [{'id': 28, 'name': 'Action'}, {'id': 18, 'nam...   \n",
       "1914   2003-02-21  [{'id': 18, 'name': 'Drama'}, {'id': 36, 'name...   \n",
       "1922   2063-06-12  [{'id': 18, 'name': 'Drama'}, {'id': 36, 'name...   \n",
       "1975   2011-12-12                     [{'id': 35, 'name': 'Comedy'}]   \n",
       "2353   2008-02-15  [{'id': 28, 'name': 'Action'}, {'id': 12, 'nam...   \n",
       "\n",
       "            original_title                 title  \\\n",
       "523   The Ten Commandments  The Ten Commandments   \n",
       "625                Ben-Hur               Ben-Hur   \n",
       "1211                Carlos                Carlos   \n",
       "1302         Heaven's Gate         Heaven's Gate   \n",
       "1914     Gods and Generals     Gods and Generals   \n",
       "1922             Cleopatra             Cleopatra   \n",
       "1975            Шапито-шоу        Chapiteau-Show   \n",
       "2353          Jodhaa Akbar          Jodhaa Akbar   \n",
       "\n",
       "                                       spoken_languages  runtime  \n",
       "523            [{'iso_639_1': 'en', 'name': 'English'}]    220.0  \n",
       "625            [{'iso_639_1': 'en', 'name': 'English'}]    212.0  \n",
       "1211  [{'iso_639_1': 'fr', 'name': 'Français'}, {'is...    338.0  \n",
       "1302  [{'iso_639_1': 'en', 'name': 'English'}, {'iso...    219.0  \n",
       "1914           [{'iso_639_1': 'en', 'name': 'English'}]    214.0  \n",
       "1922  [{'iso_639_1': 'en', 'name': 'English'}, {'iso...    248.0  \n",
       "1975           [{'iso_639_1': 'ru', 'name': 'Pусский'}]    207.0  \n",
       "2353  [{'iso_639_1': 'hi', 'name': 'हिन्दी'}, {'iso_...    213.0  "
      ]
     },
     "execution_count": 55,
     "metadata": {},
     "output_type": "execute_result"
    }
   ],
   "source": [
    "train[['release_date', 'genres', 'original_title', 'title', 'spoken_languages', 'runtime']][train['runtime']>200]"
   ]
  },
  {
   "cell_type": "code",
   "execution_count": 56,
   "metadata": {},
   "outputs": [
    {
     "data": {
      "text/html": [
       "<div>\n",
       "<style scoped>\n",
       "    .dataframe tbody tr th:only-of-type {\n",
       "        vertical-align: middle;\n",
       "    }\n",
       "\n",
       "    .dataframe tbody tr th {\n",
       "        vertical-align: top;\n",
       "    }\n",
       "\n",
       "    .dataframe thead th {\n",
       "        text-align: right;\n",
       "    }\n",
       "</style>\n",
       "<table border=\"1\" class=\"dataframe\">\n",
       "  <thead>\n",
       "    <tr style=\"text-align: right;\">\n",
       "      <th></th>\n",
       "      <th>release_date</th>\n",
       "      <th>genres</th>\n",
       "      <th>original_title</th>\n",
       "      <th>title</th>\n",
       "      <th>spoken_languages</th>\n",
       "      <th>runtime</th>\n",
       "    </tr>\n",
       "  </thead>\n",
       "  <tbody>\n",
       "    <tr>\n",
       "      <th>132</th>\n",
       "      <td>1994-08-05</td>\n",
       "      <td>[{'id': 18, 'name': 'Drama'}, {'id': 10749, 'n...</td>\n",
       "      <td>Hum Aapke Hain Koun</td>\n",
       "      <td>Hum Aapke Hain Koun</td>\n",
       "      <td>[{'iso_639_1': 'hi', 'name': 'हिन्दी'}]</td>\n",
       "      <td>206.0</td>\n",
       "    </tr>\n",
       "    <tr>\n",
       "      <th>231</th>\n",
       "      <td>2056-10-10</td>\n",
       "      <td>[{'id': 28, 'name': 'Action'}, {'id': 18, 'nam...</td>\n",
       "      <td>Giant</td>\n",
       "      <td>Giant</td>\n",
       "      <td>[{'iso_639_1': 'en', 'name': 'English'}, {'iso...</td>\n",
       "      <td>201.0</td>\n",
       "    </tr>\n",
       "    <tr>\n",
       "      <th>1185</th>\n",
       "      <td>1993-10-08</td>\n",
       "      <td>[{'id': 10752, 'name': 'War'}, {'id': 18, 'nam...</td>\n",
       "      <td>Gettysburg</td>\n",
       "      <td>Gettysburg</td>\n",
       "      <td>[{'iso_639_1': 'en', 'name': 'English'}]</td>\n",
       "      <td>254.0</td>\n",
       "    </tr>\n",
       "    <tr>\n",
       "      <th>1424</th>\n",
       "      <td>2054-04-26</td>\n",
       "      <td>[{'id': 28, 'name': 'Action'}, {'id': 18, 'nam...</td>\n",
       "      <td>七人の侍</td>\n",
       "      <td>Seven Samurai</td>\n",
       "      <td>[{'iso_639_1': 'ja', 'name': '日本語'}]</td>\n",
       "      <td>207.0</td>\n",
       "    </tr>\n",
       "    <tr>\n",
       "      <th>2065</th>\n",
       "      <td>2001-06-15</td>\n",
       "      <td>[{'id': 12, 'name': 'Adventure'}, {'id': 18, '...</td>\n",
       "      <td>लगान</td>\n",
       "      <td>Lagaan: Once Upon a Time in India</td>\n",
       "      <td>[{'iso_639_1': 'en', 'name': 'English'}, {'iso...</td>\n",
       "      <td>224.0</td>\n",
       "    </tr>\n",
       "    <tr>\n",
       "      <th>2710</th>\n",
       "      <td>2012-06-22</td>\n",
       "      <td>[{'id': 28, 'name': 'Action'}, {'id': 53, 'nam...</td>\n",
       "      <td>Gangs of वासेपुर</td>\n",
       "      <td>Gangs of Wasseypur</td>\n",
       "      <td>[{'iso_639_1': 'hi', 'name': 'हिन्दी'}]</td>\n",
       "      <td>320.0</td>\n",
       "    </tr>\n",
       "    <tr>\n",
       "      <th>3192</th>\n",
       "      <td>2056-08-21</td>\n",
       "      <td>[{'id': 18, 'name': 'Drama'}, {'id': 10752, 'n...</td>\n",
       "      <td>War and Peace</td>\n",
       "      <td>War and Peace</td>\n",
       "      <td>[{'iso_639_1': 'en', 'name': 'English'}, {'iso...</td>\n",
       "      <td>208.0</td>\n",
       "    </tr>\n",
       "    <tr>\n",
       "      <th>3335</th>\n",
       "      <td>2039-12-15</td>\n",
       "      <td>[{'id': 18, 'name': 'Drama'}, {'id': 10749, 'n...</td>\n",
       "      <td>Gone with the Wind</td>\n",
       "      <td>Gone with the Wind</td>\n",
       "      <td>[{'iso_639_1': 'en', 'name': 'English'}]</td>\n",
       "      <td>238.0</td>\n",
       "    </tr>\n",
       "    <tr>\n",
       "      <th>3611</th>\n",
       "      <td>2003-12-01</td>\n",
       "      <td>[{'id': 12, 'name': 'Adventure'}, {'id': 14, '...</td>\n",
       "      <td>The Lord of the Rings: The Return of the King</td>\n",
       "      <td>The Lord of the Rings: The Return of the King</td>\n",
       "      <td>[{'iso_639_1': 'en', 'name': 'English'}]</td>\n",
       "      <td>201.0</td>\n",
       "    </tr>\n",
       "    <tr>\n",
       "      <th>3856</th>\n",
       "      <td>2060-03-27</td>\n",
       "      <td>[{'id': 28, 'name': 'Action'}, {'id': 18, 'nam...</td>\n",
       "      <td>Exodus</td>\n",
       "      <td>Exodus</td>\n",
       "      <td>[{'iso_639_1': 'en', 'name': 'English'}]</td>\n",
       "      <td>208.0</td>\n",
       "    </tr>\n",
       "    <tr>\n",
       "      <th>4054</th>\n",
       "      <td>1992-11-18</td>\n",
       "      <td>[{'id': 18, 'name': 'Drama'}, {'id': 36, 'name...</td>\n",
       "      <td>Malcolm X</td>\n",
       "      <td>Malcolm X</td>\n",
       "      <td>[{'iso_639_1': 'ar', 'name': 'العربية'}, {'iso...</td>\n",
       "      <td>202.0</td>\n",
       "    </tr>\n",
       "    <tr>\n",
       "      <th>4253</th>\n",
       "      <td>2062-12-10</td>\n",
       "      <td>[{'id': 12, 'name': 'Adventure'}, {'id': 18, '...</td>\n",
       "      <td>Lawrence of Arabia</td>\n",
       "      <td>Lawrence of Arabia</td>\n",
       "      <td>[{'iso_639_1': 'ar', 'name': 'العربية'}, {'iso...</td>\n",
       "      <td>216.0</td>\n",
       "    </tr>\n",
       "    <tr>\n",
       "      <th>4381</th>\n",
       "      <td>1970-03-26</td>\n",
       "      <td>[{'id': 36, 'name': 'History'}, {'id': 99, 'na...</td>\n",
       "      <td>Woodstock</td>\n",
       "      <td>Woodstock</td>\n",
       "      <td>[{'iso_639_1': 'en', 'name': 'English'}]</td>\n",
       "      <td>225.0</td>\n",
       "    </tr>\n",
       "  </tbody>\n",
       "</table>\n",
       "</div>"
      ],
      "text/plain": [
       "     release_date                                             genres  \\\n",
       "132    1994-08-05  [{'id': 18, 'name': 'Drama'}, {'id': 10749, 'n...   \n",
       "231    2056-10-10  [{'id': 28, 'name': 'Action'}, {'id': 18, 'nam...   \n",
       "1185   1993-10-08  [{'id': 10752, 'name': 'War'}, {'id': 18, 'nam...   \n",
       "1424   2054-04-26  [{'id': 28, 'name': 'Action'}, {'id': 18, 'nam...   \n",
       "2065   2001-06-15  [{'id': 12, 'name': 'Adventure'}, {'id': 18, '...   \n",
       "2710   2012-06-22  [{'id': 28, 'name': 'Action'}, {'id': 53, 'nam...   \n",
       "3192   2056-08-21  [{'id': 18, 'name': 'Drama'}, {'id': 10752, 'n...   \n",
       "3335   2039-12-15  [{'id': 18, 'name': 'Drama'}, {'id': 10749, 'n...   \n",
       "3611   2003-12-01  [{'id': 12, 'name': 'Adventure'}, {'id': 14, '...   \n",
       "3856   2060-03-27  [{'id': 28, 'name': 'Action'}, {'id': 18, 'nam...   \n",
       "4054   1992-11-18  [{'id': 18, 'name': 'Drama'}, {'id': 36, 'name...   \n",
       "4253   2062-12-10  [{'id': 12, 'name': 'Adventure'}, {'id': 18, '...   \n",
       "4381   1970-03-26  [{'id': 36, 'name': 'History'}, {'id': 99, 'na...   \n",
       "\n",
       "                                     original_title  \\\n",
       "132                             Hum Aapke Hain Koun   \n",
       "231                                           Giant   \n",
       "1185                                     Gettysburg   \n",
       "1424                                           七人の侍   \n",
       "2065                                           लगान   \n",
       "2710                               Gangs of वासेपुर   \n",
       "3192                                  War and Peace   \n",
       "3335                             Gone with the Wind   \n",
       "3611  The Lord of the Rings: The Return of the King   \n",
       "3856                                         Exodus   \n",
       "4054                                      Malcolm X   \n",
       "4253                             Lawrence of Arabia   \n",
       "4381                                      Woodstock   \n",
       "\n",
       "                                              title  \\\n",
       "132                             Hum Aapke Hain Koun   \n",
       "231                                           Giant   \n",
       "1185                                     Gettysburg   \n",
       "1424                                  Seven Samurai   \n",
       "2065              Lagaan: Once Upon a Time in India   \n",
       "2710                             Gangs of Wasseypur   \n",
       "3192                                  War and Peace   \n",
       "3335                             Gone with the Wind   \n",
       "3611  The Lord of the Rings: The Return of the King   \n",
       "3856                                         Exodus   \n",
       "4054                                      Malcolm X   \n",
       "4253                             Lawrence of Arabia   \n",
       "4381                                      Woodstock   \n",
       "\n",
       "                                       spoken_languages  runtime  \n",
       "132             [{'iso_639_1': 'hi', 'name': 'हिन्दी'}]    206.0  \n",
       "231   [{'iso_639_1': 'en', 'name': 'English'}, {'iso...    201.0  \n",
       "1185           [{'iso_639_1': 'en', 'name': 'English'}]    254.0  \n",
       "1424               [{'iso_639_1': 'ja', 'name': '日本語'}]    207.0  \n",
       "2065  [{'iso_639_1': 'en', 'name': 'English'}, {'iso...    224.0  \n",
       "2710            [{'iso_639_1': 'hi', 'name': 'हिन्दी'}]    320.0  \n",
       "3192  [{'iso_639_1': 'en', 'name': 'English'}, {'iso...    208.0  \n",
       "3335           [{'iso_639_1': 'en', 'name': 'English'}]    238.0  \n",
       "3611           [{'iso_639_1': 'en', 'name': 'English'}]    201.0  \n",
       "3856           [{'iso_639_1': 'en', 'name': 'English'}]    208.0  \n",
       "4054  [{'iso_639_1': 'ar', 'name': 'العربية'}, {'iso...    202.0  \n",
       "4253  [{'iso_639_1': 'ar', 'name': 'العربية'}, {'iso...    216.0  \n",
       "4381           [{'iso_639_1': 'en', 'name': 'English'}]    225.0  "
      ]
     },
     "execution_count": 56,
     "metadata": {},
     "output_type": "execute_result"
    }
   ],
   "source": [
    "test[['release_date', 'genres', 'original_title', 'title', 'spoken_languages', 'runtime']][test['runtime']>200]"
   ]
  },
  {
   "cell_type": "markdown",
   "metadata": {},
   "source": [
    "Correcting the 'runtime' values for incorrect 'runtime' values found above."
   ]
  },
  {
   "cell_type": "code",
   "execution_count": 57,
   "metadata": {},
   "outputs": [],
   "source": [
    "#'rf_train' dataframe with film 'runtime' values less than 50\n",
    "rf_train.iloc[390, 3] = 86\n",
    "rf_train.iloc[591, 3] = 90\n",
    "rf_train.iloc[924, 3] = 86\n",
    "rf_train.iloc[977, 3] = 93\n",
    "rf_train.iloc[1255, 3] = 92\n",
    "rf_train.iloc[1541, 3] = 93\n",
    "rf_train.iloc[1874, 3] = 86\n",
    "rf_train.iloc[2150, 3] = 108\n",
    "rf_train.iloc[2498, 3] = 86\n",
    "rf_train.iloc[2577, 3] = 11\n",
    "rf_train.iloc[2645, 3] = 98\n",
    "rf_train.iloc[2785, 3] = 111\n",
    "rf_train.iloc[2865, 3] = 96\n",
    "\n",
    "#'rf_train' dataframe with film 'runtime' values greater than 200\n",
    "rf_train.drop(1211, inplace=True) # dropped because runtime is extreme/outlier.\n",
    "# To maintain symmetry we drop the same row from the 'train' dataset as well.\n",
    "train.drop(1211, inplace=True)\n",
    "rf_train.iloc[1914, 3] = 219\n",
    "rf_train.iloc[1922, 3] = 192\n",
    "rf_train.iloc[1975, 3] = 111\n",
    "\n",
    "#'rf_test' dataframe with film 'runtime' values less than 50\n",
    "rf_test.iloc[1073, 3] = 103\n",
    "rf_test.iloc[1221, 3] = 91\n",
    "rf_test.iloc[1430, 3] = 96\n",
    "rf_test.iloc[2519, 3] = 86\n",
    "rf_test.iloc[2844, 3] = 83\n",
    "rf_test.iloc[2848, 3] = 140\n",
    "rf_test.iloc[3209, 3] = 104\n",
    "rf_test.iloc[3803, 3] = 140\n",
    "rf_test.iloc[4320, 3] = 87\n",
    "\n",
    "#'rf_test' dataframe with film 'runtime' values greater than 200\n",
    "rf_test.iloc[1185, 3] = 271\n",
    "rf_test.iloc[4253, 3] = 228\n",
    "rf_test.iloc[4381, 3] = 184\n"
   ]
  },
  {
   "cell_type": "code",
   "execution_count": 58,
   "metadata": {},
   "outputs": [],
   "source": [
    "# Reset the indices to account for dropped column in 'rf_train' and 'train' dataframes\n",
    "rf_train.reset_index(drop=True, inplace=True)\n",
    "train.reset_index(drop=True, inplace=True)"
   ]
  },
  {
   "cell_type": "markdown",
   "metadata": {},
   "source": [
    "**Release_date Column**"
   ]
  },
  {
   "cell_type": "markdown",
   "metadata": {},
   "source": [
    "We have only one missing value for 'release_date' column in the test dataset."
   ]
  },
  {
   "cell_type": "code",
   "execution_count": 59,
   "metadata": {},
   "outputs": [],
   "source": [
    "# Replacing the null 'release_date' value in the 'rf_test' dataframe.\n",
    "rf_test.iloc[828, 2] = pd.Timestamp(year=2000, month=5, day=1)"
   ]
  },
  {
   "cell_type": "code",
   "execution_count": 60,
   "metadata": {},
   "outputs": [],
   "source": [
    "def add_date_features(df):\n",
    "    df['day'] = df['release_date'].dt.day\n",
    "    df['month'] = df['release_date'].dt.month\n",
    "    df['year'] = df['release_date'].dt.year\n",
    "    df['quarter_year'] = df['release_date'].dt.quarter\n",
    "    df['day_of_week'] = df['release_date'].dt.dayofweek\n",
    "    df['near_weekend'] = 0\n",
    "    days_near_weekend = [4, 5, 6]\n",
    "    df.loc[df['day_of_week'].isin(days_near_weekend), 'near_weekend'] = 1\n",
    "    df.drop(columns=['day_of_week', 'release_date'], axis=1, inplace=True)\n",
    "    return df\n",
    "    "
   ]
  },
  {
   "cell_type": "code",
   "execution_count": 61,
   "metadata": {},
   "outputs": [],
   "source": [
    "rf_train = add_date_features(rf_train)\n",
    "rf_test = add_date_features(rf_test)"
   ]
  },
  {
   "cell_type": "markdown",
   "metadata": {},
   "source": [
    "**-> 'production_companies', 'production_countries', 'Keywords', 'crew', 'cast', 'belongs_to_collection' Columns.**\n",
    "<br>\n",
    "* **'production_companies'** -> How many production companies involved?<br>\n",
    "* **'production_countries'** -> How many countries involved in production?<br>\n",
    "* **'Keywords'** -> How many Keywords?<br>\n",
    "* **'crew'** -> Size of crew<br>\n",
    "* **'cast'** -> Number of people cast in film.<br>\n",
    "* **'belongs_to_collection'** -> Does the film belong to a collection, if yes then what is the name of collection?"
   ]
  },
  {
   "cell_type": "code",
   "execution_count": 62,
   "metadata": {},
   "outputs": [
    {
     "data": {
      "text/plain": [
       "0       [{'id': 313576, 'name': 'Hot Tub Time Machine ...\n",
       "1       [{'id': 107674, 'name': 'The Princess Diaries ...\n",
       "2                                                     NaN\n",
       "3                                                     NaN\n",
       "4                                                     NaN\n",
       "                              ...                        \n",
       "2994                                                  NaN\n",
       "2995                                                  NaN\n",
       "2996                                                  NaN\n",
       "2997                                                  NaN\n",
       "2998                                                  NaN\n",
       "Name: belongs_to_collection, Length: 2999, dtype: object"
      ]
     },
     "execution_count": 62,
     "metadata": {},
     "output_type": "execute_result"
    }
   ],
   "source": [
    "train['belongs_to_collection']"
   ]
  },
  {
   "cell_type": "code",
   "execution_count": 63,
   "metadata": {},
   "outputs": [],
   "source": [
    "def extract_pythoncode(s):\n",
    "    \"\"\"Function to evaluate a string as Python code\"\"\"\n",
    "    try:\n",
    "        d = eval(s)\n",
    "    except:\n",
    "        d = {}\n",
    "    return d"
   ]
  },
  {
   "cell_type": "code",
   "execution_count": 64,
   "metadata": {},
   "outputs": [],
   "source": [
    "manipulate_cols = ['production_companies', 'production_countries', 'Keywords', 'crew', 'cast']\n",
    "def use_other_features(df, main_df):\n",
    "    \"\"\"Function to convert columns in manipulate_cols to a more useful form\"\"\"\n",
    "    for col in manipulate_cols:\n",
    "\n",
    "        df[col] = main_df[col]\n",
    "        df[col] = df[col].apply(lambda val: extract_pythoncode(val))\n",
    "        # Get number of dictionaries.\n",
    "        df[col] = df[col].apply(lambda val: 0 if val == {} else len(val))\n",
    "    return df"
   ]
  },
  {
   "cell_type": "code",
   "execution_count": 65,
   "metadata": {},
   "outputs": [],
   "source": [
    "rf_train = use_other_features(rf_train, train)\n",
    "rf_test = use_other_features(rf_test, test)"
   ]
  },
  {
   "cell_type": "markdown",
   "metadata": {},
   "source": [
    "**belongs_to_collection Column**"
   ]
  },
  {
   "cell_type": "code",
   "execution_count": 66,
   "metadata": {},
   "outputs": [
    {
     "name": "stdout",
     "output_type": "stream",
     "text": [
      "mappings:-\n",
      "{'... Has Fallen Collection': 0, '0': 1, '101 Dalmatians (Animated) Collection': 2, '101 Dalmatians (Live-Action) Collection': 3, '12 Rounds Collection': 4, '2 Days In... Collection': 5, '20th Century Boys Collection': 6, '28 Days/Weeks Later Collection': 7, '3 Men (Original) Collection': 8, '30 Days of Night Collection': 9, '300 Collection': 10, '48 Hrs. Collection': 11, '8MM Collection': 12, '976-EVIL Collection': 13, '9½ Weeks Collection': 14, 'A Better Tomorrow Collection': 15, 'A Christmas Story Collection': 16, 'A Few Best Men Collection': 17, 'A Goofy Movie Collection': 18, 'A Haunted House Collection': 19, 'A Nightmare on Elm Street Collection': 20, 'ABCD Collection': 21, 'AVP Collection': 22, 'Aashiqui Collection': 23, 'Ace Ventura Collection': 24, 'Addams Family Collection': 25, 'Agent Cody Banks Collection': 26, 'Air Bud Collection': 27, 'Airplane Collection': 28, 'Airport Collection': 29, \"Aki Kaurismäki's Finland trilogy\": 30, 'Aladdin Collection': 31, 'Alex Cross Collection': 32, 'Alice in Wonderland Collection': 33, 'Alien Collection': 34, 'Alien Nation Collection': 35, 'All Dogs Go to Heaven Collection': 36, 'Allan Quatermain Collection': 37, 'Almighty Collection': 38, 'Alone in the Dark Collection': 39, 'Alpha and Omega Collection': 40, 'Alvin and the Chipmunks Collection': 41, 'Always: Sunset on Third Street Collection': 42, 'American Graffiti Collection': 43, 'American Ninja Collection': 44, 'American Pie Collection': 45, 'American Psycho Collection': 46, 'Anaconda Collection': 47, 'Analyze Collection': 48, 'Anchorman Collection': 49, 'Anglo-Zulu War Collection': 50, 'Annabelle Collection': 51, 'Annie Collection': 52, 'Another Gay Movie Collection': 53, 'Ant-Man Collection': 54, 'Appleseed Collection': 55, 'Arthur Collection': 56, 'Arthur and the Invisibles Collection': 57, 'Asterix and Obelix Collection': 58, 'Atlantis Collection': 59, 'Atlas Shrugged Collection': 60, 'Austin Powers Collection': 61, 'Avatar Collection': 62, 'Babe Collection': 63, 'Bachelor Party Collection': 64, 'Back to the Future Collection': 65, 'Bad Boys Collection': 66, 'Bad Santa Collection': 67, 'Bahubali Collection': 68, 'Balto Collection': 69, 'Bambi Collection': 70, 'Barbershop Collection': 71, 'Barbie A Mermaid Tale Collection': 72, 'Basic Instinct Collection': 73, 'Batman (DC Universe Animated) Collection': 74, 'Batman Collection': 75, 'Bats Collection': 76, 'Battle Royale Collection': 77, 'Beastmaster Collection': 78, 'Beauty and the Beast Collection': 79, 'Beethoven Collection': 80, 'Before... Collection': 81, 'Behind Enemy Lines Collection': 82, 'Benvenuti al... Collection': 83, 'Best Exotic Marigold Hotel Collection': 84, 'Best of the Best Collection': 85, 'Beverly Hills Chihuahua Collection': 86, 'Beverly Hills Cop Collection': 87, \"Big Momma's House Collection\": 88, \"Bill & Ted's Most Excellent Collection\": 89, 'Billy Jack Collection': 90, 'Blade Collection': 91, 'Blade Runner Collection': 92, 'Blair Witch Collection': 93, 'BloodRayne Collection': 94, 'Bloodsport Collection': 95, 'Blue Collar Comedy Tour Collection': 96, 'Blue Crush Collection': 97, 'Bon Cop Bad Cop Collection': 98, 'Borsalino Collection': 99, 'Brancaleone Collection': 100, 'Bridget Jones Collection': 101, 'Bring It On Collection': 102, 'Brooklyn Cigar Store Collection': 103, 'Bummer Collection': 104, 'Burnt by the Sun Trilogy': 105, 'C.H.U.D. Collection': 106, 'Caddyshack Collection': 107, 'Candyman Collection': 108, 'Cannonball Run Collection': 109, 'Captain America Collection': 110, 'Captain Harlock Collection': 111, 'Care Bears Collection': 112, 'Carnosaur Collection': 113, 'Carrie Collection': 114, 'Cars Collection': 115, 'Casper Collection': 116, 'Cat People Collection': 117, 'Cats & Dogs Collection': 118, 'Center Stage Collection': 119, 'Cetto La Qualunque - Collezione': 120, \"Charlie's Angels Collection\": 121, 'Cheaper by the Dozen Collection': 122, 'Cheech & Chong Collection': 123, \"Child's Play Collection\": 124, 'Children of the Corn Collection': 125, 'Chili Palmer Collection': 126, 'Cinderella Collection': 127, 'Cinderella Story Collection': 128, 'Cirque du Soleil Collection': 129, 'City Slickers Collection': 130, 'Clash of the Titans Collection': 131, 'Class of 1999 Collection': 132, 'Clerks Collection': 133, \"Clint Eastwood's Iwo Jima Collection\": 134, 'Cloudy with a Chance of Meatballs Collection': 135, 'Cocaine Cowboys': 136, 'Cocoon Collection': 137, 'Conan the Barbarian Collection': 138, 'Constantine Collection': 139, \"Cowgirls n' Angels Collection\": 140, 'Crank Collection': 141, 'Creature From The Black Lagoon (Universal Series)': 142, 'Creepshow Collection': 143, 'Critters Collection': 144, 'Crocodile Dundee Collection': 145, 'Crouching Tiger, Hidden Dragon Collection': 146, 'Cruel Intentions Collection': 147, 'Cube Collection': 148, 'Curious George Collection': 149, 'Cyborg Collection': 150, 'Daddy Day Camp Collection': 151, \"Daddy's Home Collection\": 152, 'Dark Planet Collection': 153, 'Dark World Collection': 154, 'Darkman Collection': 155, 'Darko Collection': 156, 'Dead Snow Collection': 157, 'Deadpool Collection': 158, 'Death Note Collection': 159, 'Death Race Collection': 160, 'Death Race Original Collection': 161, 'Death Wish Collection': 162, 'Deathstalker Collection': 163, 'Demetrius Filmreihe': 164, 'Dennis the Menace Collection': 165, 'Department Q series': 166, 'Despicable Me Collection': 167, 'Detective Dee Collection': 168, 'Deuce Bigalow Collection': 169, 'Dhoom Series': 170, 'Diary of a Wimpy Kid Collection': 171, 'Die Hard Collection': 172, 'Dirty Dancing Collection': 173, 'Dirty Harry Collection': 174, 'Disneys Große Pause': 175, 'District 13 Collection': 176, 'Divergent Collection': 177, 'Django - Original films': 178, 'Dolphin Tale Collection': 179, 'Doraemon Collection': 180, 'Dorm Daze Collection': 181, 'Dr. Dolittle Collection': 182, 'Dracula (Hammer Series)': 183, 'Dracula (Universal Series)': 184, 'Dracula 2000 Collection': 185, 'Dragon Ball Z (Movie) Collection': 186, 'DragonHeart Collection': 187, 'Dumb and Dumber Collection': 188, 'Dungeons & Dragons Collection': 189, 'East is East Collection': 190, 'Eddie and the Cruisers Collection': 191, 'El pico - Colección': 192, 'Elektra Luxx Collection': 193, 'Elements Trilogy': 194, 'Elite Squad Collection': 195, 'Elizabeth Collection': 196, 'Elvira Collection': 197, 'Encounters of the Spooky Kind Collection': 198, 'Enter the Ninja Collection': 199, 'Erkan & Stefan Filmreihe': 200, 'Ernest Collection': 201, 'Escape From ... Collection': 202, 'Evangelion Collection': 203, 'Evil Dead Collection': 204, 'Eye of the Dolphin Collection': 205, 'F*ck You, Goethe Collection': 206, 'F.C. De Kampioenen Collectie': 207, 'F/X Collection': 208, 'Fanny Brice Collection': 209, 'Fantasia Collection': 210, 'Fantastic Beasts Collection': 211, 'Fantastic Four Collection': 212, 'Father of the Bride Collection': 213, 'Feast Collection': 214, 'FernGully Collection': 215, 'Fievel Collection': 216, 'Fifty Shades Collection': 217, 'Final Destination Collection': 218, 'Final Fantasy Collection': 219, 'Finding Nemo Collection': 220, 'Firestarter Collection': 221, 'Fist of the North Star: The Legends of the True Savior': 222, 'Fletch Collection': 223, 'Fortress Collection': 224, 'Frankenstein (Universal Series)': 225, 'Free Willy Collection': 226, 'French Connection Collection': 227, 'Friday Collection': 228, 'Friday the 13th Collection': 229, 'Fright Night (Reboot) Collection': 230, 'Fright Night Collection': 231, 'From Dusk Till Dawn Collection': 232, 'Frozen Collection': 233, 'Fullmetal Alchemist Collection': 234, 'G.I. Joe (Live-Action) Collection': 235, 'Gangs of Wasseypur Collection': 236, 'Garfield Collection': 237, 'Ghost Rider Collection': 238, 'Ghost in the Shell Collection': 239, 'Ghost in the Shell: Arise': 240, 'Ghostbusters Collection': 241, 'Ghoulies Collection': 242, 'Goal! Collection': 243, 'God of Gamblers Collection': 244, \"God's Not Dead Collection\": 245, 'Godzilla (Heisei) Collection': 246, 'Godzilla (Millennium) Collection': 247, 'Goon Collection': 248, 'Grease Collection': 249, 'Green Street Hooligans Collection': 250, 'Grindhouse Collection': 251, 'Grown Ups Collection': 252, 'Guardians of the Galaxy Collection': 253, 'Halloween (Rob Zombie Series) Collection': 254, 'Halloween Collection': 255, 'Hamilton Collection': 256, \"Happily N'Ever After Collection\": 257, 'Happy Feet Collection': 258, 'Hard Target Collection': 259, 'Harold & Kumar Collection': 260, 'Harry Potter Collection': 261, 'Hatchet Collection': 262, 'Heart of Gold Collection': 263, 'Hellboy Collection': 264, 'Hellraiser Collection': 265, 'Henry Fool Collection': 266, 'Herbie Collection': 267, 'Hercules (Lou Ferrigno) Collection': 268, 'High School Musical Collection': 269, 'Highlander Collection': 270, 'Hitman Collection': 271, 'Hollow Man Collection': 272, 'Home Alone Collection': 273, 'Homeward Bound Collection': 274, 'Honey Collection': 275, 'Honey, I Shrunk the Kids Collection': 276, 'Hoodwinked! Collection': 277, 'Hooked Collection': 278, 'Horrible Bosses Collection': 279, 'Hostel Collection': 280, 'Hot Shots! Collection': 281, 'Hot Tub Time Machine Collection': 282, 'Hotel Transylvania Collection': 283, 'House Collection': 284, 'House Party Collection': 285, 'House of 1000 Corpses Collection': 286, 'House of the Dead Collection': 287, 'House on Haunted Hill Collection': 288, 'How to Train Your Dragon Collection': 289, 'I Know What You Did Last Summer Collection': 290, 'I Spit on Your Grave Collection': 291, 'Ice Age Collection': 292, 'Independence Day Collection': 293, 'Indiana Jones Collection': 294, 'Infernal Affairs Collection': 295, 'Insidious Collection': 296, 'Into the Blue Collection': 297, 'Ip Man Collection': 298, 'Iron Man Collection': 299, 'Iron Sky Collection': 300, 'Ivan Tsarevich & the Grey Wolf Collection': 301, 'Jack Reacher Collection': 302, 'Jackass Collection': 303, 'James Bond Collection': 304, 'Jarhead Collection': 305, 'Jeepers Creepers Collection': 306, 'Jingle All the Way Collection': 307, 'Joe Dirt Collection': 308, 'John Wick Collection': 309, 'Johnny English Collection': 310, 'Journey Collection': 311, 'Joy Ride Collection': 312, 'Jump Street Collection': 313, 'Jurassic Park Collection': 314, 'Justice League (Animated) Collection': 315, 'K-9 Collection': 316, 'Keinohrhasen Filmreihe': 317, 'Kick-Ass Collection': 318, 'Kickboxer Collection': 319, 'Kidulthood Collection': 320, 'Kill Bill Collection': 321, 'Kindergarten Cop Collection': 322, 'King Kong (1933 series)': 323, 'King Kong (1976 series)': 324, 'Kingsman Collection': 325, 'Kokowääh Filmreihe': 326, 'Korengal Valley Documentaries': 327, 'Kung Fu Panda Collection': 328, 'Kvartet I Collection': 329, \"L'allenatore nel pallone - Collezione\": 330, 'La cage aux folles': 331, 'Lady and the Tramp Collection': 332, 'Lake Placid Collection': 333, 'Legally Blonde Collection': 334, 'Leprechaun Collection (Original Series)': 335, 'Lethal Weapon Collection': 336, 'Lew Harper Collection': 337, 'Lilo & Stitch Collection': 338, 'Living Dead Collection': 339, \"Look Who's Talking Collection\": 340, 'Los Leguineche - Colección': 341, 'Lost Boys Collection': 342, 'Love in the City Collection': 343, 'Lovey-Dovey Collection': 344, 'Machete Collection': 345, 'Mad Max Collection': 346, 'Madagascar Collection': 347, 'Magic Mike Collection': 348, 'Major Korenev Trilogy': 349, 'Major League Collection': 350, 'Mall Cop Collection': 351, 'Mamma Mia! Collection': 352, 'Man of Steel Collection': 353, 'Mannequin Collection': 354, 'Marley & Me Collection': 355, 'Masti Collection': 356, 'Max (Collection)': 357, \"McHale's Navy Collection\": 358, 'Mean Girls Collection': 359, 'Mechanic Collection': 360, 'Meet the Parents Collection': 361, 'Men In Black Collection': 362, 'Mexico Trilogy': 363, 'Mimic Collection': 364, 'Mirrors Collection': 365, 'Miss Congeniality Collection': 366, 'Missing in Action Collection': 367, 'Mission: Impossible Collection': 368, 'Mommies Collection': 369, 'Monsters Collection': 370, 'Monsters, Inc. Collection': 371, 'Mortal Kombat Collection': 372, 'Mr. Bean Collection': 373, 'Mulan Collection': 374, 'My Big Fat Greek Wedding Collection': 375, 'My Bloody Valentine Collection': 376, 'Naked Gun Collection': 377, 'Nanny McPhee Collection': 378, 'Naruto Collection': 379, \"National Lampoon's Vacation Collection\": 380, 'National Lampoon’s Van Wilder Collection': 381, 'National Treasure Collection': 382, 'Navarone Collection': 383, 'Neighbors Collection': 384, 'Never Back Down Collection': 385, 'New Kids Collection': 386, 'Night at the Museum Collection': 387, 'Night of the Demons Collection': 388, 'Niko - Coleccion': 389, \"Nim's Island Collection\": 390, 'No Retreat, No Surrender Collection': 391, 'Now You See Me Collection': 392, 'Nymphomaniac Collection': 393, \"Ocean's Collection\": 394, 'Oh, God! Collection': 395, 'Omega Code Series': 396, 'Once Upon a Time in China Collection': 397, 'Once were Warriors Collection': 398, 'One Piece Collection': 399, 'Ong Bak Collection': 400, 'Open Season Collection': 401, 'Open Water Collection': 402, 'Ouija Collection': 403, 'Pacific Rim Collection': 404, 'Paradise Trilogy': 405, 'Paranormal Activity Collection': 406, \"Pee-wee's Collection\": 407, 'Percy Jackson Collection': 408, 'Pet Sematary Collection': 409, 'Peter Pan Collection': 410, 'Phantasm Collection': 411, 'Philo & Clyde Collection': 412, 'Piranha 3D Collection': 413, 'Pirates of the Caribbean Collection': 414, 'Pitch Perfect Collection': 415, 'Planes Collection': 416, 'Planet of the Apes (Reboot) Collection': 417, 'Planet of the Apes Original Collection': 418, 'Pocahontas Collection': 419, 'Pokémon Collection': 420, 'Police Academy Collection': 421, 'Police Story Collection': 422, 'Poltergeist Collection': 423, \"Porky's Collection\": 424, 'Power Rangers Collection': 425, 'Predator Collection': 426, 'Prom Night Collection': 427, 'Prometheus Collection': 428, 'Psycho Collection': 429, 'Puella Magi Madoka Magica: The Movie': 430, 'Pulse Collection': 431, 'Pumpkinhead Collection': 432, 'Qatsi Collection': 433, 'Quarantine Collection': 434, 'RED Collection': 435, 'Rambo Collection': 436, 'Re-Animator Collection': 437, 'Rebuild of Evangelion': 438, 'Recep İvedik Serisi': 439, 'Red Cliff Collection': 440, 'Resident Evil Collection': 441, 'Return of the Living Dead Collection': 442, 'Revenge of the Nerds Collection': 443, 'Ride Along Collection': 444, 'Ringu Collection': 445, 'Rio Collection': 446, 'Road House Collection': 447, 'Road Trip Collection': 448, 'Robert Langdon Collection': 449, 'RoboCop Collection': 450, 'Rocky Collection': 451, 'Rocky Horror Collection': 452, 'Romancing the Stone Collection': 453, \"Rosemary's Baby Collection\": 454, 'Rugrats Collection': 455, 'Rurouni Kenshin Live-Action Collection': 456, 'Rush Hour Collection': 457, 'S.W.A.T. Collection': 458, 'Samurai Trilogy': 459, 'Sarkar Collection': 460, 'Saturday Night Fever Collection': 461, 'Save The Last Dance Collection': 462, 'Saw Collection': 463, 'Scanners Collection': 464, 'Scary Movie Collection': 465, 'Scooby-Doo Collection': 466, 'Scream Collection': 467, 'Screamers Collection': 468, 'Sex and Zen Collection': 469, 'Sex and the City Collection': 470, 'Shadow Boxing Collection': 471, 'Shaft Collection': 472, 'Shanghai Noon Collection': 473, 'Shaolin Temple Collection': 474, 'Sherlock Holmes Collection': 475, 'Short Circuit Collection': 476, 'Showgirls Collection': 477, 'Shrek Collection': 478, 'Silent Hill Collection': 479, 'Silent Night, Deadly Night Collection': 480, 'Sin City Collection': 481, 'Singam Collection': 482, 'Singham Collection': 483, 'Single White Female Collection': 484, 'Sinister Collection': 485, 'Sister Act Collection': 486, 'Six Degrees of Celebration Collection': 487, 'Slap Shot Collection': 488, 'Sleuth Collection': 489, 'Smokey and the Bandit Collection': 490, \"Smokin' Aces Collection\": 491, 'Sniper Collection': 492, 'Snow Queen Collection': 493, 'Space Chimps Collection': 494, 'Space Dogs': 495, 'Species Collection': 496, 'Speed Collection': 497, 'Spider-Man Collection': 498, 'Splash Collection': 499, 'SpongeBob Collection': 500, 'Spy Kids Collection': 501, 'Stake Land Collection': 502, 'Star Trek: Alternate Reality Collection': 503, 'Star Trek: The Next Generation Collection': 504, 'Star Trek: The Original Series Collection': 505, 'Star Wars Collection': 506, 'Stargate SG-1 Collection': 507, 'Starship Troopers Collection': 508, 'State Property Collection': 509, 'Step Up Collection': 510, 'Stir of Echoes Collection': 511, 'Stomp the Yard Collection': 512, 'Street Fighter': 513, 'Street Kings Collection': 514, 'StreetDance Collection': 515, 'Stuart Little Collection': 516, 'Super Size Me Collection': 517, 'Super Troopers Collection': 518, 'Superman Collection': 519, \"Surf's Up Collection\": 520, 'Swamp Thing Collection': 521, 'Swan Princess Series': 522, 'Sällskapsresorna': 523, 'Síť (kolekce)': 524, 'TRON Collection': 525, 'Taken Collection': 526, 'Tales from the Crypt Collection': 527, 'Tangled Collection': 528, 'Tanu Weds Manu Collection': 529, 'Tarzan (Animation) Collection': 530, 'Taxi Collection': 531, 'Ted Collection': 532, 'Teenage Apocalypse Trilogy': 533, 'Teenage Mutant Ninja Turtles (Original) Collection': 534, 'Teenage Mutant Ninja Turtles (Remake) Collection': 535, 'Tekken Collection': 536, 'Texas Chainsaw (Reboot) Collection': 537, 'Texas Chainsaw Massacre Collection': 538, 'The ABCs of Death Collection': 539, 'The Amazing Spider-Man Collection': 540, 'The Amityville Horror Collection': 541, 'The Angrez Collection': 542, 'The Apu Collection': 543, 'The Are We Collection': 544, 'The Arrival Collection': 545, 'The Art of War Collection': 546, 'The Avengers Collection': 547, 'The Bad New Bears Collection': 548, 'The Best Man Collection': 549, 'The Black Stallion Collection': 550, 'The Blue Lagoon collection': 551, 'The Blues Brothers Collection': 552, 'The Boogeyman Collection': 553, 'The Boondock Saints Collection': 554, 'The Bourne Collection': 555, 'The Butterfly Effect Collection': 556, 'The Cabin Fever Collection': 557, 'The Cell Collection': 558, 'The Chronicles of Narnia Collection': 559, 'The Chronicles of Riddick Collection': 560, 'The Collector Collection': 561, 'The Condemned Collection': 562, 'The Conjuring Collection': 563, 'The Croods Collection': 564, 'The Crow Collection': 565, 'The Cutting Edge Collection': 566, 'The Dark Knight Collection': 567, 'The Delta Force Collection': 568, 'The Dirty Dozen Collection': 569, 'The Disappearance Of Eleanor Rigby': 570, 'The Dukes Of Hazzard Collection': 571, \"The Emperor's New Groove Collection\": 572, 'The Exorcist Collection': 573, 'The Expendables Collection': 574, 'The Eye Collection': 575, 'The Fast and the Furious Collection': 576, 'The Flintstones (Live-Action) Collection': 577, 'The Fly (1958 series)': 578, 'The Fly Collection': 579, 'The Fox and the Hound Collection': 580, 'The Fugitive / U.S. Marshals Collection': 581, 'The Godfather Collection': 582, 'The Gods Must Be Crazy Collection': 583, 'The Gremlins Collection': 584, 'The Grudge Collection': 585, 'The Hangover Collection': 586, 'The Hannibal Lecter Anthology': 587, 'The Haunting in Connecticut Collection': 588, 'The Hills Have Eyes (Original) Collection': 589, 'The Hills Have Eyes (Reboot) Collection': 590, 'The Hitcher (1986) Collection': 591, 'The Hobbit Collection': 592, 'The Howling Collection': 593, 'The Hunchback of Notre Dame Collection': 594, 'The Hunger Games Collection': 595, 'The Huntsman Collection': 596, 'The Hustler Collection': 597, 'The Inbetweeners Collection': 598, 'The Incredibles Collection': 599, 'The Invisible Man (Universal Series)': 600, 'The Jack Ryan Collection': 601, 'The Jake Gittes Collection': 602, 'The Jaws Collection': 603, 'The Jungle Book Collection': 604, 'The Karate Kid Collection': 605, 'The Klapisch Trilogy': 606, 'The Land Before Time Collection': 607, 'The Last Exorcism Collection': 608, 'The Last Picture Show Collection': 609, 'The Lawnmower Man Collection': 610, 'The Legend Collection': 611, 'The Lego Movie Collection': 612, 'The Lion King Collection': 613, 'The Little Mermaid Collection': 614, 'The Lord of the Rings Animated Collection': 615, 'The Lord of the Rings Collection': 616, 'The Magnificent Seven Collection': 617, 'The Man From Snowy River Collection': 618, 'The Man With No Name Collection': 619, 'The Man with the Iron Fists Collection': 620, 'The Marine Collection': 621, 'The Mask Collection': 622, 'The Matrix Collection': 623, 'The Matt Helm Collection': 624, 'The Maze Runner Collection': 625, 'The Mesrine Collection': 626, 'The Messengers Collection': 627, 'The Mighty Ducks Collection': 628, 'The Millennium Collection': 629, 'The Mummy Collection': 630, 'The Muppet Collection': 631, 'The Neverending Story Collection': 632, 'The Nutty Professor Collection': 633, 'The Odd Couple Collection': 634, 'The Omen Collection': 635, 'The Philadelphia Experiment - Collezione': 636, 'The Pink Panther (Original) Collection': 637, 'The Pink Panther (Steve Martin) Collection': 638, 'The Poseidon Adventure Collection': 639, 'The Postman Collection': 640, 'The Princess Diaries Collection': 641, 'The Prophecy Collection': 642, 'The Protector Collection': 643, 'The Purge Collection': 644, 'The Raid Collection': 645, 'The Rescuers Collection': 646, 'The Ring Collection': 647, 'The Saint Collection': 648, 'The Sandlot Collection': 649, 'The Santa Clause Collection': 650, 'The Scorpion King Collection': 651, 'The Secret Life of Pets Collection': 652, 'The Secret Of NIMH Collection': 653, 'The Shadow Collection': 654, 'The Sinbad Collection': 655, 'The Sisterhood of the Traveling Pants Collection': 656, 'The Skulls Collection': 657, 'The Smurfs (Theatrical) Collection': 658, 'The Space Odyssey Series': 659, 'The Stepfather Collection': 660, 'The Sting Collection': 661, 'The Terminator Collection': 662, 'The Thin Man Collection': 663, 'The Thing Collection': 664, 'The Three Mothers Collection': 665, 'The Transporter Collection': 666, 'The Trip Collection': 667, 'The Twilight Collection': 668, 'The Up Series': 669, 'The Vampire Chronicles': 670, 'The Vengeance Collection': 671, 'The Waxwork Collection': 672, 'The Whole Nine/Ten Yards Collection': 673, 'The Wolverine Collection': 674, 'The Woman in Black Collection': 675, 'The Work and the Glory Collection': 676, 'The X-Files Collection': 677, 'They Call Me Bruce Collection': 678, 'Think Like a Man Collection': 679, 'This is England Collection': 680, 'Thor Collection': 681, 'Three Heroes Collection': 682, 'Till Luck Do Us Part Collection': 683, 'Timecop Collection': 684, 'Tinker Bell Collection': 685, 'Tiny Times Collection': 686, 'Tomb Raider Collection': 687, 'Tooth Fairy Collection': 688, 'Torrente Collection': 689, 'Toy Story Collection': 690, 'Trailer Park Boys Collection': 691, 'Trainspotting Collection': 692, 'Transformers Collection': 693, 'Tremors Collection': 694, 'Troll Collection': 695, 'Tulse Luper': 696, 'Turbulence Collection': 697, 'USA: Land of Opportunities Collection': 698, 'Ultimate Avengers Collection': 699, 'Under Siege Collection': 700, 'Underworld Collection': 701, 'Undisputed Collection': 702, 'Universal Soldier Collection': 703, 'Urban Legend': 704, 'V/H/S Collection': 705, 'Vacancy Collection': 706, 'Vampires Suck Collection': 707, 'Van Helsing Collection': 708, 'Vixens Collection': 709, 'Viy Collection': 710, 'Waiting Collection': 711, 'Walking Tall Collection': 712, 'Wall Street Collection': 713, 'Wallace & Gromit Collection': 714, 'Wanted - Collection': 715, 'WarGames Collection': 716, \"Wayne's World Collection\": 717, 'We Are From The Future Collection': 718, \"We're the Millers Collection\": 719, \"Weekend at Bernie's Collection\": 720, 'Welcome Collection': 721, 'What the Bleep! Collection': 722, 'When a Stranger Calls Collection': 723, 'White Fang Collection': 724, 'White Noise Collection': 725, 'Why Did I Get Married Collection': 726, 'Wild Things Collection': 727, 'Wishmaster Collection': 728, 'Witch Mountain Collection': 729, 'Witchboard Collection': 730, 'Without a Paddle Collection': 731, 'Wolf Creek Collection': 732, 'Wolf Warriors Collection': 733, 'Wonder Woman Collection': 734, \"Wong Kar-Wai's Informal Collection\": 735, 'World War Z Collection': 736, 'World of Watches Collection': 737, 'Would I Lie to You? Collection': 738, 'Wreck-It Ralph Collection': 739, 'Wrong Turn Collection': 740, 'X-Men Collection': 741, 'Yossi Collection': 742, 'Young Guns Collection': 743, 'Zoolander Collection': 744, 'Zorro Collection': 745, '[REC] Collection': 746, 'xXx Collection': 747, 'ДухLess (Коллекция)': 748, 'Ирония судьбы (Коллекция)': 749, 'Самый лучший фильм - Коллекция': 750}\n"
     ]
    }
   ],
   "source": [
    "rf_train['belongs_to_collection'] = train['belongs_to_collection']\n",
    "rf_train['belongs_to_collection'] = rf_train['belongs_to_collection'].apply(lambda x:extract_pythoncode(x))\n",
    "rf_test['belongs_to_collection'] = test['belongs_to_collection']\n",
    "rf_test['belongs_to_collection'] = rf_test['belongs_to_collection'].apply(lambda x:extract_pythoncode(x))\n",
    "\n",
    "rf_train['collection_name'] = rf_train['belongs_to_collection'].apply(lambda val: val[0]['name'] if val != {} else '0')\n",
    "rf_test['collection_name'] = rf_test['belongs_to_collection'].apply(lambda val: val[0]['name'] if val != {} else '0')\n",
    "\n",
    "le = LabelEncoder() # Label Encode 'collection' name.\n",
    "rf_combined = pd.concat([rf_train, rf_test], sort=False)\n",
    "le.fit(rf_combined['collection_name'])\n",
    "\n",
    "rf_train['collection_name'] = le.transform(rf_train['collection_name'])\n",
    "rf_test['collection_name'] = le.transform(rf_test['collection_name'])\n",
    "rf_train['belongs_to_collection'] = rf_train['belongs_to_collection'].apply(lambda val: 0 if val == {} else 1)\n",
    "rf_test['belongs_to_collection'] = rf_test['belongs_to_collection'].apply(lambda val: 0 if val == {} else 1)\n",
    "mappings = dict(zip(le.classes_, le.transform(le.classes_)))\n",
    "print('mappings:-')\n",
    "print(mappings)\n"
   ]
  },
  {
   "cell_type": "markdown",
   "metadata": {},
   "source": [
    "**Overview Column**"
   ]
  },
  {
   "cell_type": "code",
   "execution_count": 67,
   "metadata": {},
   "outputs": [],
   "source": [
    "def process_overview(df):\n",
    "    \"\"\" Function to process 'overview' column and give a word count instead \"\"\"\n",
    "    df['overview_wordcount'] = df['overview'].apply(lambda str_sentence: 0 if str_sentence is np.nan else len(str(str_sentence).split()))\n",
    "    df.drop('overview', axis=1, inplace=True)\n",
    "    return df"
   ]
  },
  {
   "cell_type": "code",
   "execution_count": 68,
   "metadata": {},
   "outputs": [],
   "source": [
    "rf_train = process_overview(rf_train)\n",
    "rf_test = process_overview(rf_test)"
   ]
  },
  {
   "cell_type": "code",
   "execution_count": 69,
   "metadata": {},
   "outputs": [
    {
     "data": {
      "text/plain": [
       "0        29\n",
       "1        69\n",
       "2        21\n",
       "3       106\n",
       "4        32\n",
       "       ... \n",
       "2994     42\n",
       "2995     26\n",
       "2996     58\n",
       "2997     55\n",
       "2998     22\n",
       "Name: overview_wordcount, Length: 2999, dtype: int64"
      ]
     },
     "execution_count": 69,
     "metadata": {},
     "output_type": "execute_result"
    }
   ],
   "source": [
    "# View changes to 'overview' column\n",
    "rf_train['overview_wordcount']"
   ]
  },
  {
   "cell_type": "markdown",
   "metadata": {},
   "source": [
    "**Feature Engineering**"
   ]
  },
  {
   "cell_type": "code",
   "execution_count": 70,
   "metadata": {},
   "outputs": [],
   "source": [
    "def create_features(df):\n",
    "    df['budget_by_runtime'] = np.round(df['budget']/df['runtime'], decimals=2)\n",
    "    df['budget_by_year_sq'] = np.round(df['budget']/(np.square(df['year'])), decimals=2)\n",
    "    df['year_by_popularity'] = np.round(df['year']/df['popularity'], decimals=2)\n",
    "    return df"
   ]
  },
  {
   "cell_type": "code",
   "execution_count": 71,
   "metadata": {},
   "outputs": [],
   "source": [
    "rf_train = create_features(rf_train)\n",
    "rf_test = create_features(rf_test)"
   ]
  },
  {
   "cell_type": "code",
   "execution_count": 72,
   "metadata": {},
   "outputs": [
    {
     "data": {
      "text/html": [
       "<div>\n",
       "<style scoped>\n",
       "    .dataframe tbody tr th:only-of-type {\n",
       "        vertical-align: middle;\n",
       "    }\n",
       "\n",
       "    .dataframe tbody tr th {\n",
       "        vertical-align: top;\n",
       "    }\n",
       "\n",
       "    .dataframe thead th {\n",
       "        text-align: right;\n",
       "    }\n",
       "</style>\n",
       "<table border=\"1\" class=\"dataframe\">\n",
       "  <thead>\n",
       "    <tr style=\"text-align: right;\">\n",
       "      <th></th>\n",
       "      <th>budget</th>\n",
       "      <th>popularity</th>\n",
       "      <th>runtime</th>\n",
       "      <th>homepage</th>\n",
       "      <th>revenue</th>\n",
       "      <th>budget_is_median</th>\n",
       "      <th>original_language_cn</th>\n",
       "      <th>original_language_de</th>\n",
       "      <th>original_language_en</th>\n",
       "      <th>original_language_es</th>\n",
       "      <th>...</th>\n",
       "      <th>production_countries</th>\n",
       "      <th>Keywords</th>\n",
       "      <th>crew</th>\n",
       "      <th>cast</th>\n",
       "      <th>belongs_to_collection</th>\n",
       "      <th>collection_name</th>\n",
       "      <th>overview_wordcount</th>\n",
       "      <th>budget_by_runtime</th>\n",
       "      <th>budget_by_year_sq</th>\n",
       "      <th>year_by_popularity</th>\n",
       "    </tr>\n",
       "  </thead>\n",
       "  <tbody>\n",
       "    <tr>\n",
       "      <th>0</th>\n",
       "      <td>14000000.0</td>\n",
       "      <td>6.575393</td>\n",
       "      <td>93.0</td>\n",
       "      <td>0</td>\n",
       "      <td>12314651</td>\n",
       "      <td>0</td>\n",
       "      <td>0</td>\n",
       "      <td>0</td>\n",
       "      <td>1</td>\n",
       "      <td>0</td>\n",
       "      <td>...</td>\n",
       "      <td>1</td>\n",
       "      <td>4</td>\n",
       "      <td>72</td>\n",
       "      <td>24</td>\n",
       "      <td>1</td>\n",
       "      <td>282</td>\n",
       "      <td>29</td>\n",
       "      <td>150537.63</td>\n",
       "      <td>3.45</td>\n",
       "      <td>306.45</td>\n",
       "    </tr>\n",
       "    <tr>\n",
       "      <th>1</th>\n",
       "      <td>40000000.0</td>\n",
       "      <td>8.248895</td>\n",
       "      <td>113.0</td>\n",
       "      <td>0</td>\n",
       "      <td>95149435</td>\n",
       "      <td>0</td>\n",
       "      <td>0</td>\n",
       "      <td>0</td>\n",
       "      <td>1</td>\n",
       "      <td>0</td>\n",
       "      <td>...</td>\n",
       "      <td>1</td>\n",
       "      <td>4</td>\n",
       "      <td>9</td>\n",
       "      <td>20</td>\n",
       "      <td>1</td>\n",
       "      <td>641</td>\n",
       "      <td>69</td>\n",
       "      <td>353982.30</td>\n",
       "      <td>9.96</td>\n",
       "      <td>242.94</td>\n",
       "    </tr>\n",
       "    <tr>\n",
       "      <th>2</th>\n",
       "      <td>3300000.0</td>\n",
       "      <td>64.299990</td>\n",
       "      <td>105.0</td>\n",
       "      <td>1</td>\n",
       "      <td>13092000</td>\n",
       "      <td>0</td>\n",
       "      <td>0</td>\n",
       "      <td>0</td>\n",
       "      <td>1</td>\n",
       "      <td>0</td>\n",
       "      <td>...</td>\n",
       "      <td>1</td>\n",
       "      <td>12</td>\n",
       "      <td>64</td>\n",
       "      <td>51</td>\n",
       "      <td>0</td>\n",
       "      <td>1</td>\n",
       "      <td>21</td>\n",
       "      <td>31428.57</td>\n",
       "      <td>0.81</td>\n",
       "      <td>31.32</td>\n",
       "    </tr>\n",
       "    <tr>\n",
       "      <th>3</th>\n",
       "      <td>1200000.0</td>\n",
       "      <td>3.174936</td>\n",
       "      <td>122.0</td>\n",
       "      <td>1</td>\n",
       "      <td>16000000</td>\n",
       "      <td>0</td>\n",
       "      <td>0</td>\n",
       "      <td>0</td>\n",
       "      <td>0</td>\n",
       "      <td>0</td>\n",
       "      <td>...</td>\n",
       "      <td>1</td>\n",
       "      <td>7</td>\n",
       "      <td>3</td>\n",
       "      <td>7</td>\n",
       "      <td>0</td>\n",
       "      <td>1</td>\n",
       "      <td>106</td>\n",
       "      <td>9836.07</td>\n",
       "      <td>0.30</td>\n",
       "      <td>633.71</td>\n",
       "    </tr>\n",
       "    <tr>\n",
       "      <th>4</th>\n",
       "      <td>16000000.0</td>\n",
       "      <td>1.148070</td>\n",
       "      <td>118.0</td>\n",
       "      <td>0</td>\n",
       "      <td>3923970</td>\n",
       "      <td>1</td>\n",
       "      <td>0</td>\n",
       "      <td>0</td>\n",
       "      <td>0</td>\n",
       "      <td>0</td>\n",
       "      <td>...</td>\n",
       "      <td>1</td>\n",
       "      <td>0</td>\n",
       "      <td>2</td>\n",
       "      <td>4</td>\n",
       "      <td>0</td>\n",
       "      <td>1</td>\n",
       "      <td>32</td>\n",
       "      <td>135593.22</td>\n",
       "      <td>3.96</td>\n",
       "      <td>1749.89</td>\n",
       "    </tr>\n",
       "  </tbody>\n",
       "</table>\n",
       "<p>5 rows × 35 columns</p>\n",
       "</div>"
      ],
      "text/plain": [
       "       budget  popularity  runtime  homepage   revenue  budget_is_median  \\\n",
       "0  14000000.0    6.575393     93.0         0  12314651                 0   \n",
       "1  40000000.0    8.248895    113.0         0  95149435                 0   \n",
       "2   3300000.0   64.299990    105.0         1  13092000                 0   \n",
       "3   1200000.0    3.174936    122.0         1  16000000                 0   \n",
       "4  16000000.0    1.148070    118.0         0   3923970                 1   \n",
       "\n",
       "   original_language_cn  original_language_de  original_language_en  \\\n",
       "0                     0                     0                     1   \n",
       "1                     0                     0                     1   \n",
       "2                     0                     0                     1   \n",
       "3                     0                     0                     0   \n",
       "4                     0                     0                     0   \n",
       "\n",
       "   original_language_es  ...  production_countries  Keywords  crew  cast  \\\n",
       "0                     0  ...                     1         4    72    24   \n",
       "1                     0  ...                     1         4     9    20   \n",
       "2                     0  ...                     1        12    64    51   \n",
       "3                     0  ...                     1         7     3     7   \n",
       "4                     0  ...                     1         0     2     4   \n",
       "\n",
       "   belongs_to_collection  collection_name  overview_wordcount  \\\n",
       "0                      1              282                  29   \n",
       "1                      1              641                  69   \n",
       "2                      0                1                  21   \n",
       "3                      0                1                 106   \n",
       "4                      0                1                  32   \n",
       "\n",
       "   budget_by_runtime  budget_by_year_sq  year_by_popularity  \n",
       "0          150537.63               3.45              306.45  \n",
       "1          353982.30               9.96              242.94  \n",
       "2           31428.57               0.81               31.32  \n",
       "3            9836.07               0.30              633.71  \n",
       "4          135593.22               3.96             1749.89  \n",
       "\n",
       "[5 rows x 35 columns]"
      ]
     },
     "execution_count": 72,
     "metadata": {},
     "output_type": "execute_result"
    }
   ],
   "source": [
    "# Final form of training set\n",
    "rf_train.head()"
   ]
  },
  {
   "cell_type": "code",
   "execution_count": 73,
   "metadata": {},
   "outputs": [
    {
     "data": {
      "text/html": [
       "<div>\n",
       "<style scoped>\n",
       "    .dataframe tbody tr th:only-of-type {\n",
       "        vertical-align: middle;\n",
       "    }\n",
       "\n",
       "    .dataframe tbody tr th {\n",
       "        vertical-align: top;\n",
       "    }\n",
       "\n",
       "    .dataframe thead th {\n",
       "        text-align: right;\n",
       "    }\n",
       "</style>\n",
       "<table border=\"1\" class=\"dataframe\">\n",
       "  <thead>\n",
       "    <tr style=\"text-align: right;\">\n",
       "      <th></th>\n",
       "      <th>budget</th>\n",
       "      <th>popularity</th>\n",
       "      <th>runtime</th>\n",
       "      <th>homepage</th>\n",
       "      <th>budget_is_median</th>\n",
       "      <th>original_language_cn</th>\n",
       "      <th>original_language_de</th>\n",
       "      <th>original_language_en</th>\n",
       "      <th>original_language_es</th>\n",
       "      <th>original_language_fr</th>\n",
       "      <th>...</th>\n",
       "      <th>production_countries</th>\n",
       "      <th>Keywords</th>\n",
       "      <th>crew</th>\n",
       "      <th>cast</th>\n",
       "      <th>belongs_to_collection</th>\n",
       "      <th>collection_name</th>\n",
       "      <th>overview_wordcount</th>\n",
       "      <th>budget_by_runtime</th>\n",
       "      <th>budget_by_year_sq</th>\n",
       "      <th>year_by_popularity</th>\n",
       "    </tr>\n",
       "  </thead>\n",
       "  <tbody>\n",
       "    <tr>\n",
       "      <th>0</th>\n",
       "      <td>16000000.0</td>\n",
       "      <td>3.851534</td>\n",
       "      <td>90.0</td>\n",
       "      <td>1</td>\n",
       "      <td>1</td>\n",
       "      <td>0</td>\n",
       "      <td>0</td>\n",
       "      <td>0</td>\n",
       "      <td>0</td>\n",
       "      <td>0</td>\n",
       "      <td>...</td>\n",
       "      <td>2</td>\n",
       "      <td>2</td>\n",
       "      <td>2</td>\n",
       "      <td>7</td>\n",
       "      <td>1</td>\n",
       "      <td>420</td>\n",
       "      <td>57</td>\n",
       "      <td>177777.78</td>\n",
       "      <td>3.97</td>\n",
       "      <td>521.09</td>\n",
       "    </tr>\n",
       "    <tr>\n",
       "      <th>1</th>\n",
       "      <td>88000.0</td>\n",
       "      <td>3.559789</td>\n",
       "      <td>65.0</td>\n",
       "      <td>0</td>\n",
       "      <td>0</td>\n",
       "      <td>0</td>\n",
       "      <td>0</td>\n",
       "      <td>1</td>\n",
       "      <td>0</td>\n",
       "      <td>0</td>\n",
       "      <td>...</td>\n",
       "      <td>1</td>\n",
       "      <td>8</td>\n",
       "      <td>8</td>\n",
       "      <td>10</td>\n",
       "      <td>0</td>\n",
       "      <td>1</td>\n",
       "      <td>29</td>\n",
       "      <td>1353.85</td>\n",
       "      <td>0.02</td>\n",
       "      <td>578.12</td>\n",
       "    </tr>\n",
       "    <tr>\n",
       "      <th>2</th>\n",
       "      <td>16000000.0</td>\n",
       "      <td>8.085194</td>\n",
       "      <td>100.0</td>\n",
       "      <td>0</td>\n",
       "      <td>1</td>\n",
       "      <td>0</td>\n",
       "      <td>0</td>\n",
       "      <td>1</td>\n",
       "      <td>0</td>\n",
       "      <td>0</td>\n",
       "      <td>...</td>\n",
       "      <td>1</td>\n",
       "      <td>4</td>\n",
       "      <td>10</td>\n",
       "      <td>9</td>\n",
       "      <td>0</td>\n",
       "      <td>1</td>\n",
       "      <td>61</td>\n",
       "      <td>160000.00</td>\n",
       "      <td>4.01</td>\n",
       "      <td>246.99</td>\n",
       "    </tr>\n",
       "    <tr>\n",
       "      <th>3</th>\n",
       "      <td>6800000.0</td>\n",
       "      <td>8.596012</td>\n",
       "      <td>130.0</td>\n",
       "      <td>1</td>\n",
       "      <td>0</td>\n",
       "      <td>0</td>\n",
       "      <td>0</td>\n",
       "      <td>0</td>\n",
       "      <td>0</td>\n",
       "      <td>1</td>\n",
       "      <td>...</td>\n",
       "      <td>2</td>\n",
       "      <td>15</td>\n",
       "      <td>69</td>\n",
       "      <td>23</td>\n",
       "      <td>0</td>\n",
       "      <td>1</td>\n",
       "      <td>50</td>\n",
       "      <td>52307.69</td>\n",
       "      <td>1.68</td>\n",
       "      <td>233.83</td>\n",
       "    </tr>\n",
       "    <tr>\n",
       "      <th>4</th>\n",
       "      <td>2000000.0</td>\n",
       "      <td>3.217680</td>\n",
       "      <td>92.0</td>\n",
       "      <td>0</td>\n",
       "      <td>0</td>\n",
       "      <td>0</td>\n",
       "      <td>0</td>\n",
       "      <td>1</td>\n",
       "      <td>0</td>\n",
       "      <td>0</td>\n",
       "      <td>...</td>\n",
       "      <td>1</td>\n",
       "      <td>4</td>\n",
       "      <td>14</td>\n",
       "      <td>4</td>\n",
       "      <td>0</td>\n",
       "      <td>1</td>\n",
       "      <td>145</td>\n",
       "      <td>21739.13</td>\n",
       "      <td>0.50</td>\n",
       "      <td>623.12</td>\n",
       "    </tr>\n",
       "  </tbody>\n",
       "</table>\n",
       "<p>5 rows × 34 columns</p>\n",
       "</div>"
      ],
      "text/plain": [
       "       budget  popularity  runtime  homepage  budget_is_median  \\\n",
       "0  16000000.0    3.851534     90.0         1                 1   \n",
       "1     88000.0    3.559789     65.0         0                 0   \n",
       "2  16000000.0    8.085194    100.0         0                 1   \n",
       "3   6800000.0    8.596012    130.0         1                 0   \n",
       "4   2000000.0    3.217680     92.0         0                 0   \n",
       "\n",
       "   original_language_cn  original_language_de  original_language_en  \\\n",
       "0                     0                     0                     0   \n",
       "1                     0                     0                     1   \n",
       "2                     0                     0                     1   \n",
       "3                     0                     0                     0   \n",
       "4                     0                     0                     1   \n",
       "\n",
       "   original_language_es  original_language_fr  ...  production_countries  \\\n",
       "0                     0                     0  ...                     2   \n",
       "1                     0                     0  ...                     1   \n",
       "2                     0                     0  ...                     1   \n",
       "3                     0                     1  ...                     2   \n",
       "4                     0                     0  ...                     1   \n",
       "\n",
       "   Keywords  crew  cast  belongs_to_collection  collection_name  \\\n",
       "0         2     2     7                      1              420   \n",
       "1         8     8    10                      0                1   \n",
       "2         4    10     9                      0                1   \n",
       "3        15    69    23                      0                1   \n",
       "4         4    14     4                      0                1   \n",
       "\n",
       "   overview_wordcount  budget_by_runtime  budget_by_year_sq  \\\n",
       "0                  57          177777.78               3.97   \n",
       "1                  29            1353.85               0.02   \n",
       "2                  61          160000.00               4.01   \n",
       "3                  50           52307.69               1.68   \n",
       "4                 145           21739.13               0.50   \n",
       "\n",
       "   year_by_popularity  \n",
       "0              521.09  \n",
       "1              578.12  \n",
       "2              246.99  \n",
       "3              233.83  \n",
       "4              623.12  \n",
       "\n",
       "[5 rows x 34 columns]"
      ]
     },
     "execution_count": 73,
     "metadata": {},
     "output_type": "execute_result"
    }
   ],
   "source": [
    "# Final form of testing set\n",
    "rf_test.head()"
   ]
  },
  {
   "cell_type": "code",
   "execution_count": 74,
   "metadata": {
    "scrolled": true
   },
   "outputs": [
    {
     "name": "stdout",
     "output_type": "stream",
     "text": [
      "(2999,)\n",
      "(2999, 34)\n",
      "(4398, 34)\n"
     ]
    }
   ],
   "source": [
    "# Making relevant transformations to the train and test datasets before running classifiers\n",
    "\n",
    "y = (rf_train['revenue']).values\n",
    "# Transform the target variable 'revenue'\n",
    "y = np.log1p(y)\n",
    "rf_train.drop(['revenue'], axis=1, inplace=True)\n",
    "x = rf_train.values\n",
    "x_test = rf_test.values\n",
    "print(y.shape)\n",
    "print(x.shape)\n",
    "print(x_test.shape)"
   ]
  },
  {
   "cell_type": "code",
   "execution_count": 75,
   "metadata": {},
   "outputs": [
    {
     "data": {
      "text/plain": [
       "['budget',\n",
       " 'popularity',\n",
       " 'runtime',\n",
       " 'homepage',\n",
       " 'budget_is_median',\n",
       " 'original_language_cn',\n",
       " 'original_language_de',\n",
       " 'original_language_en',\n",
       " 'original_language_es',\n",
       " 'original_language_fr',\n",
       " 'original_language_hi',\n",
       " 'original_language_it',\n",
       " 'original_language_ja',\n",
       " 'original_language_ko',\n",
       " 'original_language_other',\n",
       " 'original_language_ru',\n",
       " 'original_language_ta',\n",
       " 'original_language_zh',\n",
       " 'day',\n",
       " 'month',\n",
       " 'year',\n",
       " 'quarter_year',\n",
       " 'near_weekend',\n",
       " 'production_companies',\n",
       " 'production_countries',\n",
       " 'Keywords',\n",
       " 'crew',\n",
       " 'cast',\n",
       " 'belongs_to_collection',\n",
       " 'collection_name',\n",
       " 'overview_wordcount',\n",
       " 'budget_by_runtime',\n",
       " 'budget_by_year_sq',\n",
       " 'year_by_popularity']"
      ]
     },
     "execution_count": 75,
     "metadata": {},
     "output_type": "execute_result"
    }
   ],
   "source": [
    "list(rf_train.columns)"
   ]
  },
  {
   "cell_type": "markdown",
   "metadata": {},
   "source": [
    "## Cross Validation"
   ]
  },
  {
   "cell_type": "code",
   "execution_count": 106,
   "metadata": {},
   "outputs": [
    {
     "name": "stdout",
     "output_type": "stream",
     "text": [
      "[00:03:10] WARNING: src/objective/regression_obj.cu:152: reg:linear is now deprecated in favor of reg:squarederror.\n",
      "[00:10:08] WARNING: src/objective/regression_obj.cu:152: reg:linear is now deprecated in favor of reg:squarederror.\n",
      "[00:17:20] WARNING: src/objective/regression_obj.cu:152: reg:linear is now deprecated in favor of reg:squarederror.\n",
      "[00:24:26] WARNING: src/objective/regression_obj.cu:152: reg:linear is now deprecated in favor of reg:squarederror.\n",
      "[00:31:34] WARNING: src/objective/regression_obj.cu:152: reg:linear is now deprecated in favor of reg:squarederror.\n",
      "[00:38:35] WARNING: src/objective/regression_obj.cu:152: reg:linear is now deprecated in favor of reg:squarederror.\n",
      "[00:45:24] WARNING: src/objective/regression_obj.cu:152: reg:linear is now deprecated in favor of reg:squarederror.\n",
      "[00:52:11] WARNING: src/objective/regression_obj.cu:152: reg:linear is now deprecated in favor of reg:squarederror.\n",
      "[00:58:57] WARNING: src/objective/regression_obj.cu:152: reg:linear is now deprecated in favor of reg:squarederror.\n",
      "[01:05:44] WARNING: src/objective/regression_obj.cu:152: reg:linear is now deprecated in favor of reg:squarederror.\n",
      "Combined rmsle score = 1.9021757407081168\n"
     ]
    }
   ],
   "source": [
    "# NOTE: 'y' variable already contains the logarithmic of the target variable values!\n",
    "def rmsle(y_trueval, y_predval):\n",
    "    \"\"\"Function to compute and return the root mean squared logarithmic error metric\"\"\"\n",
    "    return np.sqrt(mean_squared_error(y_true=y_trueval, y_pred=y_predval))\n",
    "\n",
    "# Create rsmle score containers for each classifier\n",
    "rf_rmsle_scores = []\n",
    "xgb_rmsle_scores = []\n",
    "lgb_rmsle_scores = []\n",
    "combined_rmsle_scores = []\n",
    "\n",
    "kf = KFold(n_splits=10, shuffle=True, random_state=2)\n",
    "\n",
    "for train_idx, test_idx in kf.split(x):\n",
    "    train_features, test_features = x[train_idx], x[test_idx]\n",
    "    train_labels, test_labels = y[train_idx], y[test_idx] # NOTE: All log values!\n",
    "    # All predicted values and trained labels are in log.\n",
    "    \n",
    "    # Select classifier\n",
    "    classifier = 'combined' # Valid Values = 'rf', 'xgb', 'lgb', 'combined'\n",
    "    \n",
    "    if classifier == 'rf':\n",
    "        rf = RandomForestRegressor(n_estimators = 25, \n",
    "                                   min_samples_leaf = 5, \n",
    "                                   max_features = 0.2, \n",
    "                                   random_state = 42)\n",
    "        rf.fit(train_features, train_labels)\n",
    "        predictions_rf = np.round(rf.predict(test_features), decimals=2)\n",
    "        rmsle_score = rmsle(test_labels, predictions_rf)\n",
    "        rf_rmsle_scores.append(rsmsle_score)\n",
    "        \n",
    "    elif classifier == 'xgb':\n",
    "        xgboost = XGBRegressor(n_estimators=50000,\n",
    "                               learning_rate=0.001,\n",
    "                               max_depth=6)\n",
    "        xgboost.fit(train_features, train_labels)\n",
    "        predictions_xgb = np.round(xgboost.predict(test_features), decimals=2)\n",
    "        rmsle_score = rmsle(test_labels, predictions_xgb)\n",
    "        xgb_rmsle_scores.append(rmsle_score)\n",
    "        \n",
    "    elif classifier == 'lgb':\n",
    "        params = {'boosting_type':'gbdt',\n",
    "                  'objective':'regression',\n",
    "                  'max_depth':6,\n",
    "                  'learning_rate':0.01}\n",
    "        lgb_train = lgb.Dataset(train_features, train_labels)\n",
    "        lgboost = lgb.train(params, \n",
    "                            lgb_train,\n",
    "                            num_boost_round=500)\n",
    "        predictions_lgb = np.round(lgboost.predict(test_features))\n",
    "        rmsle_score = rmsle(test_labels, predictions_lgb)\n",
    "        lgb_rmsle_scores.append(rmsle_score)\n",
    "        \n",
    "    elif classifier == 'combined':\n",
    "        # random forest \n",
    "        rf = RandomForestRegressor(n_estimators = 25, \n",
    "                                   min_samples_leaf = 5, \n",
    "                                   max_features = 0.2, \n",
    "                                   random_state = 42)\n",
    "        rf.fit(train_features, train_labels)\n",
    "        predictions_rf = np.round(rf.predict(test_features), decimals=2)\n",
    "        \n",
    "        # xgboost\n",
    "        xgboost = XGBRegressor(n_estimators=50000,\n",
    "                               learning_rate=0.001,\n",
    "                               max_depth=6)\n",
    "        xgboost.fit(train_features, train_labels)\n",
    "        predictions_xgb = np.round(xgboost.predict(test_features), decimals=2)\n",
    "        \n",
    "        # lgboost\n",
    "        params = {'boosting_type':'gbdt',\n",
    "                  'objective':'regression',\n",
    "                  'max_depth':6,\n",
    "                  'learning_rate':0.01}\n",
    "        lgb_train = lgb.Dataset(train_features, train_labels)\n",
    "        lgboost = lgb.train(params, \n",
    "                            lgb_train,\n",
    "                            num_boost_round=500)\n",
    "        predictions_lgb = np.round(lgboost.predict(test_features))\n",
    "        \n",
    "        predictions = (predictions_rf + predictions_xgb + predictions_lgb) / 3\n",
    "        rmsle_score = rmsle(test_labels, predictions)\n",
    "        combined_rmsle_scores.append(rmsle_score)\n",
    "        \n",
    "        \n",
    "if classifier == 'rf':\n",
    "    print('Random Forest Regressor rmsle score = ' + str(np.mean(rf_rmsle_scores)))\n",
    "elif classifier == 'xgb':\n",
    "    print(\"XGBoost Regressor rsmle score = \" + str(np.mean(xgb_rmsle_scores)))\n",
    "elif classifier == 'lgb':\n",
    "    print(\"LGBoost rmsle score = \" + str(np.mean(lgb_rmsle_scores)))\n",
    "elif classifier == 'combined':\n",
    "    print(\"Combined rmsle score = \" + str(np.mean(combined_rmsle_scores)))\n",
    "    \n",
    "        "
   ]
  },
  {
   "cell_type": "code",
   "execution_count": null,
   "metadata": {},
   "outputs": [],
   "source": []
  },
  {
   "cell_type": "markdown",
   "metadata": {},
   "source": [
    "## Training and prediction on test"
   ]
  },
  {
   "cell_type": "code",
   "execution_count": 81,
   "metadata": {},
   "outputs": [
    {
     "data": {
      "text/html": [
       "<div>\n",
       "<style scoped>\n",
       "    .dataframe tbody tr th:only-of-type {\n",
       "        vertical-align: middle;\n",
       "    }\n",
       "\n",
       "    .dataframe tbody tr th {\n",
       "        vertical-align: top;\n",
       "    }\n",
       "\n",
       "    .dataframe thead th {\n",
       "        text-align: right;\n",
       "    }\n",
       "</style>\n",
       "<table border=\"1\" class=\"dataframe\">\n",
       "  <thead>\n",
       "    <tr style=\"text-align: right;\">\n",
       "      <th></th>\n",
       "      <th>id</th>\n",
       "      <th>revenue</th>\n",
       "    </tr>\n",
       "  </thead>\n",
       "  <tbody>\n",
       "    <tr>\n",
       "      <th>0</th>\n",
       "      <td>3001</td>\n",
       "      <td>1000000</td>\n",
       "    </tr>\n",
       "    <tr>\n",
       "      <th>1</th>\n",
       "      <td>3002</td>\n",
       "      <td>1000000</td>\n",
       "    </tr>\n",
       "    <tr>\n",
       "      <th>2</th>\n",
       "      <td>3003</td>\n",
       "      <td>1000000</td>\n",
       "    </tr>\n",
       "    <tr>\n",
       "      <th>3</th>\n",
       "      <td>3004</td>\n",
       "      <td>1000000</td>\n",
       "    </tr>\n",
       "    <tr>\n",
       "      <th>4</th>\n",
       "      <td>3005</td>\n",
       "      <td>1000000</td>\n",
       "    </tr>\n",
       "    <tr>\n",
       "      <th>...</th>\n",
       "      <td>...</td>\n",
       "      <td>...</td>\n",
       "    </tr>\n",
       "    <tr>\n",
       "      <th>4393</th>\n",
       "      <td>7394</td>\n",
       "      <td>1000000</td>\n",
       "    </tr>\n",
       "    <tr>\n",
       "      <th>4394</th>\n",
       "      <td>7395</td>\n",
       "      <td>1000000</td>\n",
       "    </tr>\n",
       "    <tr>\n",
       "      <th>4395</th>\n",
       "      <td>7396</td>\n",
       "      <td>1000000</td>\n",
       "    </tr>\n",
       "    <tr>\n",
       "      <th>4396</th>\n",
       "      <td>7397</td>\n",
       "      <td>1000000</td>\n",
       "    </tr>\n",
       "    <tr>\n",
       "      <th>4397</th>\n",
       "      <td>7398</td>\n",
       "      <td>1000000</td>\n",
       "    </tr>\n",
       "  </tbody>\n",
       "</table>\n",
       "<p>4398 rows × 2 columns</p>\n",
       "</div>"
      ],
      "text/plain": [
       "        id  revenue\n",
       "0     3001  1000000\n",
       "1     3002  1000000\n",
       "2     3003  1000000\n",
       "3     3004  1000000\n",
       "4     3005  1000000\n",
       "...    ...      ...\n",
       "4393  7394  1000000\n",
       "4394  7395  1000000\n",
       "4395  7396  1000000\n",
       "4396  7397  1000000\n",
       "4397  7398  1000000\n",
       "\n",
       "[4398 rows x 2 columns]"
      ]
     },
     "execution_count": 81,
     "metadata": {},
     "output_type": "execute_result"
    }
   ],
   "source": [
    "# Read the sample submission file\n",
    "sub = pd.read_csv('sample_submission.csv')\n",
    "sub"
   ]
  },
  {
   "cell_type": "code",
   "execution_count": 108,
   "metadata": {},
   "outputs": [
    {
     "name": "stdout",
     "output_type": "stream",
     "text": [
      "[01:28:21] WARNING: src/objective/regression_obj.cu:152: reg:linear is now deprecated in favor of reg:squarederror.\n"
     ]
    },
    {
     "data": {
      "text/html": [
       "<div>\n",
       "<style scoped>\n",
       "    .dataframe tbody tr th:only-of-type {\n",
       "        vertical-align: middle;\n",
       "    }\n",
       "\n",
       "    .dataframe tbody tr th {\n",
       "        vertical-align: top;\n",
       "    }\n",
       "\n",
       "    .dataframe thead th {\n",
       "        text-align: right;\n",
       "    }\n",
       "</style>\n",
       "<table border=\"1\" class=\"dataframe\">\n",
       "  <thead>\n",
       "    <tr style=\"text-align: right;\">\n",
       "      <th></th>\n",
       "      <th>id</th>\n",
       "      <th>revenue</th>\n",
       "    </tr>\n",
       "  </thead>\n",
       "  <tbody>\n",
       "    <tr>\n",
       "      <th>0</th>\n",
       "      <td>3001</td>\n",
       "      <td>1023726.98</td>\n",
       "    </tr>\n",
       "    <tr>\n",
       "      <th>1</th>\n",
       "      <td>3002</td>\n",
       "      <td>1870288.52</td>\n",
       "    </tr>\n",
       "    <tr>\n",
       "      <th>2</th>\n",
       "      <td>3003</td>\n",
       "      <td>6258787.01</td>\n",
       "    </tr>\n",
       "    <tr>\n",
       "      <th>3</th>\n",
       "      <td>3004</td>\n",
       "      <td>4466821.11</td>\n",
       "    </tr>\n",
       "    <tr>\n",
       "      <th>4</th>\n",
       "      <td>3005</td>\n",
       "      <td>867052.29</td>\n",
       "    </tr>\n",
       "    <tr>\n",
       "      <th>...</th>\n",
       "      <td>...</td>\n",
       "      <td>...</td>\n",
       "    </tr>\n",
       "    <tr>\n",
       "      <th>4393</th>\n",
       "      <td>7394</td>\n",
       "      <td>38854367.26</td>\n",
       "    </tr>\n",
       "    <tr>\n",
       "      <th>4394</th>\n",
       "      <td>7395</td>\n",
       "      <td>33164324.57</td>\n",
       "    </tr>\n",
       "    <tr>\n",
       "      <th>4395</th>\n",
       "      <td>7396</td>\n",
       "      <td>39433025.67</td>\n",
       "    </tr>\n",
       "    <tr>\n",
       "      <th>4396</th>\n",
       "      <td>7397</td>\n",
       "      <td>9115519.10</td>\n",
       "    </tr>\n",
       "    <tr>\n",
       "      <th>4397</th>\n",
       "      <td>7398</td>\n",
       "      <td>854108.92</td>\n",
       "    </tr>\n",
       "  </tbody>\n",
       "</table>\n",
       "<p>4398 rows × 2 columns</p>\n",
       "</div>"
      ],
      "text/plain": [
       "        id      revenue\n",
       "0     3001   1023726.98\n",
       "1     3002   1870288.52\n",
       "2     3003   6258787.01\n",
       "3     3004   4466821.11\n",
       "4     3005    867052.29\n",
       "...    ...          ...\n",
       "4393  7394  38854367.26\n",
       "4394  7395  33164324.57\n",
       "4395  7396  39433025.67\n",
       "4396  7397   9115519.10\n",
       "4397  7398    854108.92\n",
       "\n",
       "[4398 rows x 2 columns]"
      ]
     },
     "execution_count": 108,
     "metadata": {},
     "output_type": "execute_result"
    }
   ],
   "source": [
    "classifier_final = 'combined' # Valid values = 'rf', 'xgb', 'lgb', 'combined'\n",
    "\n",
    "if classifier_final == 'rf':\n",
    "    # Random Forest Regression Model\n",
    "    rf = RandomForestRegressor(n_estimators = 25, \n",
    "                               min_samples_leaf = 10, \n",
    "                               max_features = 0.2, \n",
    "                               random_state = 42)\n",
    "    rf.fit(x, y)\n",
    "    predictions = rf.predict(x_test)\n",
    "    \n",
    "elif classifier_final == 'xgb':\n",
    "    # XGBoost model\n",
    "    xgboost = XGBRegressor(n_estimators=5500,\n",
    "                             learning_rate=0.01,\n",
    "                             )\n",
    "    xgboost.fit(x, y)\n",
    "    predictions = xgboost.predict(x_test)\n",
    "    \n",
    "elif classifier_final == 'lgb':\n",
    "    # Light GBM model\n",
    "    params = {'boosting_type':'gbdt',\n",
    "              'objective':'regression',\n",
    "              'max_depth':7,\n",
    "              'learning_rate':0.006}\n",
    "    lgb_train = lgb.Dataset(x,y)\n",
    "    gbm = lgb.train(params, \n",
    "                    lgb_train,\n",
    "                    num_boost_round=1000)\n",
    "    predictions = gbm.predict(x_test)\n",
    "    \n",
    "elif classifier_final == 'combined':\n",
    "    # Combining rf, xgb, lgb model \n",
    "    \n",
    "    # rf\n",
    "    rf = RandomForestRegressor(n_estimators = 25, \n",
    "                               min_samples_leaf = 5, \n",
    "                               max_features = 0.2, \n",
    "                               random_state = 42)\n",
    "    rf.fit(x, y)\n",
    "    predictions_rf = rf.predict(x_test)\n",
    "    \n",
    "    # xgb\n",
    "    xgboost = XGBRegressor(n_estimators=50000,\n",
    "                             learning_rate=0.001,\n",
    "                             max_depth=6)\n",
    "    xgboost.fit(x, y)\n",
    "    predictions_xgb = xgboost.predict(x_test)\n",
    "    \n",
    "    # lgb\n",
    "    params = {'boosting_type':'gbdt',\n",
    "              'objective':'regression',\n",
    "              'max_depth':6,\n",
    "              'learning_rate':0.01}\n",
    "    lgb_train = lgb.Dataset(x,y)\n",
    "    gbm = lgb.train(params, \n",
    "                    lgb_train,\n",
    "                    num_boost_round=500)\n",
    "    predictions_lgb = gbm.predict(x_test)\n",
    "    \n",
    "    predictions = (predictions_rf + predictions_xgb + predictions_lgb) / 3\n",
    "    \n",
    "# Recall 'y' target variable is a logarithmic transformation of original values!\n",
    "# Inverse transform and round predictions before submission\n",
    "sub['revenue'] = np.round(np.expm1(predictions), decimals = 2)\n",
    "sub.to_csv('ensemble_set1.csv', index=False)\n",
    "sub"
   ]
  },
  {
   "cell_type": "code",
   "execution_count": null,
   "metadata": {},
   "outputs": [],
   "source": []
  }
 ],
 "metadata": {
  "kernelspec": {
   "display_name": "Python 3",
   "language": "python",
   "name": "python3"
  },
  "language_info": {
   "codemirror_mode": {
    "name": "ipython",
    "version": 3
   },
   "file_extension": ".py",
   "mimetype": "text/x-python",
   "name": "python",
   "nbconvert_exporter": "python",
   "pygments_lexer": "ipython3",
   "version": "3.7.3"
  }
 },
 "nbformat": 4,
 "nbformat_minor": 4
}
